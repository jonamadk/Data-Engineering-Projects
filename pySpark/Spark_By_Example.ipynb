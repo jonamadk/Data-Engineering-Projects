{
  "nbformat": 4,
  "nbformat_minor": 0,
  "metadata": {
    "colab": {
      "provenance": []
    },
    "kernelspec": {
      "name": "python3",
      "display_name": "Python 3"
    },
    "language_info": {
      "name": "python"
    }
  },
  "cells": [
    {
      "cell_type": "code",
      "source": [
        "!pip install findspark\n",
        "!pip install pyspark"
      ],
      "metadata": {
        "colab": {
          "base_uri": "https://localhost:8080/"
        },
        "id": "tVxywzuzuWoD",
        "outputId": "2daaf31c-b372-41fa-eb09-2603cc74b10d"
      },
      "execution_count": 2,
      "outputs": [
        {
          "output_type": "stream",
          "name": "stdout",
          "text": [
            "Collecting findspark\n",
            "  Downloading findspark-2.0.1-py2.py3-none-any.whl (4.4 kB)\n",
            "Installing collected packages: findspark\n",
            "Successfully installed findspark-2.0.1\n",
            "Collecting pyspark\n",
            "  Downloading pyspark-3.5.1.tar.gz (317.0 MB)\n",
            "\u001b[2K     \u001b[90m━━━━━━━━━━━━━━━━━━━━━━━━━━━━━━━━━━━━━━━━\u001b[0m \u001b[32m317.0/317.0 MB\u001b[0m \u001b[31m4.3 MB/s\u001b[0m eta \u001b[36m0:00:00\u001b[0m\n",
            "\u001b[?25h  Preparing metadata (setup.py) ... \u001b[?25l\u001b[?25hdone\n",
            "Requirement already satisfied: py4j==0.10.9.7 in /usr/local/lib/python3.10/dist-packages (from pyspark) (0.10.9.7)\n",
            "Building wheels for collected packages: pyspark\n",
            "  Building wheel for pyspark (setup.py) ... \u001b[?25l\u001b[?25hdone\n",
            "  Created wheel for pyspark: filename=pyspark-3.5.1-py2.py3-none-any.whl size=317488491 sha256=36b45b8e17b8149fab04a9b7ef1b44668241233f84d2c304ca18cd5f97f32245\n",
            "  Stored in directory: /root/.cache/pip/wheels/80/1d/60/2c256ed38dddce2fdd93be545214a63e02fbd8d74fb0b7f3a6\n",
            "Successfully built pyspark\n",
            "Installing collected packages: pyspark\n",
            "Successfully installed pyspark-3.5.1\n"
          ]
        }
      ]
    },
    {
      "cell_type": "code",
      "source": [
        "import findspark\n",
        "findspark.init()\n"
      ],
      "metadata": {
        "id": "ofN1WYc2vYwJ"
      },
      "execution_count": 31,
      "outputs": []
    },
    {
      "cell_type": "code",
      "source": [
        "from pyspark import SparkContext"
      ],
      "metadata": {
        "id": "BO7dd1c4vpn4"
      },
      "execution_count": 32,
      "outputs": []
    },
    {
      "cell_type": "code",
      "source": [
        "from pyspark.sql import SparkSession\n",
        "\n",
        "# Initialize SparkSession\n",
        "spark = SparkSession.builder \\\n",
        "    .appName(\"CrimeDataAnalysis\") \\\n",
        "    .getOrCreate()\n",
        "\n",
        "# Now you can use the 'spark' variable to read CSV files or perform other Spark operations\n"
      ],
      "metadata": {
        "id": "8w7o6n7w2E8F"
      },
      "execution_count": 33,
      "outputs": []
    },
    {
      "cell_type": "code",
      "source": [
        "!wget https://data.cityofchicago.org/Public-Safety/Crimes-2001-to-Present/ijzp-q8t2/"
      ],
      "metadata": {
        "colab": {
          "base_uri": "https://localhost:8080/"
        },
        "id": "3yOaDVhuv0sY",
        "outputId": "45b1bd86-a536-4a55-cd2a-df61b7fb1734"
      },
      "execution_count": 34,
      "outputs": [
        {
          "output_type": "stream",
          "name": "stdout",
          "text": [
            "--2024-05-12 03:36:58--  https://data.cityofchicago.org/Public-Safety/Crimes-2001-to-Present/ijzp-q8t2/\n",
            "Resolving data.cityofchicago.org (data.cityofchicago.org)... 52.206.140.205, 52.206.140.199, 52.206.68.26\n",
            "Connecting to data.cityofchicago.org (data.cityofchicago.org)|52.206.140.205|:443... connected.\n",
            "HTTP request sent, awaiting response... 200 OK\n",
            "Length: unspecified [text/html]\n",
            "Saving to: ‘index.html.1’\n",
            "\n",
            "index.html.1            [  <=>               ] 771.94K  2.16MB/s    in 0.3s    \n",
            "\n",
            "2024-05-12 03:37:00 (2.16 MB/s) - ‘index.html.1’ saved [790469]\n",
            "\n"
          ]
        }
      ]
    },
    {
      "cell_type": "code",
      "source": [
        "from pyspark.sql.functions import to_timestamp,col,lit\n",
        "read_csv = spark.read.csv('sample_data/crime.csv', header=True)\n",
        "read_csv.show(5)\n"
      ],
      "metadata": {
        "colab": {
          "base_uri": "https://localhost:8080/"
        },
        "id": "8_ooVfKHzRpV",
        "outputId": "047e7693-e330-4bcb-f834-4ec521805dcd"
      },
      "execution_count": 85,
      "outputs": [
        {
          "output_type": "stream",
          "name": "stdout",
          "text": [
            "+--------+--------------------+--------------------+-----+--------------------+----------------------+---------------------+------+--------+----+----+------+------------+------------+------------+-------------+--------------------+\n",
            "|   CASE#| DATE  OF OCCURRENCE|               BLOCK| IUCR| PRIMARY DESCRIPTION| SECONDARY DESCRIPTION| LOCATION DESCRIPTION|ARREST|DOMESTIC|BEAT|WARD|FBI CD|X COORDINATE|Y COORDINATE|    LATITUDE|    LONGITUDE|            LOCATION|\n",
            "+--------+--------------------+--------------------+-----+--------------------+----------------------+---------------------+------+--------+----+----+------+------------+------------+------------+-------------+--------------------+\n",
            "|JG497095|11/08/2023 08:50:...| 025XX N KEDZIE BLVD| 0810|               THEFT|             OVER $500|               STREET|     N|       N|1414|  35|    06|     1154609|     1916759|41.927407329| -87.70729439|(41.927407329, -8...|\n",
            "|JG496991|11/08/2023 03:14:...| 0000X W CHICAGO AVE| 0560|             ASSAULT|                SIMPLE|               STREET|     N|       N|1832|  42|   08A|     1176106|     1905725|41.896671699|-87.628635323|(41.896671699, -8...|\n",
            "|JG497145|11/08/2023 10:55:...|     019XX W 47TH ST| 051A|             ASSAULT|  AGGRAVATED - HANDGUN|             SIDEWALK|     N|       N| 931|  15|   04A|     1164331|     1873509|41.808525157|-87.672792896|(41.808525157, -8...|\n",
            "|JH179051|03/07/2024 02:15:...|    070XX S STATE ST| 0820|               THEFT|        $500 AND UNDER|   GROCERY FOOD STORE|     Y|       N| 322|   6|    06|     1177506|     1858207|41.766246905|-87.624932618|(41.766246905, -8...|\n",
            "|JH178785|03/07/2024 04:53:...|077XX S CARPENTER ST| 0810|               THEFT|             OVER $500|               STREET|     N|       N| 612|  17|    06|     1170656|     1853451|41.753347902|-87.650178718|(41.753347902, -8...|\n",
            "+--------+--------------------+--------------------+-----+--------------------+----------------------+---------------------+------+--------+----+----+------+------------+------------+------------+-------------+--------------------+\n",
            "only showing top 5 rows\n",
            "\n"
          ]
        }
      ]
    },
    {
      "cell_type": "markdown",
      "source": [
        "**Schema Handling**"
      ],
      "metadata": {
        "id": "w5Rj_dvIv1qX"
      }
    },
    {
      "cell_type": "code",
      "source": [
        "read_csv.printSchema()"
      ],
      "metadata": {
        "colab": {
          "base_uri": "https://localhost:8080/"
        },
        "id": "a4igUvF_1P5t",
        "outputId": "5afe5690-9328-45e0-d631-0c95c5f4fe34"
      },
      "execution_count": 86,
      "outputs": [
        {
          "output_type": "stream",
          "name": "stdout",
          "text": [
            "root\n",
            " |-- CASE#: string (nullable = true)\n",
            " |-- DATE  OF OCCURRENCE: string (nullable = true)\n",
            " |-- BLOCK: string (nullable = true)\n",
            " |--  IUCR: string (nullable = true)\n",
            " |--  PRIMARY DESCRIPTION: string (nullable = true)\n",
            " |--  SECONDARY DESCRIPTION: string (nullable = true)\n",
            " |--  LOCATION DESCRIPTION: string (nullable = true)\n",
            " |-- ARREST: string (nullable = true)\n",
            " |-- DOMESTIC: string (nullable = true)\n",
            " |-- BEAT: string (nullable = true)\n",
            " |-- WARD: string (nullable = true)\n",
            " |-- FBI CD: string (nullable = true)\n",
            " |-- X COORDINATE: string (nullable = true)\n",
            " |-- Y COORDINATE: string (nullable = true)\n",
            " |-- LATITUDE: string (nullable = true)\n",
            " |-- LONGITUDE: string (nullable = true)\n",
            " |-- LOCATION: string (nullable = true)\n",
            "\n"
          ]
        }
      ]
    },
    {
      "cell_type": "code",
      "source": [
        "from pyspark.sql.types import StructType, StructField, StringType, TimestampType, BooleanType, DoubleType, IntegerType"
      ],
      "metadata": {
        "id": "D5UlpZOIKbmj"
      },
      "execution_count": 87,
      "outputs": []
    },
    {
      "cell_type": "code",
      "source": [
        "read_csv.columns"
      ],
      "metadata": {
        "colab": {
          "base_uri": "https://localhost:8080/"
        },
        "id": "HFxs_S6yKvTP",
        "outputId": "eb607a10-c4a3-4af0-eb92-360a22408e2b"
      },
      "execution_count": 88,
      "outputs": [
        {
          "output_type": "execute_result",
          "data": {
            "text/plain": [
              "['CASE#',\n",
              " 'DATE  OF OCCURRENCE',\n",
              " 'BLOCK',\n",
              " ' IUCR',\n",
              " ' PRIMARY DESCRIPTION',\n",
              " ' SECONDARY DESCRIPTION',\n",
              " ' LOCATION DESCRIPTION',\n",
              " 'ARREST',\n",
              " 'DOMESTIC',\n",
              " 'BEAT',\n",
              " 'WARD',\n",
              " 'FBI CD',\n",
              " 'X COORDINATE',\n",
              " 'Y COORDINATE',\n",
              " 'LATITUDE',\n",
              " 'LONGITUDE',\n",
              " 'LOCATION']"
            ]
          },
          "metadata": {},
          "execution_count": 88
        }
      ]
    },
    {
      "cell_type": "code",
      "source": [
        "labels= [('CASE#',StringType()),\n",
        "('BLOCK',StringType()),\n",
        "(' IUCR',StringType()),\n",
        "(' PRIMARY DESCRIPTION',StringType()),\n",
        "(' SECONDARY DESCRIPTION',StringType()),\n",
        "(' LOCATION DESCRIPTION',StringType()),\n",
        "('ARREST',StringType()),\n",
        "('DOMESTIC', BooleanType()),\n",
        "('BEAT', StringType()),\n",
        "('WARD',StringType()),\n",
        "('FBI CD', StringType()),\n",
        "('X COORDINATE',StringType()),\n",
        "('Y COORDINATE',StringType()),\n",
        "('LATITUDE', DoubleType()),\n",
        "('LONGITUDE', DoubleType()),\n",
        "('LOCATION', StringType())]"
      ],
      "metadata": {
        "id": "juMCNEYevFU1"
      },
      "execution_count": 89,
      "outputs": []
    },
    {
      "cell_type": "code",
      "source": [
        "schema = StructType([StructField(x[0],x[1],True) for x in labels])\n"
      ],
      "metadata": {
        "id": "cdaPQZatKomo"
      },
      "execution_count": 90,
      "outputs": []
    },
    {
      "cell_type": "code",
      "source": [
        "csv_df = spark.read.csv('sample_data/crime.csv', schema = schema)"
      ],
      "metadata": {
        "id": "cI2qClvovcby"
      },
      "execution_count": 91,
      "outputs": []
    },
    {
      "cell_type": "code",
      "source": [
        "csv_df.printSchema()"
      ],
      "metadata": {
        "colab": {
          "base_uri": "https://localhost:8080/"
        },
        "id": "gkl7-F8kvI3g",
        "outputId": "8ee13927-ee82-4940-ebaa-15cd78d44cef"
      },
      "execution_count": 92,
      "outputs": [
        {
          "output_type": "stream",
          "name": "stdout",
          "text": [
            "root\n",
            " |-- CASE#: string (nullable = true)\n",
            " |-- BLOCK: string (nullable = true)\n",
            " |--  IUCR: string (nullable = true)\n",
            " |--  PRIMARY DESCRIPTION: string (nullable = true)\n",
            " |--  SECONDARY DESCRIPTION: string (nullable = true)\n",
            " |--  LOCATION DESCRIPTION: string (nullable = true)\n",
            " |-- ARREST: string (nullable = true)\n",
            " |-- DOMESTIC: boolean (nullable = true)\n",
            " |-- BEAT: string (nullable = true)\n",
            " |-- WARD: string (nullable = true)\n",
            " |-- FBI CD: string (nullable = true)\n",
            " |-- X COORDINATE: string (nullable = true)\n",
            " |-- Y COORDINATE: string (nullable = true)\n",
            " |-- LATITUDE: double (nullable = true)\n",
            " |-- LONGITUDE: double (nullable = true)\n",
            " |-- LOCATION: string (nullable = true)\n",
            "\n"
          ]
        }
      ]
    },
    {
      "cell_type": "code",
      "source": [
        "# csv_df.show(5)"
      ],
      "metadata": {
        "id": "RxEw6dtrvYTo"
      },
      "execution_count": 93,
      "outputs": []
    },
    {
      "cell_type": "code",
      "source": [],
      "metadata": {
        "id": "3kTJeurZ1p4q"
      },
      "execution_count": 93,
      "outputs": []
    },
    {
      "cell_type": "markdown",
      "source": [
        "**Showing column**"
      ],
      "metadata": {
        "id": "ufOMyiio1nDR"
      }
    },
    {
      "cell_type": "code",
      "source": [
        "read_csv.select(' IUCR').show(5)"
      ],
      "metadata": {
        "colab": {
          "base_uri": "https://localhost:8080/"
        },
        "id": "Almkr0HTvwG0",
        "outputId": "6e3cffd4-81d3-4b25-f786-41cc429178cc"
      },
      "execution_count": 94,
      "outputs": [
        {
          "output_type": "stream",
          "name": "stdout",
          "text": [
            "+-----+\n",
            "| IUCR|\n",
            "+-----+\n",
            "| 0810|\n",
            "| 0560|\n",
            "| 051A|\n",
            "| 0820|\n",
            "| 0810|\n",
            "+-----+\n",
            "only showing top 5 rows\n",
            "\n"
          ]
        }
      ]
    },
    {
      "cell_type": "code",
      "source": [
        "read_csv.select(col(' IUCR')).show(5)"
      ],
      "metadata": {
        "colab": {
          "base_uri": "https://localhost:8080/"
        },
        "id": "DeJ7NBkB0uHR",
        "outputId": "bfd5247f-3268-49a6-9116-92718dac51e6"
      },
      "execution_count": 95,
      "outputs": [
        {
          "output_type": "stream",
          "name": "stdout",
          "text": [
            "+-----+\n",
            "| IUCR|\n",
            "+-----+\n",
            "| 0810|\n",
            "| 0560|\n",
            "| 051A|\n",
            "| 0820|\n",
            "| 0810|\n",
            "+-----+\n",
            "only showing top 5 rows\n",
            "\n"
          ]
        }
      ]
    },
    {
      "cell_type": "markdown",
      "source": [
        "**Showing multiple cols**"
      ],
      "metadata": {
        "id": "o0ghCxt_1for"
      }
    },
    {
      "cell_type": "code",
      "source": [
        "read_csv.select(' IUCR', ' PRIMARY DESCRIPTION', 'DOMESTIC').show(5)"
      ],
      "metadata": {
        "colab": {
          "base_uri": "https://localhost:8080/"
        },
        "id": "9556Sczc1GlX",
        "outputId": "631c08b0-b7c1-4b0a-bced-5274816c2e83"
      },
      "execution_count": 96,
      "outputs": [
        {
          "output_type": "stream",
          "name": "stdout",
          "text": [
            "+-----+--------------------+--------+\n",
            "| IUCR| PRIMARY DESCRIPTION|DOMESTIC|\n",
            "+-----+--------------------+--------+\n",
            "| 0810|               THEFT|       N|\n",
            "| 0560|             ASSAULT|       N|\n",
            "| 051A|             ASSAULT|       N|\n",
            "| 0820|               THEFT|       N|\n",
            "| 0810|               THEFT|       N|\n",
            "+-----+--------------------+--------+\n",
            "only showing top 5 rows\n",
            "\n"
          ]
        }
      ]
    },
    {
      "cell_type": "markdown",
      "source": [
        "**Add new column named NEW COL with all entries 1s"
      ],
      "metadata": {
        "id": "LESCKwrJ1w7s"
      }
    },
    {
      "cell_type": "code",
      "source": [
        "from pyspark.sql.functions import lit"
      ],
      "metadata": {
        "id": "28kvHOuy1eV7"
      },
      "execution_count": 97,
      "outputs": []
    },
    {
      "cell_type": "code",
      "source": [
        "read_csv.withColumn('NEW COLUMN', lit(1)).show(5)"
      ],
      "metadata": {
        "colab": {
          "base_uri": "https://localhost:8080/"
        },
        "id": "8W0QESCX1-9T",
        "outputId": "0f740c4b-8c21-48c0-86b7-738062d65df0"
      },
      "execution_count": 98,
      "outputs": [
        {
          "output_type": "stream",
          "name": "stdout",
          "text": [
            "+--------+--------------------+--------------------+-----+--------------------+----------------------+---------------------+------+--------+----+----+------+------------+------------+------------+-------------+--------------------+----------+\n",
            "|   CASE#| DATE  OF OCCURRENCE|               BLOCK| IUCR| PRIMARY DESCRIPTION| SECONDARY DESCRIPTION| LOCATION DESCRIPTION|ARREST|DOMESTIC|BEAT|WARD|FBI CD|X COORDINATE|Y COORDINATE|    LATITUDE|    LONGITUDE|            LOCATION|NEW COLUMN|\n",
            "+--------+--------------------+--------------------+-----+--------------------+----------------------+---------------------+------+--------+----+----+------+------------+------------+------------+-------------+--------------------+----------+\n",
            "|JG497095|11/08/2023 08:50:...| 025XX N KEDZIE BLVD| 0810|               THEFT|             OVER $500|               STREET|     N|       N|1414|  35|    06|     1154609|     1916759|41.927407329| -87.70729439|(41.927407329, -8...|         1|\n",
            "|JG496991|11/08/2023 03:14:...| 0000X W CHICAGO AVE| 0560|             ASSAULT|                SIMPLE|               STREET|     N|       N|1832|  42|   08A|     1176106|     1905725|41.896671699|-87.628635323|(41.896671699, -8...|         1|\n",
            "|JG497145|11/08/2023 10:55:...|     019XX W 47TH ST| 051A|             ASSAULT|  AGGRAVATED - HANDGUN|             SIDEWALK|     N|       N| 931|  15|   04A|     1164331|     1873509|41.808525157|-87.672792896|(41.808525157, -8...|         1|\n",
            "|JH179051|03/07/2024 02:15:...|    070XX S STATE ST| 0820|               THEFT|        $500 AND UNDER|   GROCERY FOOD STORE|     Y|       N| 322|   6|    06|     1177506|     1858207|41.766246905|-87.624932618|(41.766246905, -8...|         1|\n",
            "|JH178785|03/07/2024 04:53:...|077XX S CARPENTER ST| 0810|               THEFT|             OVER $500|               STREET|     N|       N| 612|  17|    06|     1170656|     1853451|41.753347902|-87.650178718|(41.753347902, -8...|         1|\n",
            "+--------+--------------------+--------------------+-----+--------------------+----------------------+---------------------+------+--------+----+----+------+------------+------------+------------+-------------+--------------------+----------+\n",
            "only showing top 5 rows\n",
            "\n"
          ]
        }
      ]
    },
    {
      "cell_type": "markdown",
      "source": [
        "**Dropping column ` IUCR`**"
      ],
      "metadata": {
        "id": "khYZtfG82IF6"
      }
    },
    {
      "cell_type": "code",
      "source": [
        "read_csv.drop(' IUCR').show(5)"
      ],
      "metadata": {
        "colab": {
          "base_uri": "https://localhost:8080/"
        },
        "id": "__7VwYhJ2FnD",
        "outputId": "6d9bcc43-2e1f-4bf3-86db-a4c3867d9cf2"
      },
      "execution_count": 99,
      "outputs": [
        {
          "output_type": "stream",
          "name": "stdout",
          "text": [
            "+--------+--------------------+--------------------+--------------------+----------------------+---------------------+------+--------+----+----+------+------------+------------+------------+-------------+--------------------+\n",
            "|   CASE#| DATE  OF OCCURRENCE|               BLOCK| PRIMARY DESCRIPTION| SECONDARY DESCRIPTION| LOCATION DESCRIPTION|ARREST|DOMESTIC|BEAT|WARD|FBI CD|X COORDINATE|Y COORDINATE|    LATITUDE|    LONGITUDE|            LOCATION|\n",
            "+--------+--------------------+--------------------+--------------------+----------------------+---------------------+------+--------+----+----+------+------------+------------+------------+-------------+--------------------+\n",
            "|JG497095|11/08/2023 08:50:...| 025XX N KEDZIE BLVD|               THEFT|             OVER $500|               STREET|     N|       N|1414|  35|    06|     1154609|     1916759|41.927407329| -87.70729439|(41.927407329, -8...|\n",
            "|JG496991|11/08/2023 03:14:...| 0000X W CHICAGO AVE|             ASSAULT|                SIMPLE|               STREET|     N|       N|1832|  42|   08A|     1176106|     1905725|41.896671699|-87.628635323|(41.896671699, -8...|\n",
            "|JG497145|11/08/2023 10:55:...|     019XX W 47TH ST|             ASSAULT|  AGGRAVATED - HANDGUN|             SIDEWALK|     N|       N| 931|  15|   04A|     1164331|     1873509|41.808525157|-87.672792896|(41.808525157, -8...|\n",
            "|JH179051|03/07/2024 02:15:...|    070XX S STATE ST|               THEFT|        $500 AND UNDER|   GROCERY FOOD STORE|     Y|       N| 322|   6|    06|     1177506|     1858207|41.766246905|-87.624932618|(41.766246905, -8...|\n",
            "|JH178785|03/07/2024 04:53:...|077XX S CARPENTER ST|               THEFT|             OVER $500|               STREET|     N|       N| 612|  17|    06|     1170656|     1853451|41.753347902|-87.650178718|(41.753347902, -8...|\n",
            "+--------+--------------------+--------------------+--------------------+----------------------+---------------------+------+--------+----+----+------+------------+------------+------------+-------------+--------------------+\n",
            "only showing top 5 rows\n",
            "\n"
          ]
        }
      ]
    },
    {
      "cell_type": "markdown",
      "source": [
        "#### WORKING WITH ROWS"
      ],
      "metadata": {
        "id": "yiGFoLby2Srt"
      }
    },
    {
      "cell_type": "code",
      "source": [
        "read_csv.select('DATE  OF OCCURRENCE').show(5)"
      ],
      "metadata": {
        "colab": {
          "base_uri": "https://localhost:8080/"
        },
        "id": "CldWzgp95thv",
        "outputId": "e31a89a4-8413-431d-dfba-0757cb8cce64"
      },
      "execution_count": 104,
      "outputs": [
        {
          "output_type": "stream",
          "name": "stdout",
          "text": [
            "+--------------------+\n",
            "| DATE  OF OCCURRENCE|\n",
            "+--------------------+\n",
            "|11/08/2023 08:50:...|\n",
            "|11/08/2023 03:14:...|\n",
            "|11/08/2023 10:55:...|\n",
            "|03/07/2024 02:15:...|\n",
            "|03/07/2024 04:53:...|\n",
            "+--------------------+\n",
            "only showing top 5 rows\n",
            "\n"
          ]
        }
      ]
    },
    {
      "cell_type": "markdown",
      "source": [
        "Filtering on Date"
      ],
      "metadata": {
        "id": "_p_D8v6d206H"
      }
    },
    {
      "cell_type": "code",
      "source": [
        "one_day_crime_df = read_csv.filter(col('DATE  OF OCCURRENCE').contains('11/09/2023'))\n",
        "one_day_crime_df.count()\n",
        "\n"
      ],
      "metadata": {
        "colab": {
          "base_uri": "https://localhost:8080/"
        },
        "id": "O7o1z7AY2QCZ",
        "outputId": "6c3f31ab-573d-4f4d-d246-590ca866d7ce"
      },
      "execution_count": 113,
      "outputs": [
        {
          "output_type": "execute_result",
          "data": {
            "text/plain": [
              "696"
            ]
          },
          "metadata": {},
          "execution_count": 113
        }
      ]
    },
    {
      "cell_type": "code",
      "source": [
        "one_day_crime_df.show(5)"
      ],
      "metadata": {
        "colab": {
          "base_uri": "https://localhost:8080/"
        },
        "id": "6SKqATcM6e7h",
        "outputId": "1a530185-eecf-4a25-b89a-1a05ae5b4b95"
      },
      "execution_count": 114,
      "outputs": [
        {
          "output_type": "stream",
          "name": "stdout",
          "text": [
            "+--------+--------------------+-------------------+-----+--------------------+----------------------+---------------------+------+--------+----+----+------+------------+------------+------------+-------------+--------------------+\n",
            "|   CASE#| DATE  OF OCCURRENCE|              BLOCK| IUCR| PRIMARY DESCRIPTION| SECONDARY DESCRIPTION| LOCATION DESCRIPTION|ARREST|DOMESTIC|BEAT|WARD|FBI CD|X COORDINATE|Y COORDINATE|    LATITUDE|    LONGITUDE|            LOCATION|\n",
            "+--------+--------------------+-------------------+-----+--------------------+----------------------+---------------------+------+--------+----+----+------+------------+------------+------------+-------------+--------------------+\n",
            "|JG497283|11/09/2023 12:00:...|  001XX N DAMEN AVE| 0810|               THEFT|             OVER $500| PARKING LOT / GAR...|     N|       N|1223|  27|    06|     1163055|     1900872|41.883638831|-87.676705638|(41.883638831, -8...|\n",
            "|JG503042|11/09/2023 12:00:...|  077XX S PEORIA ST| 2826|       OTHER OFFENSE|  HARASSMENT BY ELE...|            APARTMENT|     N|       N| 621|  17|    26|     1171650|     1853424|41.753252094|-87.646536874|(41.753252094, -8...|\n",
            "|JG519001|11/09/2023 10:00:...| 0000X S WABASH AVE| 1150|  DECEPTIVE PRACTICE|     CREDIT CARD FRAUD|   SMALL RETAIL STORE|     N|       N| 112|  34|    11|     1176813|     1900286|41.881730836|-87.626203285|(41.881730836, -8...|\n",
            "|JG530656|11/09/2023 12:00:...|068XX N SHERIDAN RD| 0820|               THEFT|        $500 AND UNDER|            APARTMENT|     N|       N|2431|  49|    06|     1166967|     1945507|42.006036283|-87.661054978|(42.006036283, -8...|\n",
            "|JG498353|11/09/2023 12:00:...|027XX W HARRISON ST| 0281|CRIMINAL SEXUAL A...|        NON-AGGRAVATED|            RESIDENCE|     N|       N|1135|  28|    02|     1158248|     1897253|41.873807522| -87.69445629|(41.873807522, -8...|\n",
            "+--------+--------------------+-------------------+-----+--------------------+----------------------+---------------------+------+--------+----+----+------+------------+------------+------------+-------------+--------------------+\n",
            "only showing top 5 rows\n",
            "\n"
          ]
        }
      ]
    },
    {
      "cell_type": "code",
      "source": [],
      "metadata": {
        "id": "52ASJg9N3kVP"
      },
      "execution_count": 100,
      "outputs": []
    }
  ]
}