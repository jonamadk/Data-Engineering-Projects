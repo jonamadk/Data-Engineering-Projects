{
  "nbformat": 4,
  "nbformat_minor": 0,
  "metadata": {
    "colab": {
      "provenance": []
    },
    "kernelspec": {
      "name": "python3",
      "display_name": "Python 3"
    },
    "language_info": {
      "name": "python"
    }
  },
  "cells": [
    {
      "cell_type": "code",
      "source": [
        "!pip install findspark\n",
        "!pip install pyspark"
      ],
      "metadata": {
        "colab": {
          "base_uri": "https://localhost:8080/"
        },
        "id": "tVxywzuzuWoD",
        "outputId": "2daaf31c-b372-41fa-eb09-2603cc74b10d"
      },
      "execution_count": 2,
      "outputs": [
        {
          "output_type": "stream",
          "name": "stdout",
          "text": [
            "Collecting findspark\n",
            "  Downloading findspark-2.0.1-py2.py3-none-any.whl (4.4 kB)\n",
            "Installing collected packages: findspark\n",
            "Successfully installed findspark-2.0.1\n",
            "Collecting pyspark\n",
            "  Downloading pyspark-3.5.1.tar.gz (317.0 MB)\n",
            "\u001b[2K     \u001b[90m━━━━━━━━━━━━━━━━━━━━━━━━━━━━━━━━━━━━━━━━\u001b[0m \u001b[32m317.0/317.0 MB\u001b[0m \u001b[31m4.3 MB/s\u001b[0m eta \u001b[36m0:00:00\u001b[0m\n",
            "\u001b[?25h  Preparing metadata (setup.py) ... \u001b[?25l\u001b[?25hdone\n",
            "Requirement already satisfied: py4j==0.10.9.7 in /usr/local/lib/python3.10/dist-packages (from pyspark) (0.10.9.7)\n",
            "Building wheels for collected packages: pyspark\n",
            "  Building wheel for pyspark (setup.py) ... \u001b[?25l\u001b[?25hdone\n",
            "  Created wheel for pyspark: filename=pyspark-3.5.1-py2.py3-none-any.whl size=317488491 sha256=36b45b8e17b8149fab04a9b7ef1b44668241233f84d2c304ca18cd5f97f32245\n",
            "  Stored in directory: /root/.cache/pip/wheels/80/1d/60/2c256ed38dddce2fdd93be545214a63e02fbd8d74fb0b7f3a6\n",
            "Successfully built pyspark\n",
            "Installing collected packages: pyspark\n",
            "Successfully installed pyspark-3.5.1\n"
          ]
        }
      ]
    },
    {
      "cell_type": "code",
      "source": [
        "import findspark\n",
        "findspark.init()\n"
      ],
      "metadata": {
        "id": "ofN1WYc2vYwJ"
      },
      "execution_count": 31,
      "outputs": []
    },
    {
      "cell_type": "code",
      "source": [
        "from pyspark import SparkContext"
      ],
      "metadata": {
        "id": "BO7dd1c4vpn4"
      },
      "execution_count": 32,
      "outputs": []
    },
    {
      "cell_type": "code",
      "source": [
        "from pyspark.sql import SparkSession\n",
        "\n",
        "# Initialize SparkSession\n",
        "spark = SparkSession.builder \\\n",
        "    .appName(\"CrimeDataAnalysis\") \\\n",
        "    .getOrCreate()\n",
        "\n",
        "# Now you can use the 'spark' variable to read CSV files or perform other Spark operations\n"
      ],
      "metadata": {
        "id": "8w7o6n7w2E8F"
      },
      "execution_count": 33,
      "outputs": []
    },
    {
      "cell_type": "code",
      "source": [
        "!wget https://data.cityofchicago.org/Public-Safety/Crimes-2001-to-Present/ijzp-q8t2/"
      ],
      "metadata": {
        "colab": {
          "base_uri": "https://localhost:8080/"
        },
        "id": "3yOaDVhuv0sY",
        "outputId": "45b1bd86-a536-4a55-cd2a-df61b7fb1734"
      },
      "execution_count": 34,
      "outputs": [
        {
          "output_type": "stream",
          "name": "stdout",
          "text": [
            "--2024-05-12 03:36:58--  https://data.cityofchicago.org/Public-Safety/Crimes-2001-to-Present/ijzp-q8t2/\n",
            "Resolving data.cityofchicago.org (data.cityofchicago.org)... 52.206.140.205, 52.206.140.199, 52.206.68.26\n",
            "Connecting to data.cityofchicago.org (data.cityofchicago.org)|52.206.140.205|:443... connected.\n",
            "HTTP request sent, awaiting response... 200 OK\n",
            "Length: unspecified [text/html]\n",
            "Saving to: ‘index.html.1’\n",
            "\n",
            "index.html.1            [  <=>               ] 771.94K  2.16MB/s    in 0.3s    \n",
            "\n",
            "2024-05-12 03:37:00 (2.16 MB/s) - ‘index.html.1’ saved [790469]\n",
            "\n"
          ]
        }
      ]
    },
    {
      "cell_type": "code",
      "source": [],
      "metadata": {
        "id": "h8hmYPxpBpSt"
      },
      "execution_count": null,
      "outputs": []
    },
    {
      "cell_type": "code",
      "source": [
        "from pyspark.sql.functions import to_timestamp,col,lit\n",
        "read_csv = spark.read.csv('sample_data/crime.csv', header=True).withColumn('DATE  OF OCCURRENCE', to_timestamp(col('DATE  OF OCCURRENCE'), 'MM/dd/yyyy hh:mm:ss a'))\n",
        "read_csv.show(5)\n"
      ],
      "metadata": {
        "colab": {
          "base_uri": "https://localhost:8080/"
        },
        "id": "8_ooVfKHzRpV",
        "outputId": "ada26332-8136-4955-e9ec-a0b5c1aa7c54"
      },
      "execution_count": 340,
      "outputs": [
        {
          "output_type": "stream",
          "name": "stdout",
          "text": [
            "+--------+-------------------+--------------------+-----+--------------------+----------------------+---------------------+------+--------+----+----+------+------------+------------+------------+-------------+--------------------+\n",
            "|   CASE#|DATE  OF OCCURRENCE|               BLOCK| IUCR| PRIMARY DESCRIPTION| SECONDARY DESCRIPTION| LOCATION DESCRIPTION|ARREST|DOMESTIC|BEAT|WARD|FBI CD|X COORDINATE|Y COORDINATE|    LATITUDE|    LONGITUDE|            LOCATION|\n",
            "+--------+-------------------+--------------------+-----+--------------------+----------------------+---------------------+------+--------+----+----+------+------------+------------+------------+-------------+--------------------+\n",
            "|JG497095|2023-11-08 20:50:00| 025XX N KEDZIE BLVD| 0810|               THEFT|             OVER $500|               STREET|     N|       N|1414|  35|    06|     1154609|     1916759|41.927407329| -87.70729439|(41.927407329, -8...|\n",
            "|JG496991|2023-11-08 15:14:00| 0000X W CHICAGO AVE| 0560|             ASSAULT|                SIMPLE|               STREET|     N|       N|1832|  42|   08A|     1176106|     1905725|41.896671699|-87.628635323|(41.896671699, -8...|\n",
            "|JG497145|2023-11-08 22:55:00|     019XX W 47TH ST| 051A|             ASSAULT|  AGGRAVATED - HANDGUN|             SIDEWALK|     N|       N| 931|  15|   04A|     1164331|     1873509|41.808525157|-87.672792896|(41.808525157, -8...|\n",
            "|JH179051|2024-03-07 14:15:00|    070XX S STATE ST| 0820|               THEFT|        $500 AND UNDER|   GROCERY FOOD STORE|     Y|       N| 322|   6|    06|     1177506|     1858207|41.766246905|-87.624932618|(41.766246905, -8...|\n",
            "|JH178785|2024-03-07 04:53:00|077XX S CARPENTER ST| 0810|               THEFT|             OVER $500|               STREET|     N|       N| 612|  17|    06|     1170656|     1853451|41.753347902|-87.650178718|(41.753347902, -8...|\n",
            "+--------+-------------------+--------------------+-----+--------------------+----------------------+---------------------+------+--------+----+----+------+------------+------------+------------+-------------+--------------------+\n",
            "only showing top 5 rows\n",
            "\n"
          ]
        }
      ]
    },
    {
      "cell_type": "markdown",
      "source": [
        "**Schema Handling**"
      ],
      "metadata": {
        "id": "w5Rj_dvIv1qX"
      }
    },
    {
      "cell_type": "code",
      "source": [
        "read_csv.printSchema()"
      ],
      "metadata": {
        "colab": {
          "base_uri": "https://localhost:8080/"
        },
        "id": "a4igUvF_1P5t",
        "outputId": "1d627be4-d6cc-4f1c-a8a6-2aeb56ba6447"
      },
      "execution_count": 341,
      "outputs": [
        {
          "output_type": "stream",
          "name": "stdout",
          "text": [
            "root\n",
            " |-- CASE#: string (nullable = true)\n",
            " |-- DATE  OF OCCURRENCE: timestamp (nullable = true)\n",
            " |-- BLOCK: string (nullable = true)\n",
            " |--  IUCR: string (nullable = true)\n",
            " |--  PRIMARY DESCRIPTION: string (nullable = true)\n",
            " |--  SECONDARY DESCRIPTION: string (nullable = true)\n",
            " |--  LOCATION DESCRIPTION: string (nullable = true)\n",
            " |-- ARREST: string (nullable = true)\n",
            " |-- DOMESTIC: string (nullable = true)\n",
            " |-- BEAT: string (nullable = true)\n",
            " |-- WARD: string (nullable = true)\n",
            " |-- FBI CD: string (nullable = true)\n",
            " |-- X COORDINATE: string (nullable = true)\n",
            " |-- Y COORDINATE: string (nullable = true)\n",
            " |-- LATITUDE: string (nullable = true)\n",
            " |-- LONGITUDE: string (nullable = true)\n",
            " |-- LOCATION: string (nullable = true)\n",
            "\n"
          ]
        }
      ]
    },
    {
      "cell_type": "code",
      "source": [
        "from pyspark.sql.types import StructType, StructField, StringType, TimestampType, BooleanType, DoubleType, IntegerType"
      ],
      "metadata": {
        "id": "D5UlpZOIKbmj"
      },
      "execution_count": 342,
      "outputs": []
    },
    {
      "cell_type": "code",
      "source": [
        "read_csv.columns"
      ],
      "metadata": {
        "colab": {
          "base_uri": "https://localhost:8080/"
        },
        "id": "HFxs_S6yKvTP",
        "outputId": "c3058107-cf2e-4e96-dd55-d52482d7cd2a"
      },
      "execution_count": 343,
      "outputs": [
        {
          "output_type": "execute_result",
          "data": {
            "text/plain": [
              "['CASE#',\n",
              " 'DATE  OF OCCURRENCE',\n",
              " 'BLOCK',\n",
              " ' IUCR',\n",
              " ' PRIMARY DESCRIPTION',\n",
              " ' SECONDARY DESCRIPTION',\n",
              " ' LOCATION DESCRIPTION',\n",
              " 'ARREST',\n",
              " 'DOMESTIC',\n",
              " 'BEAT',\n",
              " 'WARD',\n",
              " 'FBI CD',\n",
              " 'X COORDINATE',\n",
              " 'Y COORDINATE',\n",
              " 'LATITUDE',\n",
              " 'LONGITUDE',\n",
              " 'LOCATION']"
            ]
          },
          "metadata": {},
          "execution_count": 343
        }
      ]
    },
    {
      "cell_type": "code",
      "source": [
        "labels= [('CASE#',StringType()),\n",
        "('DATE  OF OCCURRENCE',TimestampType()),\n",
        "('BLOCK',StringType()),\n",
        "(' IUCR',StringType()),\n",
        "(' PRIMARY DESCRIPTION',StringType()),\n",
        "(' SECONDARY DESCRIPTION',StringType()),\n",
        "(' LOCATION DESCRIPTION',StringType()),\n",
        "('ARREST',StringType()),\n",
        "('DOMESTIC', BooleanType()),\n",
        "('BEAT', StringType()),\n",
        "('WARD',StringType()),\n",
        "('FBI CD', StringType()),\n",
        "('X COORDINATE',StringType()),\n",
        "('Y COORDINATE',StringType()),\n",
        "('LATITUDE', DoubleType()),\n",
        "('LONGITUDE', DoubleType()),\n",
        "('LOCATION', StringType())]"
      ],
      "metadata": {
        "id": "juMCNEYevFU1"
      },
      "execution_count": 344,
      "outputs": []
    },
    {
      "cell_type": "code",
      "source": [
        "schema = StructType([StructField(x[0],x[1],True) for x in labels])\n"
      ],
      "metadata": {
        "id": "cdaPQZatKomo"
      },
      "execution_count": 345,
      "outputs": []
    },
    {
      "cell_type": "code",
      "source": [
        "csv_df = spark.read.csv('sample_data/crime.csv', schema = schema)"
      ],
      "metadata": {
        "id": "cI2qClvovcby"
      },
      "execution_count": 346,
      "outputs": []
    },
    {
      "cell_type": "code",
      "source": [
        "csv_df.printSchema()"
      ],
      "metadata": {
        "colab": {
          "base_uri": "https://localhost:8080/"
        },
        "id": "gkl7-F8kvI3g",
        "outputId": "d69124dc-218f-4b8d-ed2b-34f84865429c"
      },
      "execution_count": 347,
      "outputs": [
        {
          "output_type": "stream",
          "name": "stdout",
          "text": [
            "root\n",
            " |-- CASE#: string (nullable = true)\n",
            " |-- DATE  OF OCCURRENCE: timestamp (nullable = true)\n",
            " |-- BLOCK: string (nullable = true)\n",
            " |--  IUCR: string (nullable = true)\n",
            " |--  PRIMARY DESCRIPTION: string (nullable = true)\n",
            " |--  SECONDARY DESCRIPTION: string (nullable = true)\n",
            " |--  LOCATION DESCRIPTION: string (nullable = true)\n",
            " |-- ARREST: string (nullable = true)\n",
            " |-- DOMESTIC: boolean (nullable = true)\n",
            " |-- BEAT: string (nullable = true)\n",
            " |-- WARD: string (nullable = true)\n",
            " |-- FBI CD: string (nullable = true)\n",
            " |-- X COORDINATE: string (nullable = true)\n",
            " |-- Y COORDINATE: string (nullable = true)\n",
            " |-- LATITUDE: double (nullable = true)\n",
            " |-- LONGITUDE: double (nullable = true)\n",
            " |-- LOCATION: string (nullable = true)\n",
            "\n"
          ]
        }
      ]
    },
    {
      "cell_type": "code",
      "source": [
        "csv_df.show(5)"
      ],
      "metadata": {
        "colab": {
          "base_uri": "https://localhost:8080/"
        },
        "id": "RxEw6dtrvYTo",
        "outputId": "247af46b-0002-4765-d463-2ee9c02aa207"
      },
      "execution_count": 348,
      "outputs": [
        {
          "output_type": "stream",
          "name": "stdout",
          "text": [
            "+--------+-------------------+-------------------+-----+--------------------+----------------------+---------------------+------+--------+----+----+------+------------+------------+------------+-------------+--------------------+\n",
            "|   CASE#|DATE  OF OCCURRENCE|              BLOCK| IUCR| PRIMARY DESCRIPTION| SECONDARY DESCRIPTION| LOCATION DESCRIPTION|ARREST|DOMESTIC|BEAT|WARD|FBI CD|X COORDINATE|Y COORDINATE|    LATITUDE|    LONGITUDE|            LOCATION|\n",
            "+--------+-------------------+-------------------+-----+--------------------+----------------------+---------------------+------+--------+----+----+------+------------+------------+------------+-------------+--------------------+\n",
            "|   CASE#|               NULL|              BLOCK| IUCR| PRIMARY DESCRIPTION|   SECONDARY DESCRI...|  LOCATION DESCRIP...|ARREST|    NULL|BEAT|WARD|FBI CD|X COORDINATE|Y COORDINATE|        NULL|         NULL|            LOCATION|\n",
            "|JG497095|               NULL|025XX N KEDZIE BLVD| 0810|               THEFT|             OVER $500|               STREET|     N|    NULL|1414|  35|    06|     1154609|     1916759|41.927407329| -87.70729439|(41.927407329, -8...|\n",
            "|JG496991|               NULL|0000X W CHICAGO AVE| 0560|             ASSAULT|                SIMPLE|               STREET|     N|    NULL|1832|  42|   08A|     1176106|     1905725|41.896671699|-87.628635323|(41.896671699, -8...|\n",
            "|JG497145|               NULL|    019XX W 47TH ST| 051A|             ASSAULT|  AGGRAVATED - HANDGUN|             SIDEWALK|     N|    NULL| 931|  15|   04A|     1164331|     1873509|41.808525157|-87.672792896|(41.808525157, -8...|\n",
            "|JH179051|               NULL|   070XX S STATE ST| 0820|               THEFT|        $500 AND UNDER|   GROCERY FOOD STORE|     Y|    NULL| 322|   6|    06|     1177506|     1858207|41.766246905|-87.624932618|(41.766246905, -8...|\n",
            "+--------+-------------------+-------------------+-----+--------------------+----------------------+---------------------+------+--------+----+----+------+------------+------------+------------+-------------+--------------------+\n",
            "only showing top 5 rows\n",
            "\n"
          ]
        }
      ]
    },
    {
      "cell_type": "code",
      "source": [],
      "metadata": {
        "id": "3kTJeurZ1p4q"
      },
      "execution_count": 348,
      "outputs": []
    },
    {
      "cell_type": "markdown",
      "source": [
        "**Showing column**"
      ],
      "metadata": {
        "id": "ufOMyiio1nDR"
      }
    },
    {
      "cell_type": "code",
      "source": [
        "read_csv.select(' IUCR').show(5)"
      ],
      "metadata": {
        "colab": {
          "base_uri": "https://localhost:8080/"
        },
        "id": "Almkr0HTvwG0",
        "outputId": "618c0116-5185-4fd1-ad2d-7935001a90cc"
      },
      "execution_count": 349,
      "outputs": [
        {
          "output_type": "stream",
          "name": "stdout",
          "text": [
            "+-----+\n",
            "| IUCR|\n",
            "+-----+\n",
            "| 0810|\n",
            "| 0560|\n",
            "| 051A|\n",
            "| 0820|\n",
            "| 0810|\n",
            "+-----+\n",
            "only showing top 5 rows\n",
            "\n"
          ]
        }
      ]
    },
    {
      "cell_type": "code",
      "source": [
        "read_csv.select(col(' IUCR')).show(5)"
      ],
      "metadata": {
        "colab": {
          "base_uri": "https://localhost:8080/"
        },
        "id": "DeJ7NBkB0uHR",
        "outputId": "4943c54e-5026-4481-b7ca-f1bf279f7ff4"
      },
      "execution_count": 350,
      "outputs": [
        {
          "output_type": "stream",
          "name": "stdout",
          "text": [
            "+-----+\n",
            "| IUCR|\n",
            "+-----+\n",
            "| 0810|\n",
            "| 0560|\n",
            "| 051A|\n",
            "| 0820|\n",
            "| 0810|\n",
            "+-----+\n",
            "only showing top 5 rows\n",
            "\n"
          ]
        }
      ]
    },
    {
      "cell_type": "markdown",
      "source": [
        "**Showing multiple cols**"
      ],
      "metadata": {
        "id": "o0ghCxt_1for"
      }
    },
    {
      "cell_type": "code",
      "source": [
        "read_csv.select(' IUCR', ' PRIMARY DESCRIPTION', 'DOMESTIC').show(5)"
      ],
      "metadata": {
        "colab": {
          "base_uri": "https://localhost:8080/"
        },
        "id": "9556Sczc1GlX",
        "outputId": "4f6f497c-d990-4be4-fcfb-75c58813f06b"
      },
      "execution_count": 351,
      "outputs": [
        {
          "output_type": "stream",
          "name": "stdout",
          "text": [
            "+-----+--------------------+--------+\n",
            "| IUCR| PRIMARY DESCRIPTION|DOMESTIC|\n",
            "+-----+--------------------+--------+\n",
            "| 0810|               THEFT|       N|\n",
            "| 0560|             ASSAULT|       N|\n",
            "| 051A|             ASSAULT|       N|\n",
            "| 0820|               THEFT|       N|\n",
            "| 0810|               THEFT|       N|\n",
            "+-----+--------------------+--------+\n",
            "only showing top 5 rows\n",
            "\n"
          ]
        }
      ]
    },
    {
      "cell_type": "markdown",
      "source": [
        "**Add new column named NEW COL with all entries 1s**"
      ],
      "metadata": {
        "id": "LESCKwrJ1w7s"
      }
    },
    {
      "cell_type": "code",
      "source": [
        "from pyspark.sql.functions import lit"
      ],
      "metadata": {
        "id": "28kvHOuy1eV7"
      },
      "execution_count": 352,
      "outputs": []
    },
    {
      "cell_type": "code",
      "source": [
        "read_csv.withColumn('NEW COLUMN', lit(1)).show(5)"
      ],
      "metadata": {
        "colab": {
          "base_uri": "https://localhost:8080/"
        },
        "id": "8W0QESCX1-9T",
        "outputId": "51a03697-6463-48e3-a960-144c7a3ac257"
      },
      "execution_count": 353,
      "outputs": [
        {
          "output_type": "stream",
          "name": "stdout",
          "text": [
            "+--------+-------------------+--------------------+-----+--------------------+----------------------+---------------------+------+--------+----+----+------+------------+------------+------------+-------------+--------------------+----------+\n",
            "|   CASE#|DATE  OF OCCURRENCE|               BLOCK| IUCR| PRIMARY DESCRIPTION| SECONDARY DESCRIPTION| LOCATION DESCRIPTION|ARREST|DOMESTIC|BEAT|WARD|FBI CD|X COORDINATE|Y COORDINATE|    LATITUDE|    LONGITUDE|            LOCATION|NEW COLUMN|\n",
            "+--------+-------------------+--------------------+-----+--------------------+----------------------+---------------------+------+--------+----+----+------+------------+------------+------------+-------------+--------------------+----------+\n",
            "|JG497095|2023-11-08 20:50:00| 025XX N KEDZIE BLVD| 0810|               THEFT|             OVER $500|               STREET|     N|       N|1414|  35|    06|     1154609|     1916759|41.927407329| -87.70729439|(41.927407329, -8...|         1|\n",
            "|JG496991|2023-11-08 15:14:00| 0000X W CHICAGO AVE| 0560|             ASSAULT|                SIMPLE|               STREET|     N|       N|1832|  42|   08A|     1176106|     1905725|41.896671699|-87.628635323|(41.896671699, -8...|         1|\n",
            "|JG497145|2023-11-08 22:55:00|     019XX W 47TH ST| 051A|             ASSAULT|  AGGRAVATED - HANDGUN|             SIDEWALK|     N|       N| 931|  15|   04A|     1164331|     1873509|41.808525157|-87.672792896|(41.808525157, -8...|         1|\n",
            "|JH179051|2024-03-07 14:15:00|    070XX S STATE ST| 0820|               THEFT|        $500 AND UNDER|   GROCERY FOOD STORE|     Y|       N| 322|   6|    06|     1177506|     1858207|41.766246905|-87.624932618|(41.766246905, -8...|         1|\n",
            "|JH178785|2024-03-07 04:53:00|077XX S CARPENTER ST| 0810|               THEFT|             OVER $500|               STREET|     N|       N| 612|  17|    06|     1170656|     1853451|41.753347902|-87.650178718|(41.753347902, -8...|         1|\n",
            "+--------+-------------------+--------------------+-----+--------------------+----------------------+---------------------+------+--------+----+----+------+------------+------------+------------+-------------+--------------------+----------+\n",
            "only showing top 5 rows\n",
            "\n"
          ]
        }
      ]
    },
    {
      "cell_type": "markdown",
      "source": [
        "**Dropping column ` IUCR`**"
      ],
      "metadata": {
        "id": "khYZtfG82IF6"
      }
    },
    {
      "cell_type": "code",
      "source": [
        "read_csv.drop(' IUCR').show(5)"
      ],
      "metadata": {
        "colab": {
          "base_uri": "https://localhost:8080/"
        },
        "id": "__7VwYhJ2FnD",
        "outputId": "cf280236-f3bf-4d45-d315-624d62da674b"
      },
      "execution_count": 354,
      "outputs": [
        {
          "output_type": "stream",
          "name": "stdout",
          "text": [
            "+--------+-------------------+--------------------+--------------------+----------------------+---------------------+------+--------+----+----+------+------------+------------+------------+-------------+--------------------+\n",
            "|   CASE#|DATE  OF OCCURRENCE|               BLOCK| PRIMARY DESCRIPTION| SECONDARY DESCRIPTION| LOCATION DESCRIPTION|ARREST|DOMESTIC|BEAT|WARD|FBI CD|X COORDINATE|Y COORDINATE|    LATITUDE|    LONGITUDE|            LOCATION|\n",
            "+--------+-------------------+--------------------+--------------------+----------------------+---------------------+------+--------+----+----+------+------------+------------+------------+-------------+--------------------+\n",
            "|JG497095|2023-11-08 20:50:00| 025XX N KEDZIE BLVD|               THEFT|             OVER $500|               STREET|     N|       N|1414|  35|    06|     1154609|     1916759|41.927407329| -87.70729439|(41.927407329, -8...|\n",
            "|JG496991|2023-11-08 15:14:00| 0000X W CHICAGO AVE|             ASSAULT|                SIMPLE|               STREET|     N|       N|1832|  42|   08A|     1176106|     1905725|41.896671699|-87.628635323|(41.896671699, -8...|\n",
            "|JG497145|2023-11-08 22:55:00|     019XX W 47TH ST|             ASSAULT|  AGGRAVATED - HANDGUN|             SIDEWALK|     N|       N| 931|  15|   04A|     1164331|     1873509|41.808525157|-87.672792896|(41.808525157, -8...|\n",
            "|JH179051|2024-03-07 14:15:00|    070XX S STATE ST|               THEFT|        $500 AND UNDER|   GROCERY FOOD STORE|     Y|       N| 322|   6|    06|     1177506|     1858207|41.766246905|-87.624932618|(41.766246905, -8...|\n",
            "|JH178785|2024-03-07 04:53:00|077XX S CARPENTER ST|               THEFT|             OVER $500|               STREET|     N|       N| 612|  17|    06|     1170656|     1853451|41.753347902|-87.650178718|(41.753347902, -8...|\n",
            "+--------+-------------------+--------------------+--------------------+----------------------+---------------------+------+--------+----+----+------+------------+------------+------------+-------------+--------------------+\n",
            "only showing top 5 rows\n",
            "\n"
          ]
        }
      ]
    },
    {
      "cell_type": "markdown",
      "source": [
        "#### WORKING WITH ROWS"
      ],
      "metadata": {
        "id": "yiGFoLby2Srt"
      }
    },
    {
      "cell_type": "code",
      "source": [
        "read_csv.select('DATE  OF OCCURRENCE').show(5)"
      ],
      "metadata": {
        "colab": {
          "base_uri": "https://localhost:8080/"
        },
        "id": "CldWzgp95thv",
        "outputId": "eac02fb4-36c9-4683-80d4-0e117181e79d"
      },
      "execution_count": 355,
      "outputs": [
        {
          "output_type": "stream",
          "name": "stdout",
          "text": [
            "+-------------------+\n",
            "|DATE  OF OCCURRENCE|\n",
            "+-------------------+\n",
            "|2023-11-08 20:50:00|\n",
            "|2023-11-08 15:14:00|\n",
            "|2023-11-08 22:55:00|\n",
            "|2024-03-07 14:15:00|\n",
            "|2024-03-07 04:53:00|\n",
            "+-------------------+\n",
            "only showing top 5 rows\n",
            "\n"
          ]
        }
      ]
    },
    {
      "cell_type": "markdown",
      "source": [
        "Filtering on Date"
      ],
      "metadata": {
        "id": "_p_D8v6d206H"
      }
    },
    {
      "cell_type": "code",
      "source": [
        "one_day_crime_df = read_csv.filter(col('DATE  OF OCCURRENCE').contains('2023-11-01'))\n",
        "one_day_crime_df.count()\n",
        "\n"
      ],
      "metadata": {
        "colab": {
          "base_uri": "https://localhost:8080/"
        },
        "id": "O7o1z7AY2QCZ",
        "outputId": "97bbfff7-96c9-4ffb-ff9b-d12920e2b392"
      },
      "execution_count": 356,
      "outputs": [
        {
          "output_type": "execute_result",
          "data": {
            "text/plain": [
              "772"
            ]
          },
          "metadata": {},
          "execution_count": 356
        }
      ]
    },
    {
      "cell_type": "code",
      "source": [
        "one_day_crime_df.show(5)"
      ],
      "metadata": {
        "colab": {
          "base_uri": "https://localhost:8080/"
        },
        "id": "6SKqATcM6e7h",
        "outputId": "3bf40c7e-7136-4daa-ecee-2f14b31db2fa"
      },
      "execution_count": 357,
      "outputs": [
        {
          "output_type": "stream",
          "name": "stdout",
          "text": [
            "+--------+-------------------+--------------------+-----+--------------------+----------------------+---------------------+------+--------+----+----+------+------------+------------+------------+-------------+--------------------+\n",
            "|   CASE#|DATE  OF OCCURRENCE|               BLOCK| IUCR| PRIMARY DESCRIPTION| SECONDARY DESCRIPTION| LOCATION DESCRIPTION|ARREST|DOMESTIC|BEAT|WARD|FBI CD|X COORDINATE|Y COORDINATE|    LATITUDE|    LONGITUDE|            LOCATION|\n",
            "+--------+-------------------+--------------------+-----+--------------------+----------------------+---------------------+------+--------+----+----+------+------------+------------+------------+-------------+--------------------+\n",
            "|JG503603|2023-11-01 21:00:00|   024XX W FITCH AVE| 0930| MOTOR VEHICLE THEFT|  THEFT / RECOVERY ...| VEHICLE NON-COMME...|     N|       N|2411|  50|    07|     1158863|     1947386|42.011363066|-87.690818628|(42.011363066, -8...|\n",
            "|JG518441|2023-11-01 07:00:00|044XX S DR MARTIN...| 1562|         SEX OFFENSE|  AGGRAVATED CRIMIN...| SCHOOL - PUBLIC B...|     N|       N| 221|   3|    17|     1179599|     1875714|  41.8142402| -87.61672621|(41.8142402, -87....|\n",
            "|JG487477|2023-11-01 16:08:00|     022XX E 73RD ST| 0820|               THEFT|        $500 AND UNDER|               STREET|     Y|       N| 333|   5|    06|     1192616|     1857002|41.762585454|-87.569589071|(41.762585454, -8...|\n",
            "|JG548442|2023-11-01 13:00:00|050XX W HENDERSON ST| 5002|       OTHER OFFENSE|  OTHER VEHICLE OFF...|               STREET|     N|       N|1634|  31|    26|     1142242|     1921804|41.941490088|-87.752612995|(41.941490088, -8...|\n",
            "|JG504005|2023-11-01 00:00:00|     025XX W 66TH ST| 1320|     CRIMINAL DAMAGE|            TO VEHICLE|               STREET|     N|       N| 832|  16|    14|     1160403|     1860801|41.773734648|-87.687550095|(41.773734648, -8...|\n",
            "+--------+-------------------+--------------------+-----+--------------------+----------------------+---------------------+------+--------+----+----+------+------------+------------+------------+-------------+--------------------+\n",
            "only showing top 5 rows\n",
            "\n"
          ]
        }
      ]
    },
    {
      "cell_type": "code",
      "source": [
        "one_day_crime_df.count()"
      ],
      "metadata": {
        "colab": {
          "base_uri": "https://localhost:8080/"
        },
        "id": "alin5Xfj-qdG",
        "outputId": "8efd6e0e-7357-4da6-a2b5-dbc15870cbc7"
      },
      "execution_count": 358,
      "outputs": [
        {
          "output_type": "execute_result",
          "data": {
            "text/plain": [
              "772"
            ]
          },
          "metadata": {},
          "execution_count": 358
        }
      ]
    },
    {
      "cell_type": "code",
      "source": [
        "read_csv.count()"
      ],
      "metadata": {
        "colab": {
          "base_uri": "https://localhost:8080/"
        },
        "id": "iakhDBWa-pMU",
        "outputId": "184605a4-1b99-4a5c-8a99-e0e1e438e264"
      },
      "execution_count": 359,
      "outputs": [
        {
          "output_type": "execute_result",
          "data": {
            "text/plain": [
              "211996"
            ]
          },
          "metadata": {},
          "execution_count": 359
        }
      ]
    },
    {
      "cell_type": "code",
      "source": [
        "new_csv = read_csv.union(one_day_crime_df)"
      ],
      "metadata": {
        "id": "RoaQRNfq9vwl"
      },
      "execution_count": 360,
      "outputs": []
    },
    {
      "cell_type": "code",
      "source": [
        "new_csv.count()"
      ],
      "metadata": {
        "colab": {
          "base_uri": "https://localhost:8080/"
        },
        "id": "j6QpUbJq-WNv",
        "outputId": "fc492232-c171-47a6-f8d3-d01568fe285c"
      },
      "execution_count": 361,
      "outputs": [
        {
          "output_type": "execute_result",
          "data": {
            "text/plain": [
              "212768"
            ]
          },
          "metadata": {},
          "execution_count": 361
        }
      ]
    },
    {
      "cell_type": "code",
      "source": [
        "new_csv.orderBy('DATE  OF OCCURRENCE',ascending = False ).show(5)"
      ],
      "metadata": {
        "colab": {
          "base_uri": "https://localhost:8080/"
        },
        "id": "EtHCXRSh_jRu",
        "outputId": "1ea8a34b-1864-4f91-ec71-ab55d9dcf6e7"
      },
      "execution_count": 362,
      "outputs": [
        {
          "output_type": "stream",
          "name": "stdout",
          "text": [
            "+--------+-------------------+--------------------+-----+--------------------+----------------------+---------------------+------+--------+----+----+------+------------+------------+------------+-------------+--------------------+\n",
            "|   CASE#|DATE  OF OCCURRENCE|               BLOCK| IUCR| PRIMARY DESCRIPTION| SECONDARY DESCRIPTION| LOCATION DESCRIPTION|ARREST|DOMESTIC|BEAT|WARD|FBI CD|X COORDINATE|Y COORDINATE|    LATITUDE|    LONGITUDE|            LOCATION|\n",
            "+--------+-------------------+--------------------+-----+--------------------+----------------------+---------------------+------+--------+----+----+------+------------+------------+------------+-------------+--------------------+\n",
            "|JH248763|2024-05-03 00:00:00|079XX S MUSKEGON AVE| 0281|CRIMINAL SEXUAL A...|        NON-AGGRAVATED|            APARTMENT|     N|       N| 422|   7|    02|     1196551|     1852808|41.750980041|-87.555306017|(41.750980041, -8...|\n",
            "|JH248661|2024-05-03 00:00:00|     001XX E 43RD ST| 2820|       OTHER OFFENSE|      TELEPHONE THREAT|            RESIDENCE|     N|       N| 215|   3|   08A|     1178002|     1876542|41.816548698|-87.622558996|(41.816548698, -8...|\n",
            "|JH248550|2024-05-03 00:00:00|028XX W WABANSIA AVE| 2027|           NARCOTICS|       POSSESS - CRACK|               STREET|     N|       N|1421|  26|    18|     1157030|     1911289|41.912348372|-87.698546954|(41.912348372, -8...|\n",
            "|JH256738|2024-05-03 00:00:00|     064XX W 63RD PL| 0810|               THEFT|             OVER $500|               STREET|     N|       N| 812|  13|    06|        NULL|        NULL|        NULL|         NULL|                NULL|\n",
            "|JH249090|2024-05-03 00:00:00|   003XX E WACKER DR| 1330|   CRIMINAL TRESPASS|               TO LAND| COMMERCIAL / BUSI...|     N|       N| 114|  42|    26|     1178335|     1902515|41.887812777|-87.620546628|(41.887812777, -8...|\n",
            "+--------+-------------------+--------------------+-----+--------------------+----------------------+---------------------+------+--------+----+----+------+------------+------------+------------+-------------+--------------------+\n",
            "only showing top 5 rows\n",
            "\n"
          ]
        }
      ]
    },
    {
      "cell_type": "code",
      "source": [
        "crime_type = read_csv.select(' PRIMARY DESCRIPTION').distinct()"
      ],
      "metadata": {
        "id": "52ASJg9N3kVP"
      },
      "execution_count": 363,
      "outputs": []
    },
    {
      "cell_type": "code",
      "source": [
        "crime_type.count()\n"
      ],
      "metadata": {
        "colab": {
          "base_uri": "https://localhost:8080/"
        },
        "id": "ukyGvuxd7f_z",
        "outputId": "6542b865-daa0-4f79-c377-573c16ae65f5"
      },
      "execution_count": 364,
      "outputs": [
        {
          "output_type": "execute_result",
          "data": {
            "text/plain": [
              "31"
            ]
          },
          "metadata": {},
          "execution_count": 364
        }
      ]
    },
    {
      "cell_type": "code",
      "source": [
        "crime_type_list = crime_type.select(' PRIMARY DESCRIPTION').collect()\n",
        "crime_list = [row[' PRIMARY DESCRIPTION'] for row in crime_type_list]\n",
        "print(crime_list)"
      ],
      "metadata": {
        "colab": {
          "base_uri": "https://localhost:8080/"
        },
        "id": "U87Zh7Xk8FF0",
        "outputId": "a2331030-6d04-4a37-ca45-5ddb445f8c9e"
      },
      "execution_count": 365,
      "outputs": [
        {
          "output_type": "stream",
          "name": "stdout",
          "text": [
            "['OFFENSE INVOLVING CHILDREN', 'CRIMINAL SEXUAL ASSAULT', 'STALKING', 'PUBLIC PEACE VIOLATION', 'OBSCENITY', 'ARSON', 'GAMBLING', 'CRIMINAL TRESPASS', 'ASSAULT', 'LIQUOR LAW VIOLATION', 'MOTOR VEHICLE THEFT', 'THEFT', 'BATTERY', 'ROBBERY', 'HOMICIDE', 'PUBLIC INDECENCY', 'HUMAN TRAFFICKING', 'INTIMIDATION', 'PROSTITUTION', 'DECEPTIVE PRACTICE', 'CONCEALED CARRY LICENSE VIOLATION', 'SEX OFFENSE', 'CRIMINAL DAMAGE', 'NARCOTICS', 'NON-CRIMINAL', 'OTHER OFFENSE', 'KIDNAPPING', 'BURGLARY', 'WEAPONS VIOLATION', 'INTERFERENCE WITH PUBLIC OFFICER', 'OTHER NARCOTIC VIOLATION']\n"
          ]
        }
      ]
    },
    {
      "cell_type": "markdown",
      "source": [
        "**Top 10 number of reported crimes by Primary type in descending order of occurance**"
      ],
      "metadata": {
        "id": "kAXqs_V_CqMF"
      }
    },
    {
      "cell_type": "code",
      "source": [],
      "metadata": {
        "id": "Osg_oog6Csaq"
      },
      "execution_count": null,
      "outputs": []
    }
  ]
}