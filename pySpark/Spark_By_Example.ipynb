{
  "nbformat": 4,
  "nbformat_minor": 0,
  "metadata": {
    "colab": {
      "provenance": []
    },
    "kernelspec": {
      "name": "python3",
      "display_name": "Python 3"
    },
    "language_info": {
      "name": "python"
    }
  },
  "cells": [
    {
      "cell_type": "code",
      "source": [
        "import findspark\n",
        "findspark.init()\n"
      ],
      "metadata": {
        "id": "ofN1WYc2vYwJ"
      },
      "execution_count": 22,
      "outputs": []
    },
    {
      "cell_type": "code",
      "source": [
        "from pyspark import SparkContext"
      ],
      "metadata": {
        "id": "BO7dd1c4vpn4"
      },
      "execution_count": 23,
      "outputs": []
    },
    {
      "cell_type": "code",
      "source": [
        "from pyspark.sql import SparkSession\n",
        "\n",
        "# Initialize SparkSession\n",
        "spark = SparkSession.builder \\\n",
        "    .appName(\"CrimeDataAnalysis\") \\\n",
        "    .getOrCreate()\n",
        "\n",
        "# Now you can use the 'spark' variable to read CSV files or perform other Spark operations\n"
      ],
      "metadata": {
        "id": "8w7o6n7w2E8F"
      },
      "execution_count": 33,
      "outputs": []
    },
    {
      "cell_type": "code",
      "source": [
        "!wget https://data.cityofchicago.org/Public-Safety/Crimes-2001-to-Present/ijzp-q8t2/"
      ],
      "metadata": {
        "colab": {
          "base_uri": "https://localhost:8080/"
        },
        "id": "3yOaDVhuv0sY",
        "outputId": "a5fd1dc2-6032-484b-8845-4b3612bfe6a5"
      },
      "execution_count": 27,
      "outputs": [
        {
          "output_type": "stream",
          "name": "stdout",
          "text": [
            "--2024-05-11 17:58:30--  https://data.cityofchicago.org/Public-Safety/Crimes-2001-to-Present/ijzp-q8t2/rows.csv?accessType=DOWNLOAD\n",
            "Resolving data.cityofchicago.org (data.cityofchicago.org)... 52.206.140.205, 52.206.140.199, 52.206.68.26\n",
            "Connecting to data.cityofchicago.org (data.cityofchicago.org)|52.206.140.205|:443... connected.\n",
            "HTTP request sent, awaiting response... 404 Not Found\n",
            "2024-05-11 17:58:30 ERROR 404: Not Found.\n",
            "\n"
          ]
        }
      ]
    },
    {
      "cell_type": "code",
      "source": [
        "from pyspark.sql.functions import to_timestamp,col,lit\n",
        "read_csv = spark.read.csv('sample_data/crime.csv', header=True)\n",
        "read_csv.show(5)\n"
      ],
      "metadata": {
        "colab": {
          "base_uri": "https://localhost:8080/"
        },
        "id": "8_ooVfKHzRpV",
        "outputId": "50c887ff-e6a3-4837-bf92-f98475f36ba5"
      },
      "execution_count": 36,
      "outputs": [
        {
          "output_type": "stream",
          "name": "stdout",
          "text": [
            "+--------+--------------------+--------------------+-----+--------------------+----------------------+---------------------+------+--------+----+----+------+------------+------------+------------+-------------+--------------------+\n",
            "|   CASE#| DATE  OF OCCURRENCE|               BLOCK| IUCR| PRIMARY DESCRIPTION| SECONDARY DESCRIPTION| LOCATION DESCRIPTION|ARREST|DOMESTIC|BEAT|WARD|FBI CD|X COORDINATE|Y COORDINATE|    LATITUDE|    LONGITUDE|            LOCATION|\n",
            "+--------+--------------------+--------------------+-----+--------------------+----------------------+---------------------+------+--------+----+----+------+------------+------------+------------+-------------+--------------------+\n",
            "|JG497095|11/08/2023 08:50:...| 025XX N KEDZIE BLVD| 0810|               THEFT|             OVER $500|               STREET|     N|       N|1414|  35|    06|     1154609|     1916759|41.927407329| -87.70729439|(41.927407329, -8...|\n",
            "|JG496991|11/08/2023 03:14:...| 0000X W CHICAGO AVE| 0560|             ASSAULT|                SIMPLE|               STREET|     N|       N|1832|  42|   08A|     1176106|     1905725|41.896671699|-87.628635323|(41.896671699, -8...|\n",
            "|JG497145|11/08/2023 10:55:...|     019XX W 47TH ST| 051A|             ASSAULT|  AGGRAVATED - HANDGUN|             SIDEWALK|     N|       N| 931|  15|   04A|     1164331|     1873509|41.808525157|-87.672792896|(41.808525157, -8...|\n",
            "|JH179051|03/07/2024 02:15:...|    070XX S STATE ST| 0820|               THEFT|        $500 AND UNDER|   GROCERY FOOD STORE|     Y|       N| 322|   6|    06|     1177506|     1858207|41.766246905|-87.624932618|(41.766246905, -8...|\n",
            "|JH178785|03/07/2024 04:53:...|077XX S CARPENTER ST| 0810|               THEFT|             OVER $500|               STREET|     N|       N| 612|  17|    06|     1170656|     1853451|41.753347902|-87.650178718|(41.753347902, -8...|\n",
            "+--------+--------------------+--------------------+-----+--------------------+----------------------+---------------------+------+--------+----+----+------+------------+------------+------------+-------------+--------------------+\n",
            "only showing top 5 rows\n",
            "\n"
          ]
        }
      ]
    },
    {
      "cell_type": "code",
      "source": [],
      "metadata": {
        "id": "a4igUvF_1P5t"
      },
      "execution_count": null,
      "outputs": []
    }
  ]
}