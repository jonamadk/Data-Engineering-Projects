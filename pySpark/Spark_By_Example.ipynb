{
  "nbformat": 4,
  "nbformat_minor": 0,
  "metadata": {
    "colab": {
      "provenance": []
    },
    "kernelspec": {
      "name": "python3",
      "display_name": "Python 3"
    },
    "language_info": {
      "name": "python"
    }
  },
  "cells": [
    {
      "cell_type": "code",
      "source": [
        "!pip install findspark\n",
        "!pip install pyspark"
      ],
      "metadata": {
        "colab": {
          "base_uri": "https://localhost:8080/"
        },
        "id": "tVxywzuzuWoD",
        "outputId": "cc8c130e-5c61-4ce1-b556-39a47b326a5b"
      },
      "execution_count": 484,
      "outputs": [
        {
          "output_type": "stream",
          "name": "stdout",
          "text": [
            "Requirement already satisfied: findspark in /usr/local/lib/python3.10/dist-packages (2.0.1)\n",
            "Requirement already satisfied: pyspark in /usr/local/lib/python3.10/dist-packages (3.5.1)\n",
            "Requirement already satisfied: py4j==0.10.9.7 in /usr/local/lib/python3.10/dist-packages (from pyspark) (0.10.9.7)\n"
          ]
        }
      ]
    },
    {
      "cell_type": "code",
      "source": [
        "import findspark\n",
        "findspark.init()\n"
      ],
      "metadata": {
        "id": "ofN1WYc2vYwJ"
      },
      "execution_count": 485,
      "outputs": []
    },
    {
      "cell_type": "code",
      "source": [
        "from pyspark import SparkContext"
      ],
      "metadata": {
        "id": "BO7dd1c4vpn4"
      },
      "execution_count": 486,
      "outputs": []
    },
    {
      "cell_type": "code",
      "source": [
        "from pyspark.sql import SparkSession\n",
        "\n",
        "# Initialize SparkSession\n",
        "spark = SparkSession.builder \\\n",
        "    .appName(\"CrimeDataAnalysis\") \\\n",
        "    .getOrCreate()\n",
        "\n",
        "# Now you can use the 'spark' variable to read CSV files or perform other Spark operations\n"
      ],
      "metadata": {
        "id": "8w7o6n7w2E8F"
      },
      "execution_count": 487,
      "outputs": []
    },
    {
      "cell_type": "code",
      "source": [
        "from pyspark.sql.functions import to_timestamp,col,lit\n",
        "read_csv = spark.read.csv('sample_data/crime.csv', header=True).withColumn('Date', to_timestamp(col('Date'), 'MM/dd/yyyy hh:mm:ss a'))\n",
        "read_csv.show(5)\n"
      ],
      "metadata": {
        "colab": {
          "base_uri": "https://localhost:8080/"
        },
        "id": "8_ooVfKHzRpV",
        "outputId": "ebc396ba-01a4-4c8f-f53d-065db0759e2d"
      },
      "execution_count": 594,
      "outputs": [
        {
          "output_type": "stream",
          "name": "stdout",
          "text": [
            "+--------+-----------+-------------------+-------------------+----+--------------------+--------------------+--------------------+------+--------+----+--------+----+--------------+--------+------------+------------+----+--------------------+--------+---------+--------+\n",
            "|      ID|Case Number|               Date|              Block|IUCR|        Primary Type|         Description|Location Description|Arrest|Domestic|Beat|District|Ward|Community Area|FBI Code|X Coordinate|Y Coordinate|Year|          Updated On|Latitude|Longitude|Location|\n",
            "+--------+-----------+-------------------+-------------------+----+--------------------+--------------------+--------------------+------+--------+----+--------+----+--------------+--------+------------+------------+----+--------------------+--------+---------+--------+\n",
            "|12536164|   JE439378|2015-09-24 00:00:00|    031XX W 53RD PL|1753|OFFENSE INVOLVING...|SEXUAL ASSAULT OF...|           APARTMENT| false|    true|0923|     009|  14|            63|      02|        NULL|        NULL|2015|09/14/2023 03:41:...|    NULL|     NULL|    NULL|\n",
            "|13188119|   JG397237|2015-05-15 00:00:00|    041XX W 24TH PL|1754|OFFENSE INVOLVING...|AGGRAVATED SEXUAL...|           APARTMENT|  true|    true|1013|     010|  22|            30|      02|        NULL|        NULL|2015|09/14/2023 03:41:...|    NULL|     NULL|    NULL|\n",
            "|13193781|   JG397432|2015-06-18 00:00:00|031XX S KOSTNER AVE|1752|OFFENSE INVOLVING...|AGGRAVATED CRIMIN...|           RESIDENCE| false|    true|1031|     010|  22|            30|      17|        NULL|        NULL|2015|09/14/2023 03:43:...|    NULL|     NULL|    NULL|\n",
            "|12755252|   JF308430|2015-08-30 00:00:00|  049XX N DRAKE AVE|1752|OFFENSE INVOLVING...|AGGRAVATED CRIMIN...|           APARTMENT| false|    true|1712|     017|  33|            14|      17|        NULL|        NULL|2015|09/16/2023 03:41:...|    NULL|     NULL|    NULL|\n",
            "|12998264|   JG171087|2015-01-12 12:00:00|   0000X E 122ND ST|1752|OFFENSE INVOLVING...|AGGRAVATED CRIMIN...|           RESIDENCE| false|    true|0532|     005|   9|            53|      17|        NULL|        NULL|2015|09/18/2023 03:41:...|    NULL|     NULL|    NULL|\n",
            "+--------+-----------+-------------------+-------------------+----+--------------------+--------------------+--------------------+------+--------+----+--------+----+--------------+--------+------------+------------+----+--------------------+--------+---------+--------+\n",
            "only showing top 5 rows\n",
            "\n"
          ]
        }
      ]
    },
    {
      "cell_type": "markdown",
      "source": [
        "**Schema Handling**"
      ],
      "metadata": {
        "id": "w5Rj_dvIv1qX"
      }
    },
    {
      "cell_type": "code",
      "source": [
        "read_csv.printSchema()"
      ],
      "metadata": {
        "colab": {
          "base_uri": "https://localhost:8080/"
        },
        "id": "a4igUvF_1P5t",
        "outputId": "60ce8504-6281-44cb-d2fe-b17daa42625d"
      },
      "execution_count": 595,
      "outputs": [
        {
          "output_type": "stream",
          "name": "stdout",
          "text": [
            "root\n",
            " |-- ID: string (nullable = true)\n",
            " |-- Case Number: string (nullable = true)\n",
            " |-- Date: timestamp (nullable = true)\n",
            " |-- Block: string (nullable = true)\n",
            " |-- IUCR: string (nullable = true)\n",
            " |-- Primary Type: string (nullable = true)\n",
            " |-- Description: string (nullable = true)\n",
            " |-- Location Description: string (nullable = true)\n",
            " |-- Arrest: string (nullable = true)\n",
            " |-- Domestic: string (nullable = true)\n",
            " |-- Beat: string (nullable = true)\n",
            " |-- District: string (nullable = true)\n",
            " |-- Ward: string (nullable = true)\n",
            " |-- Community Area: string (nullable = true)\n",
            " |-- FBI Code: string (nullable = true)\n",
            " |-- X Coordinate: string (nullable = true)\n",
            " |-- Y Coordinate: string (nullable = true)\n",
            " |-- Year: string (nullable = true)\n",
            " |-- Updated On: string (nullable = true)\n",
            " |-- Latitude: string (nullable = true)\n",
            " |-- Longitude: string (nullable = true)\n",
            " |-- Location: string (nullable = true)\n",
            "\n"
          ]
        }
      ]
    },
    {
      "cell_type": "code",
      "source": [
        "from pyspark.sql.types import StructType, StructField, StringType, TimestampType, BooleanType, DoubleType, IntegerType"
      ],
      "metadata": {
        "id": "D5UlpZOIKbmj"
      },
      "execution_count": 596,
      "outputs": []
    },
    {
      "cell_type": "code",
      "source": [
        "read_csv.columns"
      ],
      "metadata": {
        "colab": {
          "base_uri": "https://localhost:8080/"
        },
        "id": "HFxs_S6yKvTP",
        "outputId": "2f711652-83af-4955-bda7-805fbb5aa4c3"
      },
      "execution_count": 597,
      "outputs": [
        {
          "output_type": "execute_result",
          "data": {
            "text/plain": [
              "['ID',\n",
              " 'Case Number',\n",
              " 'Date',\n",
              " 'Block',\n",
              " 'IUCR',\n",
              " 'Primary Type',\n",
              " 'Description',\n",
              " 'Location Description',\n",
              " 'Arrest',\n",
              " 'Domestic',\n",
              " 'Beat',\n",
              " 'District',\n",
              " 'Ward',\n",
              " 'Community Area',\n",
              " 'FBI Code',\n",
              " 'X Coordinate',\n",
              " 'Y Coordinate',\n",
              " 'Year',\n",
              " 'Updated On',\n",
              " 'Latitude',\n",
              " 'Longitude',\n",
              " 'Location']"
            ]
          },
          "metadata": {},
          "execution_count": 597
        }
      ]
    },
    {
      "cell_type": "markdown",
      "source": [
        "Just an example on how the type of Date (timestamp type has been changed to string). However, timestamp is the preferred data-type for the Date column."
      ],
      "metadata": {
        "id": "wBj0ayejcvL4"
      }
    },
    {
      "cell_type": "code",
      "source": [
        "labels= [('ID',StringType()),\n",
        "('Date',StringType()),\n",
        "('Block',StringType()),\n",
        "('IUCR',StringType()),\n",
        "('Primary Type',StringType()),\n",
        "('Description',StringType()),\n",
        "('Location Description',StringType()),\n",
        "('Arrest',StringType()),\n",
        "('Domestic', BooleanType()),\n",
        "('Beat', StringType()),\n",
        "('Ward',StringType()),\n",
        "('FBI Code', StringType()),\n",
        "('X Coordinate',StringType()),\n",
        "('Y Coordinate',StringType()),\n",
        "('Latitude', DoubleType()),\n",
        "('Longitude', DoubleType()),\n",
        "('Location', StringType())]"
      ],
      "metadata": {
        "id": "juMCNEYevFU1"
      },
      "execution_count": 598,
      "outputs": []
    },
    {
      "cell_type": "code",
      "source": [
        "schema = StructType([StructField(x[0],x[1],True) for x in labels])\n"
      ],
      "metadata": {
        "id": "cdaPQZatKomo"
      },
      "execution_count": 599,
      "outputs": []
    },
    {
      "cell_type": "code",
      "source": [
        "csv_df = spark.read.csv('sample_data/crime.csv', schema = schema)"
      ],
      "metadata": {
        "id": "cI2qClvovcby"
      },
      "execution_count": 600,
      "outputs": []
    },
    {
      "cell_type": "code",
      "source": [
        "csv_df.printSchema()"
      ],
      "metadata": {
        "colab": {
          "base_uri": "https://localhost:8080/"
        },
        "id": "gkl7-F8kvI3g",
        "outputId": "9ead158d-bdd2-4246-99cf-7604eac9a70c"
      },
      "execution_count": 601,
      "outputs": [
        {
          "output_type": "stream",
          "name": "stdout",
          "text": [
            "root\n",
            " |-- ID: string (nullable = true)\n",
            " |-- Date: string (nullable = true)\n",
            " |-- Block: string (nullable = true)\n",
            " |-- IUCR: string (nullable = true)\n",
            " |-- Primary Type: string (nullable = true)\n",
            " |-- Description: string (nullable = true)\n",
            " |-- Location Description: string (nullable = true)\n",
            " |-- Arrest: string (nullable = true)\n",
            " |-- Domestic: boolean (nullable = true)\n",
            " |-- Beat: string (nullable = true)\n",
            " |-- Ward: string (nullable = true)\n",
            " |-- FBI Code: string (nullable = true)\n",
            " |-- X Coordinate: string (nullable = true)\n",
            " |-- Y Coordinate: string (nullable = true)\n",
            " |-- Latitude: double (nullable = true)\n",
            " |-- Longitude: double (nullable = true)\n",
            " |-- Location: string (nullable = true)\n",
            "\n"
          ]
        }
      ]
    },
    {
      "cell_type": "code",
      "source": [
        "csv_df.show(5)"
      ],
      "metadata": {
        "colab": {
          "base_uri": "https://localhost:8080/"
        },
        "id": "RxEw6dtrvYTo",
        "outputId": "916aaf78-273d-496f-967e-8ad5e59c103c"
      },
      "execution_count": 602,
      "outputs": [
        {
          "output_type": "stream",
          "name": "stdout",
          "text": [
            "+--------+-----------+--------------------+-------------------+------------+--------------------+--------------------+--------------------+--------+--------+----+--------+------------+--------------+--------+---------+------------+\n",
            "|      ID|       Date|               Block|               IUCR|Primary Type|         Description|Location Description|              Arrest|Domestic|    Beat|Ward|FBI Code|X Coordinate|  Y Coordinate|Latitude|Longitude|    Location|\n",
            "+--------+-----------+--------------------+-------------------+------------+--------------------+--------------------+--------------------+--------+--------+----+--------+------------+--------------+--------+---------+------------+\n",
            "|      ID|Case Number|                Date|              Block|        IUCR|        Primary Type|         Description|Location Description|    NULL|Domestic|Beat|District|        Ward|Community Area|    NULL|     NULL|Y Coordinate|\n",
            "|12536164|   JE439378|09/24/2015 12:00:...|    031XX W 53RD PL|        1753|OFFENSE INVOLVING...|SEXUAL ASSAULT OF...|           APARTMENT|   false|    true|0923|     009|          14|            63|     2.0|     NULL|        NULL|\n",
            "|13188119|   JG397237|05/15/2015 12:00:...|    041XX W 24TH PL|        1754|OFFENSE INVOLVING...|AGGRAVATED SEXUAL...|           APARTMENT|    true|    true|1013|     010|          22|            30|     2.0|     NULL|        NULL|\n",
            "|13193781|   JG397432|06/18/2015 12:00:...|031XX S KOSTNER AVE|        1752|OFFENSE INVOLVING...|AGGRAVATED CRIMIN...|           RESIDENCE|   false|    true|1031|     010|          22|            30|    17.0|     NULL|        NULL|\n",
            "|12755252|   JF308430|08/30/2015 12:00:...|  049XX N DRAKE AVE|        1752|OFFENSE INVOLVING...|AGGRAVATED CRIMIN...|           APARTMENT|   false|    true|1712|     017|          33|            14|    17.0|     NULL|        NULL|\n",
            "+--------+-----------+--------------------+-------------------+------------+--------------------+--------------------+--------------------+--------+--------+----+--------+------------+--------------+--------+---------+------------+\n",
            "only showing top 5 rows\n",
            "\n"
          ]
        }
      ]
    },
    {
      "cell_type": "markdown",
      "source": [
        "**Showing column**"
      ],
      "metadata": {
        "id": "ufOMyiio1nDR"
      }
    },
    {
      "cell_type": "code",
      "source": [
        "read_csv.select('IUCR').show(5)"
      ],
      "metadata": {
        "colab": {
          "base_uri": "https://localhost:8080/"
        },
        "id": "Almkr0HTvwG0",
        "outputId": "53394523-9ad4-48d6-ba14-f9cad2a6cab8"
      },
      "execution_count": 603,
      "outputs": [
        {
          "output_type": "stream",
          "name": "stdout",
          "text": [
            "+----+\n",
            "|IUCR|\n",
            "+----+\n",
            "|1753|\n",
            "|1754|\n",
            "|1752|\n",
            "|1752|\n",
            "|1752|\n",
            "+----+\n",
            "only showing top 5 rows\n",
            "\n"
          ]
        }
      ]
    },
    {
      "cell_type": "code",
      "source": [
        "read_csv.select(col('IUCR')).show(5)"
      ],
      "metadata": {
        "colab": {
          "base_uri": "https://localhost:8080/"
        },
        "id": "DeJ7NBkB0uHR",
        "outputId": "951208f1-da86-46a9-cb35-787bf188b4e0"
      },
      "execution_count": 604,
      "outputs": [
        {
          "output_type": "stream",
          "name": "stdout",
          "text": [
            "+----+\n",
            "|IUCR|\n",
            "+----+\n",
            "|1753|\n",
            "|1754|\n",
            "|1752|\n",
            "|1752|\n",
            "|1752|\n",
            "+----+\n",
            "only showing top 5 rows\n",
            "\n"
          ]
        }
      ]
    },
    {
      "cell_type": "markdown",
      "source": [
        "**Showing multiple cols**"
      ],
      "metadata": {
        "id": "o0ghCxt_1for"
      }
    },
    {
      "cell_type": "code",
      "source": [
        "read_csv.select('IUCR', 'Primary Type', 'Domestic').show(5)"
      ],
      "metadata": {
        "colab": {
          "base_uri": "https://localhost:8080/"
        },
        "id": "9556Sczc1GlX",
        "outputId": "40ebaaad-2ee5-4edb-9a68-6e2edb1e2f84"
      },
      "execution_count": 605,
      "outputs": [
        {
          "output_type": "stream",
          "name": "stdout",
          "text": [
            "+----+--------------------+--------+\n",
            "|IUCR|        Primary Type|Domestic|\n",
            "+----+--------------------+--------+\n",
            "|1753|OFFENSE INVOLVING...|    true|\n",
            "|1754|OFFENSE INVOLVING...|    true|\n",
            "|1752|OFFENSE INVOLVING...|    true|\n",
            "|1752|OFFENSE INVOLVING...|    true|\n",
            "|1752|OFFENSE INVOLVING...|    true|\n",
            "+----+--------------------+--------+\n",
            "only showing top 5 rows\n",
            "\n"
          ]
        }
      ]
    },
    {
      "cell_type": "markdown",
      "source": [
        "**Add new column named NEW COL with all entries 1s**"
      ],
      "metadata": {
        "id": "LESCKwrJ1w7s"
      }
    },
    {
      "cell_type": "code",
      "source": [
        "from pyspark.sql.functions import lit"
      ],
      "metadata": {
        "id": "28kvHOuy1eV7"
      },
      "execution_count": 606,
      "outputs": []
    },
    {
      "cell_type": "code",
      "source": [
        "read_csv.withColumn('NEW COLUMN', lit(1)).show(5)"
      ],
      "metadata": {
        "colab": {
          "base_uri": "https://localhost:8080/"
        },
        "id": "8W0QESCX1-9T",
        "outputId": "70ef5e10-88c4-4552-e729-0c9652e5eb4e"
      },
      "execution_count": 607,
      "outputs": [
        {
          "output_type": "stream",
          "name": "stdout",
          "text": [
            "+--------+-----------+-------------------+-------------------+----+--------------------+--------------------+--------------------+------+--------+----+--------+----+--------------+--------+------------+------------+----+--------------------+--------+---------+--------+----------+\n",
            "|      ID|Case Number|               Date|              Block|IUCR|        Primary Type|         Description|Location Description|Arrest|Domestic|Beat|District|Ward|Community Area|FBI Code|X Coordinate|Y Coordinate|Year|          Updated On|Latitude|Longitude|Location|NEW COLUMN|\n",
            "+--------+-----------+-------------------+-------------------+----+--------------------+--------------------+--------------------+------+--------+----+--------+----+--------------+--------+------------+------------+----+--------------------+--------+---------+--------+----------+\n",
            "|12536164|   JE439378|2015-09-24 00:00:00|    031XX W 53RD PL|1753|OFFENSE INVOLVING...|SEXUAL ASSAULT OF...|           APARTMENT| false|    true|0923|     009|  14|            63|      02|        NULL|        NULL|2015|09/14/2023 03:41:...|    NULL|     NULL|    NULL|         1|\n",
            "|13188119|   JG397237|2015-05-15 00:00:00|    041XX W 24TH PL|1754|OFFENSE INVOLVING...|AGGRAVATED SEXUAL...|           APARTMENT|  true|    true|1013|     010|  22|            30|      02|        NULL|        NULL|2015|09/14/2023 03:41:...|    NULL|     NULL|    NULL|         1|\n",
            "|13193781|   JG397432|2015-06-18 00:00:00|031XX S KOSTNER AVE|1752|OFFENSE INVOLVING...|AGGRAVATED CRIMIN...|           RESIDENCE| false|    true|1031|     010|  22|            30|      17|        NULL|        NULL|2015|09/14/2023 03:43:...|    NULL|     NULL|    NULL|         1|\n",
            "|12755252|   JF308430|2015-08-30 00:00:00|  049XX N DRAKE AVE|1752|OFFENSE INVOLVING...|AGGRAVATED CRIMIN...|           APARTMENT| false|    true|1712|     017|  33|            14|      17|        NULL|        NULL|2015|09/16/2023 03:41:...|    NULL|     NULL|    NULL|         1|\n",
            "|12998264|   JG171087|2015-01-12 12:00:00|   0000X E 122ND ST|1752|OFFENSE INVOLVING...|AGGRAVATED CRIMIN...|           RESIDENCE| false|    true|0532|     005|   9|            53|      17|        NULL|        NULL|2015|09/18/2023 03:41:...|    NULL|     NULL|    NULL|         1|\n",
            "+--------+-----------+-------------------+-------------------+----+--------------------+--------------------+--------------------+------+--------+----+--------+----+--------------+--------+------------+------------+----+--------------------+--------+---------+--------+----------+\n",
            "only showing top 5 rows\n",
            "\n"
          ]
        }
      ]
    },
    {
      "cell_type": "markdown",
      "source": [
        "**Dropping column ` IUCR`**"
      ],
      "metadata": {
        "id": "khYZtfG82IF6"
      }
    },
    {
      "cell_type": "code",
      "source": [
        "read_csv.drop('IUCR').show(5)"
      ],
      "metadata": {
        "colab": {
          "base_uri": "https://localhost:8080/"
        },
        "id": "__7VwYhJ2FnD",
        "outputId": "efebbc5e-a10f-4e9c-fea6-ecf2be474e16"
      },
      "execution_count": 608,
      "outputs": [
        {
          "output_type": "stream",
          "name": "stdout",
          "text": [
            "+--------+-----------+-------------------+-------------------+--------------------+--------------------+--------------------+------+--------+----+--------+----+--------------+--------+------------+------------+----+--------------------+--------+---------+--------+\n",
            "|      ID|Case Number|               Date|              Block|        Primary Type|         Description|Location Description|Arrest|Domestic|Beat|District|Ward|Community Area|FBI Code|X Coordinate|Y Coordinate|Year|          Updated On|Latitude|Longitude|Location|\n",
            "+--------+-----------+-------------------+-------------------+--------------------+--------------------+--------------------+------+--------+----+--------+----+--------------+--------+------------+------------+----+--------------------+--------+---------+--------+\n",
            "|12536164|   JE439378|2015-09-24 00:00:00|    031XX W 53RD PL|OFFENSE INVOLVING...|SEXUAL ASSAULT OF...|           APARTMENT| false|    true|0923|     009|  14|            63|      02|        NULL|        NULL|2015|09/14/2023 03:41:...|    NULL|     NULL|    NULL|\n",
            "|13188119|   JG397237|2015-05-15 00:00:00|    041XX W 24TH PL|OFFENSE INVOLVING...|AGGRAVATED SEXUAL...|           APARTMENT|  true|    true|1013|     010|  22|            30|      02|        NULL|        NULL|2015|09/14/2023 03:41:...|    NULL|     NULL|    NULL|\n",
            "|13193781|   JG397432|2015-06-18 00:00:00|031XX S KOSTNER AVE|OFFENSE INVOLVING...|AGGRAVATED CRIMIN...|           RESIDENCE| false|    true|1031|     010|  22|            30|      17|        NULL|        NULL|2015|09/14/2023 03:43:...|    NULL|     NULL|    NULL|\n",
            "|12755252|   JF308430|2015-08-30 00:00:00|  049XX N DRAKE AVE|OFFENSE INVOLVING...|AGGRAVATED CRIMIN...|           APARTMENT| false|    true|1712|     017|  33|            14|      17|        NULL|        NULL|2015|09/16/2023 03:41:...|    NULL|     NULL|    NULL|\n",
            "|12998264|   JG171087|2015-01-12 12:00:00|   0000X E 122ND ST|OFFENSE INVOLVING...|AGGRAVATED CRIMIN...|           RESIDENCE| false|    true|0532|     005|   9|            53|      17|        NULL|        NULL|2015|09/18/2023 03:41:...|    NULL|     NULL|    NULL|\n",
            "+--------+-----------+-------------------+-------------------+--------------------+--------------------+--------------------+------+--------+----+--------+----+--------------+--------+------------+------------+----+--------------------+--------+---------+--------+\n",
            "only showing top 5 rows\n",
            "\n"
          ]
        }
      ]
    },
    {
      "cell_type": "markdown",
      "source": [
        "#### WORKING WITH ROWS"
      ],
      "metadata": {
        "id": "yiGFoLby2Srt"
      }
    },
    {
      "cell_type": "code",
      "source": [
        "read_csv.select('Date').show(5)"
      ],
      "metadata": {
        "colab": {
          "base_uri": "https://localhost:8080/"
        },
        "id": "CldWzgp95thv",
        "outputId": "7edd3f76-8e42-4feb-9c36-b77db152a8bf"
      },
      "execution_count": 609,
      "outputs": [
        {
          "output_type": "stream",
          "name": "stdout",
          "text": [
            "+-------------------+\n",
            "|               Date|\n",
            "+-------------------+\n",
            "|2015-09-24 00:00:00|\n",
            "|2015-05-15 00:00:00|\n",
            "|2015-06-18 00:00:00|\n",
            "|2015-08-30 00:00:00|\n",
            "|2015-01-12 12:00:00|\n",
            "+-------------------+\n",
            "only showing top 5 rows\n",
            "\n"
          ]
        }
      ]
    },
    {
      "cell_type": "markdown",
      "source": [
        "Filtering on Date"
      ],
      "metadata": {
        "id": "_p_D8v6d206H"
      }
    },
    {
      "cell_type": "code",
      "source": [
        "one_day_crime_df = read_csv.filter(col('Date').contains('2015-01-12'))\n",
        "one_day_crime_df.count()\n",
        "\n"
      ],
      "metadata": {
        "colab": {
          "base_uri": "https://localhost:8080/"
        },
        "id": "O7o1z7AY2QCZ",
        "outputId": "b5539a04-6ad9-4513-fedc-05d35ce80932"
      },
      "execution_count": 610,
      "outputs": [
        {
          "output_type": "execute_result",
          "data": {
            "text/plain": [
              "608"
            ]
          },
          "metadata": {},
          "execution_count": 610
        }
      ]
    },
    {
      "cell_type": "code",
      "source": [
        "one_day_crime_df.show(5)"
      ],
      "metadata": {
        "colab": {
          "base_uri": "https://localhost:8080/"
        },
        "id": "6SKqATcM6e7h",
        "outputId": "87880742-db65-4d87-f3a3-0edbf5818a38"
      },
      "execution_count": 611,
      "outputs": [
        {
          "output_type": "stream",
          "name": "stdout",
          "text": [
            "+--------+-----------+-------------------+-------------------+----+--------------------+--------------------+--------------------+------+--------+----+--------+----+--------------+--------+------------+------------+----+--------------------+------------+-------------+--------------------+\n",
            "|      ID|Case Number|               Date|              Block|IUCR|        Primary Type|         Description|Location Description|Arrest|Domestic|Beat|District|Ward|Community Area|FBI Code|X Coordinate|Y Coordinate|Year|          Updated On|    Latitude|    Longitude|            Location|\n",
            "+--------+-----------+-------------------+-------------------+----+--------------------+--------------------+--------------------+------+--------+----+--------+----+--------------+--------+------------+------------+----+--------------------+------------+-------------+--------------------+\n",
            "|12998264|   JG171087|2015-01-12 12:00:00|   0000X E 122ND ST|1752|OFFENSE INVOLVING...|AGGRAVATED CRIMIN...|           RESIDENCE| false|    true|0532|     005|   9|            53|      17|        NULL|        NULL|2015|09/18/2023 03:41:...|        NULL|         NULL|                NULL|\n",
            "| 9939952|   HY111792|2015-01-12 00:05:00|   006XX W OHARE ST|0460|             BATTERY|              SIMPLE|AIRPORT BUILDING ...| false|    true|1654|     016|  41|            76|     08B|     1100088|     1926079|2015|09/07/2021 03:41:...|41.953900467|-87.907472601|(41.953900467, -8...|\n",
            "| 9922310|   HY111818|2015-01-12 01:09:00|089XX S BRANDON AVE|0486|             BATTERY|DOMESTIC BATTERY ...|           RESIDENCE|  true|    true|0424|     004|  10|            46|     08B|     1198879|     1846231|2015|02/10/2018 03:50:...|41.732874188|-87.546995508|(41.732874188, -8...|\n",
            "| 9926412|   HY115140|2015-01-12 19:00:00|085XX S SANGAMON ST|0486|             BATTERY|DOMESTIC BATTERY ...|           APARTMENT| false|    true|0613|     006|  21|            71|     08B|     1171469|     1848268|2015|02/10/2018 03:50:...|41.739107308|-87.647350802|(41.739107308, -8...|\n",
            "| 9923603|   HY112796|2015-01-12 19:00:00|117XX S WATKINS AVE|0486|             BATTERY|DOMESTIC BATTERY ...|           RESIDENCE| false|    true|2234|     022|  34|            75|     08B|     1165805|     1826904|2015|02/10/2018 03:50:...|41.680603045|-87.668706852|(41.680603045, -8...|\n",
            "+--------+-----------+-------------------+-------------------+----+--------------------+--------------------+--------------------+------+--------+----+--------+----+--------------+--------+------------+------------+----+--------------------+------------+-------------+--------------------+\n",
            "only showing top 5 rows\n",
            "\n"
          ]
        }
      ]
    },
    {
      "cell_type": "code",
      "source": [
        "one_day_crime_df.count()"
      ],
      "metadata": {
        "colab": {
          "base_uri": "https://localhost:8080/"
        },
        "id": "alin5Xfj-qdG",
        "outputId": "fc873ef4-3193-457f-d5ae-e0480bddb9cb"
      },
      "execution_count": 612,
      "outputs": [
        {
          "output_type": "execute_result",
          "data": {
            "text/plain": [
              "608"
            ]
          },
          "metadata": {},
          "execution_count": 612
        }
      ]
    },
    {
      "cell_type": "code",
      "source": [
        "read_csv.count()"
      ],
      "metadata": {
        "colab": {
          "base_uri": "https://localhost:8080/"
        },
        "id": "iakhDBWa-pMU",
        "outputId": "32283d5a-8e8e-425a-85f8-8adaa4789e99"
      },
      "execution_count": 613,
      "outputs": [
        {
          "output_type": "execute_result",
          "data": {
            "text/plain": [
              "264840"
            ]
          },
          "metadata": {},
          "execution_count": 613
        }
      ]
    },
    {
      "cell_type": "code",
      "source": [
        "new_csv = read_csv.union(one_day_crime_df)"
      ],
      "metadata": {
        "id": "RoaQRNfq9vwl"
      },
      "execution_count": 614,
      "outputs": []
    },
    {
      "cell_type": "code",
      "source": [
        "new_csv.count()"
      ],
      "metadata": {
        "colab": {
          "base_uri": "https://localhost:8080/"
        },
        "id": "j6QpUbJq-WNv",
        "outputId": "2dc1dea1-7583-4562-c7d5-94a02eff7dd9"
      },
      "execution_count": 615,
      "outputs": [
        {
          "output_type": "execute_result",
          "data": {
            "text/plain": [
              "265448"
            ]
          },
          "metadata": {},
          "execution_count": 615
        }
      ]
    },
    {
      "cell_type": "code",
      "source": [
        "new_csv.orderBy('Date',ascending = False ).show(5)"
      ],
      "metadata": {
        "colab": {
          "base_uri": "https://localhost:8080/"
        },
        "id": "EtHCXRSh_jRu",
        "outputId": "cba8730c-7b9c-49da-ca30-7fb26aecec38"
      },
      "execution_count": 616,
      "outputs": [
        {
          "output_type": "stream",
          "name": "stdout",
          "text": [
            "+--------+-----------+-------------------+--------------------+----+---------------+--------------------+--------------------+------+--------+----+--------+----+--------------+--------+------------+------------+----+--------------------+------------+-------------+--------------------+\n",
            "|      ID|Case Number|               Date|               Block|IUCR|   Primary Type|         Description|Location Description|Arrest|Domestic|Beat|District|Ward|Community Area|FBI Code|X Coordinate|Y Coordinate|Year|          Updated On|    Latitude|    Longitude|            Location|\n",
            "+--------+-----------+-------------------+--------------------+----+---------------+--------------------+--------------------+------+--------+----+--------+----+--------------+--------+------------+------------+----+--------------------+------------+-------------+--------------------+\n",
            "|10365064|   HZ100370|2015-12-31 23:59:00| 075XX S EMERALD AVE|1320|CRIMINAL DAMAGE|          TO VEHICLE|              STREET| false|   false|0621|     006|  17|            68|      14|     1172605|     1854931|2015|02/10/2018 03:50:...|41.757366519|-87.642992854|(41.757366519, -8...|\n",
            "|10460641|   HZ199559|2015-12-31 23:59:00|  015XX N KEDZIE AVE|0890|          THEFT|       FROM BUILDING|RESIDENCE PORCH/H...| false|   false|1422|     014|  26|            23|      06|        NULL|        NULL|2015|02/09/2018 03:44:...|        NULL|         NULL|                NULL|\n",
            "|10364662|   HZ100006|2015-12-31 23:55:00|079XX S STONY ISL...|0430|        BATTERY|AGGRAVATED: OTHER...|              STREET| false|   false|0411|     004|   8|            45|     04B|     1188223|     1852840|2015|02/10/2018 03:50:...|41.751270452|-87.585822373|(41.751270452, -8...|\n",
            "|10364683|   HZ100002|2015-12-31 23:50:00|    037XX N CLARK ST|0460|        BATTERY|              SIMPLE|            SIDEWALK|  true|   false|1923|     019|  44|             6|     08B|     1167786|     1925033|2015|02/10/2018 03:50:...|41.949837364|-87.658635101|(41.949837364, -8...|\n",
            "|10364740|   HZ100010|2015-12-31 23:50:00|   024XX W FARGO AVE|0820|          THEFT|      $500 AND UNDER|           APARTMENT| false|   false|2411|     024|  50|             2|      06|     1158878|     1949369|2015|02/10/2018 03:50:...|42.016804165|-87.690708662|(42.016804165, -8...|\n",
            "+--------+-----------+-------------------+--------------------+----+---------------+--------------------+--------------------+------+--------+----+--------+----+--------------+--------+------------+------------+----+--------------------+------------+-------------+--------------------+\n",
            "only showing top 5 rows\n",
            "\n"
          ]
        }
      ]
    },
    {
      "cell_type": "code",
      "source": [
        "crime_type = read_csv.select('Primary Type').distinct()"
      ],
      "metadata": {
        "id": "52ASJg9N3kVP"
      },
      "execution_count": 617,
      "outputs": []
    },
    {
      "cell_type": "code",
      "source": [
        "crime_type.count()\n"
      ],
      "metadata": {
        "colab": {
          "base_uri": "https://localhost:8080/"
        },
        "id": "ukyGvuxd7f_z",
        "outputId": "577636be-67e2-43f2-dfcc-9a77ec4782bc"
      },
      "execution_count": 618,
      "outputs": [
        {
          "output_type": "execute_result",
          "data": {
            "text/plain": [
              "33"
            ]
          },
          "metadata": {},
          "execution_count": 618
        }
      ]
    },
    {
      "cell_type": "code",
      "source": [
        "crime_type_list = crime_type.select('Primary Type').collect()\n",
        "crime_list = [row['Primary Type'] for row in crime_type_list]\n",
        "print(crime_list)"
      ],
      "metadata": {
        "colab": {
          "base_uri": "https://localhost:8080/"
        },
        "id": "U87Zh7Xk8FF0",
        "outputId": "107b3df4-5697-42ce-c24c-5f705dfdb4ac"
      },
      "execution_count": 619,
      "outputs": [
        {
          "output_type": "stream",
          "name": "stdout",
          "text": [
            "['OFFENSE INVOLVING CHILDREN', 'CRIMINAL SEXUAL ASSAULT', 'STALKING', 'PUBLIC PEACE VIOLATION', 'OBSCENITY', 'ARSON', 'GAMBLING', 'CRIMINAL TRESPASS', 'ASSAULT', 'NON - CRIMINAL', 'LIQUOR LAW VIOLATION', 'MOTOR VEHICLE THEFT', 'THEFT', 'BATTERY', 'ROBBERY', 'HOMICIDE', 'PUBLIC INDECENCY', 'CRIM SEXUAL ASSAULT', 'HUMAN TRAFFICKING', 'INTIMIDATION', 'PROSTITUTION', 'DECEPTIVE PRACTICE', 'CONCEALED CARRY LICENSE VIOLATION', 'SEX OFFENSE', 'CRIMINAL DAMAGE', 'NARCOTICS', 'NON-CRIMINAL', 'OTHER OFFENSE', 'KIDNAPPING', 'BURGLARY', 'WEAPONS VIOLATION', 'OTHER NARCOTIC VIOLATION', 'INTERFERENCE WITH PUBLIC OFFICER']\n"
          ]
        }
      ]
    },
    {
      "cell_type": "markdown",
      "source": [
        "**Top 10 number of reported crimes by Primary type in descending order of occurance**"
      ],
      "metadata": {
        "id": "kAXqs_V_CqMF"
      }
    },
    {
      "cell_type": "code",
      "source": [
        "new_csv.groupBy('Primary Type').count().orderBy('count', ascending=False).show(10)"
      ],
      "metadata": {
        "colab": {
          "base_uri": "https://localhost:8080/"
        },
        "id": "5J2316Np3MH_",
        "outputId": "17d83a3d-292d-4462-c2f5-9b96142b6c21"
      },
      "execution_count": 620,
      "outputs": [
        {
          "output_type": "stream",
          "name": "stdout",
          "text": [
            "+-------------------+-----+\n",
            "|       Primary Type|count|\n",
            "+-------------------+-----+\n",
            "|              THEFT|57499|\n",
            "|            BATTERY|49015|\n",
            "|    CRIMINAL DAMAGE|28734|\n",
            "|          NARCOTICS|24004|\n",
            "|      OTHER OFFENSE|17613|\n",
            "|            ASSAULT|17083|\n",
            "| DECEPTIVE PRACTICE|16497|\n",
            "|           BURGLARY|13220|\n",
            "|MOTOR VEHICLE THEFT|10089|\n",
            "|            ROBBERY| 9664|\n",
            "+-------------------+-----+\n",
            "only showing top 10 rows\n",
            "\n"
          ]
        }
      ]
    },
    {
      "cell_type": "markdown",
      "source": [
        "Percentage of Reported Crime that resulted in arrest\n"
      ],
      "metadata": {
        "id": "_e07furi4EW0"
      }
    },
    {
      "cell_type": "code",
      "source": [
        "new_csv.select('Arrest').distinct().show()"
      ],
      "metadata": {
        "colab": {
          "base_uri": "https://localhost:8080/"
        },
        "id": "E2T0-BFm32iI",
        "outputId": "3b3ba002-7bbb-41d1-9c12-cbcf84bb076b"
      },
      "execution_count": 621,
      "outputs": [
        {
          "output_type": "stream",
          "name": "stdout",
          "text": [
            "+------+\n",
            "|Arrest|\n",
            "+------+\n",
            "| false|\n",
            "|  true|\n",
            "+------+\n",
            "\n"
          ]
        }
      ]
    },
    {
      "cell_type": "code",
      "source": [
        "new_csv.select('Arrest').printSchema()"
      ],
      "metadata": {
        "colab": {
          "base_uri": "https://localhost:8080/"
        },
        "id": "U3nM-uQkdtLd",
        "outputId": "04132122-b236-40fc-b10b-82e3785e2fa4"
      },
      "execution_count": 622,
      "outputs": [
        {
          "output_type": "stream",
          "name": "stdout",
          "text": [
            "root\n",
            " |-- Arrest: string (nullable = true)\n",
            "\n"
          ]
        }
      ]
    },
    {
      "cell_type": "code",
      "source": [
        "new_csv.filter(col('Arrest')=='true').count()/new_csv.select('Arrest').count()"
      ],
      "metadata": {
        "colab": {
          "base_uri": "https://localhost:8080/"
        },
        "id": "1ts51NM64lx8",
        "outputId": "352c33f4-ee72-4a08-afd7-0aa9aee587c7"
      },
      "execution_count": 623,
      "outputs": [
        {
          "output_type": "execute_result",
          "data": {
            "text/plain": [
              "0.26463940206744824"
            ]
          },
          "metadata": {},
          "execution_count": 623
        }
      ]
    },
    {
      "cell_type": "markdown",
      "source": [
        "Top 3 locations for reported crimes"
      ],
      "metadata": {
        "id": "xXs_uT9f5Dwj"
      }
    },
    {
      "cell_type": "code",
      "source": [
        "new_csv.groupBy('Location Description').count().orderBy('count', ascending=False).show(3)"
      ],
      "metadata": {
        "colab": {
          "base_uri": "https://localhost:8080/"
        },
        "id": "vzdrXXLL4NWE",
        "outputId": "eb3c3b2b-7bc2-4ada-e3ff-08ef699a350f"
      },
      "execution_count": 624,
      "outputs": [
        {
          "output_type": "stream",
          "name": "stdout",
          "text": [
            "+--------------------+-----+\n",
            "|Location Description|count|\n",
            "+--------------------+-----+\n",
            "|              STREET|60896|\n",
            "|           RESIDENCE|41984|\n",
            "|           APARTMENT|35153|\n",
            "+--------------------+-----+\n",
            "only showing top 3 rows\n",
            "\n"
          ]
        }
      ]
    },
    {
      "cell_type": "markdown",
      "source": [
        "Built-In Functions"
      ],
      "metadata": {
        "id": "GOA2cu4x7VTz"
      }
    },
    {
      "cell_type": "code",
      "source": [
        "from pyspark.sql import functions\n",
        "print(dir(functions))"
      ],
      "metadata": {
        "colab": {
          "base_uri": "https://localhost:8080/"
        },
        "id": "rCPLROr95SFT",
        "outputId": "f4629d70-557b-428b-e4f0-3dbb56dc1d85"
      },
      "execution_count": 625,
      "outputs": [
        {
          "output_type": "stream",
          "name": "stdout",
          "text": [
            "['Any', 'ArrayType', 'Callable', 'Column', 'DataFrame', 'DataType', 'Dict', 'Iterable', 'JVMView', 'List', 'Optional', 'PandasUDFType', 'PySparkTypeError', 'PySparkValueError', 'SparkContext', 'StringType', 'StructType', 'TYPE_CHECKING', 'Tuple', 'Type', 'Union', 'UserDefinedFunction', 'UserDefinedTableFunction', 'ValuesView', '__builtins__', '__cached__', '__doc__', '__file__', '__loader__', '__name__', '__package__', '__spec__', '_create_column_from_literal', '_create_lambda', '_create_py_udf', '_create_py_udtf', '_from_numpy_type', '_get_jvm_function', '_get_lambda_parameters', '_invoke_binary_math_function', '_invoke_function', '_invoke_function_over_columns', '_invoke_function_over_seq_of_columns', '_invoke_higher_order_function', '_options_to_str', '_test', '_to_java_column', '_to_seq', '_unresolved_named_lambda_variable', 'abs', 'acos', 'acosh', 'add_months', 'aes_decrypt', 'aes_encrypt', 'aggregate', 'any_value', 'approxCountDistinct', 'approx_count_distinct', 'approx_percentile', 'array', 'array_agg', 'array_append', 'array_compact', 'array_contains', 'array_distinct', 'array_except', 'array_insert', 'array_intersect', 'array_join', 'array_max', 'array_min', 'array_position', 'array_prepend', 'array_remove', 'array_repeat', 'array_size', 'array_sort', 'array_union', 'arrays_overlap', 'arrays_zip', 'asc', 'asc_nulls_first', 'asc_nulls_last', 'ascii', 'asin', 'asinh', 'assert_true', 'atan', 'atan2', 'atanh', 'avg', 'base64', 'bin', 'bit_and', 'bit_count', 'bit_get', 'bit_length', 'bit_or', 'bit_xor', 'bitmap_bit_position', 'bitmap_bucket_number', 'bitmap_construct_agg', 'bitmap_count', 'bitmap_or_agg', 'bitwiseNOT', 'bitwise_not', 'bool_and', 'bool_or', 'broadcast', 'bround', 'btrim', 'bucket', 'call_function', 'call_udf', 'cardinality', 'cast', 'cbrt', 'ceil', 'ceiling', 'char', 'char_length', 'character_length', 'coalesce', 'col', 'collect_list', 'collect_set', 'column', 'concat', 'concat_ws', 'contains', 'conv', 'convert_timezone', 'corr', 'cos', 'cosh', 'cot', 'count', 'countDistinct', 'count_distinct', 'count_if', 'count_min_sketch', 'covar_pop', 'covar_samp', 'crc32', 'create_map', 'csc', 'cume_dist', 'curdate', 'current_catalog', 'current_database', 'current_date', 'current_schema', 'current_timestamp', 'current_timezone', 'current_user', 'date_add', 'date_diff', 'date_format', 'date_from_unix_date', 'date_part', 'date_sub', 'date_trunc', 'dateadd', 'datediff', 'datepart', 'day', 'dayofmonth', 'dayofweek', 'dayofyear', 'days', 'decimal', 'decode', 'degrees', 'dense_rank', 'desc', 'desc_nulls_first', 'desc_nulls_last', 'e', 'element_at', 'elt', 'encode', 'endswith', 'equal_null', 'every', 'exists', 'exp', 'explode', 'explode_outer', 'expm1', 'expr', 'extract', 'factorial', 'filter', 'find_in_set', 'first', 'first_value', 'flatten', 'floor', 'forall', 'format_number', 'format_string', 'from_csv', 'from_json', 'from_unixtime', 'from_utc_timestamp', 'functools', 'get', 'get_active_spark_context', 'get_json_object', 'getbit', 'greatest', 'grouping', 'grouping_id', 'has_numpy', 'hash', 'hex', 'histogram_numeric', 'hll_sketch_agg', 'hll_sketch_estimate', 'hll_union', 'hll_union_agg', 'hour', 'hours', 'hypot', 'ifnull', 'ilike', 'initcap', 'inline', 'inline_outer', 'input_file_block_length', 'input_file_block_start', 'input_file_name', 'inspect', 'instr', 'isnan', 'isnotnull', 'isnull', 'java_method', 'json_array_length', 'json_object_keys', 'json_tuple', 'kurtosis', 'lag', 'last', 'last_day', 'last_value', 'lcase', 'lead', 'least', 'left', 'length', 'levenshtein', 'like', 'lit', 'ln', 'localtimestamp', 'locate', 'log', 'log10', 'log1p', 'log2', 'lower', 'lpad', 'ltrim', 'make_date', 'make_dt_interval', 'make_interval', 'make_timestamp', 'make_timestamp_ltz', 'make_timestamp_ntz', 'make_ym_interval', 'map_concat', 'map_contains_key', 'map_entries', 'map_filter', 'map_from_arrays', 'map_from_entries', 'map_keys', 'map_values', 'map_zip_with', 'mask', 'max', 'max_by', 'md5', 'mean', 'median', 'min', 'min_by', 'minute', 'mode', 'monotonically_increasing_id', 'month', 'months', 'months_between', 'named_struct', 'nanvl', 'negate', 'negative', 'next_day', 'now', 'np', 'nth_value', 'ntile', 'nullif', 'nvl', 'nvl2', 'octet_length', 'overlay', 'overload', 'pandas_udf', 'parse_url', 'percent_rank', 'percentile', 'percentile_approx', 'pi', 'pmod', 'posexplode', 'posexplode_outer', 'position', 'positive', 'pow', 'power', 'printf', 'product', 'quarter', 'radians', 'raise_error', 'rand', 'randn', 'rank', 'reduce', 'reflect', 'regexp', 'regexp_count', 'regexp_extract', 'regexp_extract_all', 'regexp_instr', 'regexp_like', 'regexp_replace', 'regexp_substr', 'regr_avgx', 'regr_avgy', 'regr_count', 'regr_intercept', 'regr_r2', 'regr_slope', 'regr_sxx', 'regr_sxy', 'regr_syy', 'repeat', 'replace', 'reverse', 'right', 'rint', 'rlike', 'round', 'row_number', 'rpad', 'rtrim', 'schema_of_csv', 'schema_of_json', 'sec', 'second', 'sentences', 'sequence', 'session_window', 'sha', 'sha1', 'sha2', 'shiftLeft', 'shiftRight', 'shiftRightUnsigned', 'shiftleft', 'shiftright', 'shiftrightunsigned', 'shuffle', 'sign', 'signum', 'sin', 'sinh', 'size', 'skewness', 'slice', 'some', 'sort_array', 'soundex', 'spark_partition_id', 'split', 'split_part', 'sqrt', 'stack', 'startswith', 'std', 'stddev', 'stddev_pop', 'stddev_samp', 'str_to_map', 'struct', 'substr', 'substring', 'substring_index', 'sum', 'sumDistinct', 'sum_distinct', 'sys', 'tan', 'tanh', 'timestamp_micros', 'timestamp_millis', 'timestamp_seconds', 'toDegrees', 'toRadians', 'to_binary', 'to_char', 'to_csv', 'to_date', 'to_json', 'to_number', 'to_str', 'to_timestamp', 'to_timestamp_ltz', 'to_timestamp_ntz', 'to_unix_timestamp', 'to_utc_timestamp', 'to_varchar', 'transform', 'transform_keys', 'transform_values', 'translate', 'trim', 'trunc', 'try_add', 'try_aes_decrypt', 'try_avg', 'try_divide', 'try_element_at', 'try_multiply', 'try_remote_functions', 'try_subtract', 'try_sum', 'try_to_binary', 'try_to_number', 'try_to_timestamp', 'typeof', 'ucase', 'udf', 'udtf', 'unbase64', 'unhex', 'unix_date', 'unix_micros', 'unix_millis', 'unix_seconds', 'unix_timestamp', 'unwrap_udt', 'upper', 'url_decode', 'url_encode', 'user', 'var_pop', 'var_samp', 'variance', 'version', 'warnings', 'weekday', 'weekofyear', 'when', 'width_bucket', 'window', 'window_time', 'xpath', 'xpath_boolean', 'xpath_double', 'xpath_float', 'xpath_int', 'xpath_long', 'xpath_number', 'xpath_short', 'xpath_string', 'xxhash64', 'year', 'years', 'zip_with']\n"
          ]
        }
      ]
    },
    {
      "cell_type": "markdown",
      "source": [
        "Example: Display PRIMARY DESCRIPTION column in Lower, Upper and first four substring"
      ],
      "metadata": {
        "id": "xUGst-1v-C-_"
      }
    },
    {
      "cell_type": "code",
      "source": [
        "from pyspark.sql.functions import lower, upper, substring\n"
      ],
      "metadata": {
        "id": "eBpq9tpG7dQn"
      },
      "execution_count": 626,
      "outputs": []
    },
    {
      "cell_type": "code",
      "source": [
        "help(substring)"
      ],
      "metadata": {
        "colab": {
          "base_uri": "https://localhost:8080/"
        },
        "id": "kxBOZSIx76vx",
        "outputId": "2c2b46c1-c1d7-46dd-e1dd-eade06f25f13"
      },
      "execution_count": 627,
      "outputs": [
        {
          "output_type": "stream",
          "name": "stdout",
          "text": [
            "Help on function substring in module pyspark.sql.functions:\n",
            "\n",
            "substring(str: 'ColumnOrName', pos: int, len: int) -> pyspark.sql.column.Column\n",
            "    Substring starts at `pos` and is of length `len` when str is String type or\n",
            "    returns the slice of byte array that starts at `pos` in byte and is of length `len`\n",
            "    when str is Binary type.\n",
            "    \n",
            "    .. versionadded:: 1.5.0\n",
            "    \n",
            "    .. versionchanged:: 3.4.0\n",
            "        Supports Spark Connect.\n",
            "    \n",
            "    Notes\n",
            "    -----\n",
            "    The position is not zero based, but 1 based index.\n",
            "    \n",
            "    Parameters\n",
            "    ----------\n",
            "    str : :class:`~pyspark.sql.Column` or str\n",
            "        target column to work on.\n",
            "    pos : int\n",
            "        starting position in str.\n",
            "    len : int\n",
            "        length of chars.\n",
            "    \n",
            "    Returns\n",
            "    -------\n",
            "    :class:`~pyspark.sql.Column`\n",
            "        substring of given value.\n",
            "    \n",
            "    Examples\n",
            "    --------\n",
            "    >>> df = spark.createDataFrame([('abcd',)], ['s',])\n",
            "    >>> df.select(substring(df.s, 1, 2).alias('s')).collect()\n",
            "    [Row(s='ab')]\n",
            "\n"
          ]
        }
      ]
    },
    {
      "cell_type": "code",
      "source": [
        "new_csv.select(lower(col('Primary Type')), upper('Primary Type'), substring(col('Primary Type'),1,4)).show(5)"
      ],
      "metadata": {
        "colab": {
          "base_uri": "https://localhost:8080/"
        },
        "id": "bfboWO_f-BUG",
        "outputId": "18b40984-d776-4f2c-900f-b803d9f000c2"
      },
      "execution_count": 628,
      "outputs": [
        {
          "output_type": "stream",
          "name": "stdout",
          "text": [
            "+--------------------+--------------------+-----------------------------+\n",
            "| lower(Primary Type)| upper(Primary Type)|substring(Primary Type, 1, 4)|\n",
            "+--------------------+--------------------+-----------------------------+\n",
            "|offense involving...|OFFENSE INVOLVING...|                         OFFE|\n",
            "|offense involving...|OFFENSE INVOLVING...|                         OFFE|\n",
            "|offense involving...|OFFENSE INVOLVING...|                         OFFE|\n",
            "|offense involving...|OFFENSE INVOLVING...|                         OFFE|\n",
            "|offense involving...|OFFENSE INVOLVING...|                         OFFE|\n",
            "+--------------------+--------------------+-----------------------------+\n",
            "only showing top 5 rows\n",
            "\n"
          ]
        }
      ]
    },
    {
      "cell_type": "markdown",
      "source": [
        "**Working with Dates**\n",
        "> - Show the oldest date and most recent date\n",
        "> - What is 3 days earlier than the oldest date and 3 days later than the most recent date ?"
      ],
      "metadata": {
        "id": "GvDCwEoC-67r"
      }
    },
    {
      "cell_type": "markdown",
      "source": [
        "User-defined functions"
      ],
      "metadata": {
        "id": "JAtPlTRJ_Ccj"
      }
    },
    {
      "cell_type": "code",
      "source": [
        " from pyspark.sql.functions import  min, max\n"
      ],
      "metadata": {
        "id": "VlJ9ngOj8Wf5"
      },
      "execution_count": 629,
      "outputs": []
    },
    {
      "cell_type": "code",
      "source": [
        "new_csv.select(min(col('Date')), max(col('Date'))).show(1)"
      ],
      "metadata": {
        "colab": {
          "base_uri": "https://localhost:8080/"
        },
        "id": "YQa8Zt6y_qFY",
        "outputId": "6167073c-fc74-4e57-d2e2-bd6b39a6c27b"
      },
      "execution_count": 630,
      "outputs": [
        {
          "output_type": "stream",
          "name": "stdout",
          "text": [
            "+-------------------+-------------------+\n",
            "|          min(Date)|          max(Date)|\n",
            "+-------------------+-------------------+\n",
            "|2015-01-01 00:00:00|2015-12-31 23:59:00|\n",
            "+-------------------+-------------------+\n",
            "\n"
          ]
        }
      ]
    },
    {
      "cell_type": "code",
      "source": [
        "from pyspark.sql.functions import date_add, date_sub"
      ],
      "metadata": {
        "id": "oNrqPc4b_p-c"
      },
      "execution_count": 631,
      "outputs": []
    },
    {
      "cell_type": "code",
      "source": [
        "help(date_add)"
      ],
      "metadata": {
        "colab": {
          "base_uri": "https://localhost:8080/"
        },
        "id": "MCiOPiHX_p1v",
        "outputId": "9b6cc45d-93be-4cee-ca08-4a6976c0e4c6"
      },
      "execution_count": 632,
      "outputs": [
        {
          "output_type": "stream",
          "name": "stdout",
          "text": [
            "Help on function date_add in module pyspark.sql.functions:\n",
            "\n",
            "date_add(start: 'ColumnOrName', days: Union[ForwardRef('ColumnOrName'), int]) -> pyspark.sql.column.Column\n",
            "    Returns the date that is `days` days after `start`. If `days` is a negative value\n",
            "    then these amount of days will be deducted from `start`.\n",
            "    \n",
            "    .. versionadded:: 1.5.0\n",
            "    \n",
            "    .. versionchanged:: 3.4.0\n",
            "        Supports Spark Connect.\n",
            "    \n",
            "    Parameters\n",
            "    ----------\n",
            "    start : :class:`~pyspark.sql.Column` or str\n",
            "        date column to work on.\n",
            "    days : :class:`~pyspark.sql.Column` or str or int\n",
            "        how many days after the given date to calculate.\n",
            "        Accepts negative value as well to calculate backwards in time.\n",
            "    \n",
            "    Returns\n",
            "    -------\n",
            "    :class:`~pyspark.sql.Column`\n",
            "        a date after/before given number of days.\n",
            "    \n",
            "    Examples\n",
            "    --------\n",
            "    >>> df = spark.createDataFrame([('2015-04-08', 2,)], ['dt', 'add'])\n",
            "    >>> df.select(date_add(df.dt, 1).alias('next_date')).collect()\n",
            "    [Row(next_date=datetime.date(2015, 4, 9))]\n",
            "    >>> df.select(date_add(df.dt, df.add.cast('integer')).alias('next_date')).collect()\n",
            "    [Row(next_date=datetime.date(2015, 4, 10))]\n",
            "    >>> df.select(date_add('dt', -1).alias('prev_date')).collect()\n",
            "    [Row(prev_date=datetime.date(2015, 4, 7))]\n",
            "\n"
          ]
        }
      ]
    },
    {
      "cell_type": "code",
      "source": [
        "new_csv.select(date_sub(min(col('Date')),3), date_add(max(col('Date')),3)).show(1)"
      ],
      "metadata": {
        "colab": {
          "base_uri": "https://localhost:8080/"
        },
        "id": "oX7cbD7zBDS7",
        "outputId": "ed94b259-53bb-4698-da37-77eb5856d777"
      },
      "execution_count": 633,
      "outputs": [
        {
          "output_type": "stream",
          "name": "stdout",
          "text": [
            "+----------------------+----------------------+\n",
            "|date_sub(min(Date), 3)|date_add(max(Date), 3)|\n",
            "+----------------------+----------------------+\n",
            "|            2014-12-29|            2016-01-03|\n",
            "+----------------------+----------------------+\n",
            "\n"
          ]
        }
      ]
    },
    {
      "cell_type": "markdown",
      "source": [
        "**Join Example**"
      ],
      "metadata": {
        "id": "yZcNLj2uZFYx"
      }
    },
    {
      "cell_type": "markdown",
      "source": [
        "Reported Crime dataset has only the distict number, now add the district name using the police station dataset using join"
      ],
      "metadata": {
        "id": "g0Mga2EiY--r"
      }
    },
    {
      "cell_type": "code",
      "source": [
        "police_station_data = spark.read.csv(\"sample_data/police_station.csv\", header=True)\n",
        "police_station_data.show(5)"
      ],
      "metadata": {
        "id": "lF8kWvkIBDPy",
        "colab": {
          "base_uri": "https://localhost:8080/"
        },
        "outputId": "0f1ccc9c-0bbb-4aa4-8c22-18fe82136ee7"
      },
      "execution_count": 634,
      "outputs": [
        {
          "output_type": "stream",
          "name": "stdout",
          "text": [
            "+------------+-------------+-------------------+-------+-----+-----+--------------------+------------+------------+------------+------------+------------+-----------+------------+--------------------+\n",
            "|    DISTRICT|DISTRICT NAME|            ADDRESS|   CITY|STATE|  ZIP|             WEBSITE|       PHONE|         FAX|         TTY|X COORDINATE|Y COORDINATE|   LATITUDE|   LONGITUDE|            LOCATION|\n",
            "+------------+-------------+-------------------+-------+-----+-----+--------------------+------------+------------+------------+------------+------------+-----------+------------+--------------------+\n",
            "|Headquarters| Headquarters|3510 S Michigan Ave|Chicago|   IL|60653|http://home.chica...|        NULL|        NULL|        NULL| 1177731.401| 1881697.404|41.83070169|-87.62339535|(41.8307016873, -...|\n",
            "|          18|   Near North| 1160 N Larrabee St|Chicago|   IL|60610|http://home.chica...|312-742-5870|312-742-5771|312-742-5773| 1172080.029| 1908086.527|41.90324165|-87.64335214|(41.9032416531, -...|\n",
            "|          19|    Town Hall|   850 W Addison St|Chicago|   IL|60613|http://home.chica...|312-744-8320|312-744-4481|312-744-8011| 1169730.744| 1924160.317|41.94740046|-87.65151202|(41.9474004564, -...|\n",
            "|          20|      Lincoln| 5400 N Lincoln Ave|Chicago|   IL|60625|http://home.chica...|312-742-8714|312-742-8803|312-742-8841| 1158399.146| 1935788.826|41.97954951|-87.69284451|(41.9795495131, -...|\n",
            "|          22|  Morgan Park|1900 W Monterey Ave|Chicago|   IL|60643|http://home.chica...|312-745-0710|312-745-0814|312-745-0569| 1165825.476| 1830851.333|41.69143478|-87.66852039|(41.6914347795, -...|\n",
            "+------------+-------------+-------------------+-------+-----+-----+--------------------+------------+------------+------------+------------+------------+-----------+------------+--------------------+\n",
            "only showing top 5 rows\n",
            "\n"
          ]
        }
      ]
    },
    {
      "cell_type": "code",
      "source": [
        "\n",
        "from pyspark.sql.functions import col\n",
        "\n",
        "# Assuming you have a PySpark DataFrame named 'df'\n",
        "\n",
        "# Remove rows with value 'xyz' in a specific column\n",
        "police_station_data = police_station_data.filter(col('DISTRICT') != 'Headquarters')\n",
        "\n",
        "# Show the DataFrame after filtering\n",
        "police_station_data.show()\n"
      ],
      "metadata": {
        "colab": {
          "base_uri": "https://localhost:8080/"
        },
        "id": "9vnPfNw3hTHL",
        "outputId": "cb4851b7-017c-4258-ac37-ec186acdd7cd"
      },
      "execution_count": 635,
      "outputs": [
        {
          "output_type": "stream",
          "name": "stdout",
          "text": [
            "+--------+--------------+--------------------+-------+-----+-----+--------------------+------------+------------+------------+------------+------------+-----------+------------+--------------------+\n",
            "|DISTRICT| DISTRICT NAME|             ADDRESS|   CITY|STATE|  ZIP|             WEBSITE|       PHONE|         FAX|         TTY|X COORDINATE|Y COORDINATE|   LATITUDE|   LONGITUDE|            LOCATION|\n",
            "+--------+--------------+--------------------+-------+-----+-----+--------------------+------------+------------+------------+------------+------------+-----------+------------+--------------------+\n",
            "|      18|    Near North|  1160 N Larrabee St|Chicago|   IL|60610|http://home.chica...|312-742-5870|312-742-5771|312-742-5773| 1172080.029| 1908086.527|41.90324165|-87.64335214|(41.9032416531, -...|\n",
            "|      19|     Town Hall|    850 W Addison St|Chicago|   IL|60613|http://home.chica...|312-744-8320|312-744-4481|312-744-8011| 1169730.744| 1924160.317|41.94740046|-87.65151202|(41.9474004564, -...|\n",
            "|      20|       Lincoln|  5400 N Lincoln Ave|Chicago|   IL|60625|http://home.chica...|312-742-8714|312-742-8803|312-742-8841| 1158399.146| 1935788.826|41.97954951|-87.69284451|(41.9795495131, -...|\n",
            "|      22|   Morgan Park| 1900 W Monterey Ave|Chicago|   IL|60643|http://home.chica...|312-745-0710|312-745-0814|312-745-0569| 1165825.476| 1830851.333|41.69143478|-87.66852039|(41.6914347795, -...|\n",
            "|      24|   Rogers Park|     6464 N Clark St|Chicago|   IL|60626|http://home.chica...|312-744-5907|312-744-6928|312-744-7603| 1164193.588| 1943199.401|41.99976348|-87.67132429|(41.9997634842, -...|\n",
            "|      25| Grand Central|    5555 W Grand Ave|Chicago|   IL|60639|http://home.chica...|312-746-8605|312-746-4353|312-746-8383| 1138770.871| 1913442.439|41.91860889|-87.76557448|(41.9186088912, -...|\n",
            "|       1|       Central|     1718 S State St|Chicago|   IL|60616|http://home.chica...|312-745-4290|312-745-3694|312-745-3693| 1176569.052| 1891771.704|41.85837259|-87.62735617|(41.8583725929, -...|\n",
            "|       2|     Wentworth|5101 S Wentworth Ave|Chicago|   IL|60609|http://home.chica...|312-747-8366|312-747-5396|312-747-6656| 1175864.837| 1871153.753|41.80181109|-87.63056018|(41.8018110912, -...|\n",
            "|       3|Grand Crossing|7040 S Cottage Gr...|Chicago|   IL|60637|http://home.chica...|312-747-8201|312-747-5479|312-747-9168| 1182739.183| 1858317.732|41.76643089|-87.60574786|(41.7664308925, -...|\n",
            "|       4| South Chicago|     2255 E 103rd St|Chicago|   IL|60617|http://home.chica...|312-747-7581|312-747-5276|312-747-9169| 1193131.299| 1837090.265|41.70793329|-87.56834912|(41.7079332906, -...|\n",
            "|       5|       Calumet|      727 E 111th St|Chicago|   IL|60628|http://home.chica...|312-747-8210|312-747-5935|312-747-9170| 1183305.427| 1831462.313|41.69272336|-87.60450587|(41.6927233639, -...|\n",
            "|       6|       Gresham|   7808 S Halsted St|Chicago|   IL|60620|http://home.chica...|312-745-3617|312-745-3649|312-745-3639| 1172283.013| 1853022.646|41.75213684|-87.64422891|(41.7521368378, -...|\n",
            "|       7|     Englewood|      1438 W 63rd St|Chicago|   IL|60636|http://home.chica...|312-747-8223|312-747-6558|312-747-6652| 1167659.235| 1863005.522|41.77963154|-87.66088702|(41.7796315359, -...|\n",
            "|       8|  Chicago Lawn|      3420 W 63rd St|Chicago|   IL|60629|http://home.chica...|312-747-8730|312-747-8545|312-747-8116| 1154575.242| 1862672.049|41.77898719|-87.70886382|(41.778987189, -8...|\n",
            "|       9|       Deering|   3120 S Halsted St|Chicago|   IL|60608|http://home.chica...|312-747-8227|312-747-5329|312-747-9172|  1171440.24| 1884085.224|41.83739443|-87.64640771|(41.8373944311, -...|\n",
            "|      10|         Ogden|    3315 W Ogden Ave|Chicago|   IL|60623|http://home.chica...|312-747-7511|312-747-7429|312-747-7471| 1154500.753| 1890985.501|41.85668453|-87.70838196|(41.8566845327, -...|\n",
            "|      11|      Harrison|  3151 W Harrison St|Chicago|   IL|60612|http://home.chica...|312-746-8386|312-746-4281|312-746-5151| 1155244.069| 1897148.755|41.87358229|-87.70548813|(41.8735822883, -...|\n",
            "|      14|   Shakespeare|2150 N California...|Chicago|   IL|60647|http://home.chica...|312-744-8250|312-744-2422|312-744-8260| 1157304.426| 1914481.521|41.92110332|-87.69745182|(41.9211033246, -...|\n",
            "|      15|        Austin|   5701 W Madison St|Chicago|   IL|60644|http://home.chica...|312-743-1440|312-743-1366|312-743-1485| 1138148.815| 1899399.078|41.88008346|-87.76819989|(41.8800834614, -...|\n",
            "|      16|Jefferson Park|5151 N Milwaukee Ave|Chicago|   IL|60630|http://home.chica...|312-742-4480|312-742-4421|312-742-4423| 1138480.758| 1933660.473|41.97409445|-87.76614884|(41.9740944511, -...|\n",
            "+--------+--------------+--------------------+-------+-----+-----+--------------------+------------+------------+------------+------------+------------+-----------+------------+--------------------+\n",
            "only showing top 20 rows\n",
            "\n"
          ]
        }
      ]
    },
    {
      "cell_type": "code",
      "source": [
        "police_station_data.select('DISTRICT').distinct().show(50)"
      ],
      "metadata": {
        "colab": {
          "base_uri": "https://localhost:8080/"
        },
        "id": "UDxmmzJQZYbd",
        "outputId": "f35ce031-8855-40e3-db2a-d8749ab4f229"
      },
      "execution_count": 636,
      "outputs": [
        {
          "output_type": "stream",
          "name": "stdout",
          "text": [
            "+--------+\n",
            "|DISTRICT|\n",
            "+--------+\n",
            "|       7|\n",
            "|      15|\n",
            "|      11|\n",
            "|       3|\n",
            "|       8|\n",
            "|      22|\n",
            "|      16|\n",
            "|       5|\n",
            "|      18|\n",
            "|      17|\n",
            "|       6|\n",
            "|      19|\n",
            "|      25|\n",
            "|      24|\n",
            "|       9|\n",
            "|       1|\n",
            "|      20|\n",
            "|      10|\n",
            "|       4|\n",
            "|      14|\n",
            "|       2|\n",
            "+--------+\n",
            "\n"
          ]
        }
      ]
    },
    {
      "cell_type": "code",
      "source": [
        "new_csv.select(col('District')).distinct().show(50)"
      ],
      "metadata": {
        "colab": {
          "base_uri": "https://localhost:8080/"
        },
        "id": "fsf_L4EUZflI",
        "outputId": "3e0e1378-bfeb-4b9f-ca58-da5dcc34c541"
      },
      "execution_count": 637,
      "outputs": [
        {
          "output_type": "stream",
          "name": "stdout",
          "text": [
            "+--------+\n",
            "|District|\n",
            "+--------+\n",
            "|     009|\n",
            "|     012|\n",
            "|     024|\n",
            "|     031|\n",
            "|     015|\n",
            "|     006|\n",
            "|     019|\n",
            "|     020|\n",
            "|     011|\n",
            "|     025|\n",
            "|     005|\n",
            "|     003|\n",
            "|     016|\n",
            "|     018|\n",
            "|     008|\n",
            "|     022|\n",
            "|     001|\n",
            "|     014|\n",
            "|     010|\n",
            "|     004|\n",
            "|     017|\n",
            "|     007|\n",
            "|     002|\n",
            "+--------+\n",
            "\n"
          ]
        }
      ]
    },
    {
      "cell_type": "code",
      "source": [
        "from pyspark.sql.functions import lpad"
      ],
      "metadata": {
        "id": "kToP_NXseTHt"
      },
      "execution_count": 638,
      "outputs": []
    },
    {
      "cell_type": "code",
      "source": [
        "help(lpad)"
      ],
      "metadata": {
        "colab": {
          "base_uri": "https://localhost:8080/"
        },
        "id": "TdS4UMmQenKG",
        "outputId": "2895ccb5-7e7a-441f-ad03-6e2098b2804c"
      },
      "execution_count": 639,
      "outputs": [
        {
          "output_type": "stream",
          "name": "stdout",
          "text": [
            "Help on function lpad in module pyspark.sql.functions:\n",
            "\n",
            "lpad(col: 'ColumnOrName', len: int, pad: str) -> pyspark.sql.column.Column\n",
            "    Left-pad the string column to width `len` with `pad`.\n",
            "    \n",
            "    .. versionadded:: 1.5.0\n",
            "    \n",
            "    .. versionchanged:: 3.4.0\n",
            "        Supports Spark Connect.\n",
            "    \n",
            "    Parameters\n",
            "    ----------\n",
            "    col : :class:`~pyspark.sql.Column` or str\n",
            "        target column to work on.\n",
            "    len : int\n",
            "        length of the final string.\n",
            "    pad : str\n",
            "        chars to prepend.\n",
            "    \n",
            "    Returns\n",
            "    -------\n",
            "    :class:`~pyspark.sql.Column`\n",
            "        left padded result.\n",
            "    \n",
            "    Examples\n",
            "    --------\n",
            "    >>> df = spark.createDataFrame([('abcd',)], ['s',])\n",
            "    >>> df.select(lpad(df.s, 6, '#').alias('s')).collect()\n",
            "    [Row(s='##abcd')]\n",
            "\n"
          ]
        }
      ]
    },
    {
      "cell_type": "code",
      "source": [
        "police_station_data.select(lpad(col('DISTRICT'),3,'0')).show()"
      ],
      "metadata": {
        "colab": {
          "base_uri": "https://localhost:8080/"
        },
        "id": "0FweFVZdfDTA",
        "outputId": "62e80d41-3430-4334-fbee-f69fb1cab188"
      },
      "execution_count": 640,
      "outputs": [
        {
          "output_type": "stream",
          "name": "stdout",
          "text": [
            "+--------------------+\n",
            "|lpad(DISTRICT, 3, 0)|\n",
            "+--------------------+\n",
            "|                 018|\n",
            "|                 019|\n",
            "|                 020|\n",
            "|                 022|\n",
            "|                 024|\n",
            "|                 025|\n",
            "|                 001|\n",
            "|                 002|\n",
            "|                 003|\n",
            "|                 004|\n",
            "|                 005|\n",
            "|                 006|\n",
            "|                 007|\n",
            "|                 008|\n",
            "|                 009|\n",
            "|                 010|\n",
            "|                 011|\n",
            "|                 014|\n",
            "|                 015|\n",
            "|                 016|\n",
            "+--------------------+\n",
            "only showing top 20 rows\n",
            "\n"
          ]
        }
      ]
    },
    {
      "cell_type": "code",
      "source": [
        "ps = police_station_data.withColumn('FormattedDistrict', lpad(col('DISTRICT'),3,'0'))"
      ],
      "metadata": {
        "id": "OjquLgyDjaF1"
      },
      "execution_count": 641,
      "outputs": []
    },
    {
      "cell_type": "code",
      "source": [
        "police_station_data.columns"
      ],
      "metadata": {
        "colab": {
          "base_uri": "https://localhost:8080/"
        },
        "id": "GDWVEEShidY_",
        "outputId": "ec09d8ad-65c1-447a-f172-62c8291c471d"
      },
      "execution_count": 642,
      "outputs": [
        {
          "output_type": "execute_result",
          "data": {
            "text/plain": [
              "['DISTRICT',\n",
              " 'DISTRICT NAME',\n",
              " 'ADDRESS',\n",
              " 'CITY',\n",
              " 'STATE',\n",
              " 'ZIP',\n",
              " 'WEBSITE',\n",
              " 'PHONE',\n",
              " 'FAX',\n",
              " 'TTY',\n",
              " 'X COORDINATE',\n",
              " 'Y COORDINATE',\n",
              " 'LATITUDE',\n",
              " 'LONGITUDE',\n",
              " 'LOCATION']"
            ]
          },
          "metadata": {},
          "execution_count": 642
        }
      ]
    },
    {
      "cell_type": "code",
      "source": [
        "ps.show(5)"
      ],
      "metadata": {
        "colab": {
          "base_uri": "https://localhost:8080/"
        },
        "id": "QgyjQD-mjmVZ",
        "outputId": "566e0f90-c0c6-42a2-8cfe-f60504aa2eb5"
      },
      "execution_count": 643,
      "outputs": [
        {
          "output_type": "stream",
          "name": "stdout",
          "text": [
            "+--------+-------------+-------------------+-------+-----+-----+--------------------+------------+------------+------------+------------+------------+-----------+------------+--------------------+-----------------+\n",
            "|DISTRICT|DISTRICT NAME|            ADDRESS|   CITY|STATE|  ZIP|             WEBSITE|       PHONE|         FAX|         TTY|X COORDINATE|Y COORDINATE|   LATITUDE|   LONGITUDE|            LOCATION|FormattedDistrict|\n",
            "+--------+-------------+-------------------+-------+-----+-----+--------------------+------------+------------+------------+------------+------------+-----------+------------+--------------------+-----------------+\n",
            "|      18|   Near North| 1160 N Larrabee St|Chicago|   IL|60610|http://home.chica...|312-742-5870|312-742-5771|312-742-5773| 1172080.029| 1908086.527|41.90324165|-87.64335214|(41.9032416531, -...|              018|\n",
            "|      19|    Town Hall|   850 W Addison St|Chicago|   IL|60613|http://home.chica...|312-744-8320|312-744-4481|312-744-8011| 1169730.744| 1924160.317|41.94740046|-87.65151202|(41.9474004564, -...|              019|\n",
            "|      20|      Lincoln| 5400 N Lincoln Ave|Chicago|   IL|60625|http://home.chica...|312-742-8714|312-742-8803|312-742-8841| 1158399.146| 1935788.826|41.97954951|-87.69284451|(41.9795495131, -...|              020|\n",
            "|      22|  Morgan Park|1900 W Monterey Ave|Chicago|   IL|60643|http://home.chica...|312-745-0710|312-745-0814|312-745-0569| 1165825.476| 1830851.333|41.69143478|-87.66852039|(41.6914347795, -...|              022|\n",
            "|      24|  Rogers Park|    6464 N Clark St|Chicago|   IL|60626|http://home.chica...|312-744-5907|312-744-6928|312-744-7603| 1164193.588| 1943199.401|41.99976348|-87.67132429|(41.9997634842, -...|              024|\n",
            "+--------+-------------+-------------------+-------+-----+-----+--------------------+------------+------------+------------+------------+------------+-----------+------------+--------------------+-----------------+\n",
            "only showing top 5 rows\n",
            "\n"
          ]
        }
      ]
    },
    {
      "cell_type": "code",
      "source": [
        "police_station_data.show(5)"
      ],
      "metadata": {
        "colab": {
          "base_uri": "https://localhost:8080/"
        },
        "id": "tRgZQaTXjUJ9",
        "outputId": "fed2037b-c592-428c-8e21-2047ce4bb65c"
      },
      "execution_count": 644,
      "outputs": [
        {
          "output_type": "stream",
          "name": "stdout",
          "text": [
            "+--------+-------------+-------------------+-------+-----+-----+--------------------+------------+------------+------------+------------+------------+-----------+------------+--------------------+\n",
            "|DISTRICT|DISTRICT NAME|            ADDRESS|   CITY|STATE|  ZIP|             WEBSITE|       PHONE|         FAX|         TTY|X COORDINATE|Y COORDINATE|   LATITUDE|   LONGITUDE|            LOCATION|\n",
            "+--------+-------------+-------------------+-------+-----+-----+--------------------+------------+------------+------------+------------+------------+-----------+------------+--------------------+\n",
            "|      18|   Near North| 1160 N Larrabee St|Chicago|   IL|60610|http://home.chica...|312-742-5870|312-742-5771|312-742-5773| 1172080.029| 1908086.527|41.90324165|-87.64335214|(41.9032416531, -...|\n",
            "|      19|    Town Hall|   850 W Addison St|Chicago|   IL|60613|http://home.chica...|312-744-8320|312-744-4481|312-744-8011| 1169730.744| 1924160.317|41.94740046|-87.65151202|(41.9474004564, -...|\n",
            "|      20|      Lincoln| 5400 N Lincoln Ave|Chicago|   IL|60625|http://home.chica...|312-742-8714|312-742-8803|312-742-8841| 1158399.146| 1935788.826|41.97954951|-87.69284451|(41.9795495131, -...|\n",
            "|      22|  Morgan Park|1900 W Monterey Ave|Chicago|   IL|60643|http://home.chica...|312-745-0710|312-745-0814|312-745-0569| 1165825.476| 1830851.333|41.69143478|-87.66852039|(41.6914347795, -...|\n",
            "|      24|  Rogers Park|    6464 N Clark St|Chicago|   IL|60626|http://home.chica...|312-744-5907|312-744-6928|312-744-7603| 1164193.588| 1943199.401|41.99976348|-87.67132429|(41.9997634842, -...|\n",
            "+--------+-------------+-------------------+-------+-----+-----+--------------------+------------+------------+------------+------------+------------+-----------+------------+--------------------+\n",
            "only showing top 5 rows\n",
            "\n"
          ]
        }
      ]
    },
    {
      "cell_type": "code",
      "source": [
        "new_csv.join(ps, new_csv.District == ps.FormattedDistrict, 'left_outer').drop(\n",
        " 'ADDRESS',\n",
        " 'CITY',\n",
        " 'STATE',\n",
        " 'ZIP',\n",
        " 'WEBSITE',\n",
        " 'PHONE',\n",
        " 'FAX',\n",
        " 'TTY',\n",
        " 'X COORDINATE',\n",
        " 'Y COORDINATE',\n",
        " 'LATITUDE',\n",
        " 'LONGITUDE',\n",
        " 'LOCATION', 'FormattedDistrict').show(5)"
      ],
      "metadata": {
        "colab": {
          "base_uri": "https://localhost:8080/"
        },
        "id": "hU3BF85FfhXv",
        "outputId": "aa781767-3b31-4816-a59c-a1829c213b6a"
      },
      "execution_count": 651,
      "outputs": [
        {
          "output_type": "stream",
          "name": "stdout",
          "text": [
            "+--------+-----------+-------------------+-------------------+----+--------------------+--------------------+--------------------+------+--------+----+--------+----+--------------+--------+----+--------------------+--------+-------------+\n",
            "|      ID|Case Number|               Date|              Block|IUCR|        Primary Type|         Description|Location Description|Arrest|Domestic|Beat|District|Ward|Community Area|FBI Code|Year|          Updated On|DISTRICT|DISTRICT NAME|\n",
            "+--------+-----------+-------------------+-------------------+----+--------------------+--------------------+--------------------+------+--------+----+--------+----+--------------+--------+----+--------------------+--------+-------------+\n",
            "|12536164|   JE439378|2015-09-24 00:00:00|    031XX W 53RD PL|1753|OFFENSE INVOLVING...|SEXUAL ASSAULT OF...|           APARTMENT| false|    true|0923|     009|  14|            63|      02|2015|09/14/2023 03:41:...|       9|      Deering|\n",
            "|13188119|   JG397237|2015-05-15 00:00:00|    041XX W 24TH PL|1754|OFFENSE INVOLVING...|AGGRAVATED SEXUAL...|           APARTMENT|  true|    true|1013|     010|  22|            30|      02|2015|09/14/2023 03:41:...|      10|        Ogden|\n",
            "|13193781|   JG397432|2015-06-18 00:00:00|031XX S KOSTNER AVE|1752|OFFENSE INVOLVING...|AGGRAVATED CRIMIN...|           RESIDENCE| false|    true|1031|     010|  22|            30|      17|2015|09/14/2023 03:43:...|      10|        Ogden|\n",
            "|12755252|   JF308430|2015-08-30 00:00:00|  049XX N DRAKE AVE|1752|OFFENSE INVOLVING...|AGGRAVATED CRIMIN...|           APARTMENT| false|    true|1712|     017|  33|            14|      17|2015|09/16/2023 03:41:...|      17|  Albany Park|\n",
            "|12998264|   JG171087|2015-01-12 12:00:00|   0000X E 122ND ST|1752|OFFENSE INVOLVING...|AGGRAVATED CRIMIN...|           RESIDENCE| false|    true|0532|     005|   9|            53|      17|2015|09/18/2023 03:41:...|       5|      Calumet|\n",
            "+--------+-----------+-------------------+-------------------+----+--------------------+--------------------+--------------------+------+--------+----+--------+----+--------------+--------+----+--------------------+--------+-------------+\n",
            "only showing top 5 rows\n",
            "\n"
          ]
        }
      ]
    }
  ]
}