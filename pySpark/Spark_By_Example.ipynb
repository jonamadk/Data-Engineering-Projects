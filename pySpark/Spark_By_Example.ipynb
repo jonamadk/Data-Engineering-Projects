{
  "nbformat": 4,
  "nbformat_minor": 0,
  "metadata": {
    "colab": {
      "provenance": []
    },
    "kernelspec": {
      "name": "python3",
      "display_name": "Python 3"
    },
    "language_info": {
      "name": "python"
    }
  },
  "cells": [
    {
      "cell_type": "code",
      "source": [
        "!pip install findspark\n",
        "!pip install pyspark"
      ],
      "metadata": {
        "colab": {
          "base_uri": "https://localhost:8080/"
        },
        "id": "tVxywzuzuWoD",
        "outputId": "8ef57f2d-5b26-4040-a000-f5d57301a101"
      },
      "execution_count": 1,
      "outputs": [
        {
          "output_type": "stream",
          "name": "stdout",
          "text": [
            "Collecting findspark\n",
            "  Downloading findspark-2.0.1-py2.py3-none-any.whl (4.4 kB)\n",
            "Installing collected packages: findspark\n",
            "Successfully installed findspark-2.0.1\n",
            "Collecting pyspark\n",
            "  Downloading pyspark-3.5.1.tar.gz (317.0 MB)\n",
            "\u001b[2K     \u001b[90m━━━━━━━━━━━━━━━━━━━━━━━━━━━━━━━━━━━━━━━━\u001b[0m \u001b[32m317.0/317.0 MB\u001b[0m \u001b[31m2.4 MB/s\u001b[0m eta \u001b[36m0:00:00\u001b[0m\n",
            "\u001b[?25h  Preparing metadata (setup.py) ... \u001b[?25l\u001b[?25hdone\n",
            "Requirement already satisfied: py4j==0.10.9.7 in /usr/local/lib/python3.10/dist-packages (from pyspark) (0.10.9.7)\n",
            "Building wheels for collected packages: pyspark\n",
            "  Building wheel for pyspark (setup.py) ... \u001b[?25l\u001b[?25hdone\n",
            "  Created wheel for pyspark: filename=pyspark-3.5.1-py2.py3-none-any.whl size=317488491 sha256=323d2f31686d6c66c46cea75ec45be7479deee663cb6e20176c1ddf92a3ad783\n",
            "  Stored in directory: /root/.cache/pip/wheels/80/1d/60/2c256ed38dddce2fdd93be545214a63e02fbd8d74fb0b7f3a6\n",
            "Successfully built pyspark\n",
            "Installing collected packages: pyspark\n",
            "Successfully installed pyspark-3.5.1\n"
          ]
        }
      ]
    },
    {
      "cell_type": "code",
      "source": [
        "import findspark\n",
        "findspark.init()\n"
      ],
      "metadata": {
        "id": "ofN1WYc2vYwJ"
      },
      "execution_count": 2,
      "outputs": []
    },
    {
      "cell_type": "code",
      "source": [
        "from pyspark import SparkContext"
      ],
      "metadata": {
        "id": "BO7dd1c4vpn4"
      },
      "execution_count": 3,
      "outputs": []
    },
    {
      "cell_type": "code",
      "source": [
        "from pyspark.sql import SparkSession\n",
        "\n",
        "# Initialize SparkSession\n",
        "spark = SparkSession.builder \\\n",
        "    .appName(\"CrimeDataAnalysis\") \\\n",
        "    .getOrCreate()\n",
        "\n",
        "# Now you can use the 'spark' variable to read CSV files or perform other Spark operations\n"
      ],
      "metadata": {
        "id": "8w7o6n7w2E8F"
      },
      "execution_count": 4,
      "outputs": []
    },
    {
      "cell_type": "code",
      "source": [
        "!wget https://data.cityofchicago.org/Public-Safety/Crimes-2001-to-Present/ijzp-q8t2/"
      ],
      "metadata": {
        "colab": {
          "base_uri": "https://localhost:8080/"
        },
        "id": "3yOaDVhuv0sY",
        "outputId": "b2bb6b6d-8e18-44f2-aad7-303614b78fb0"
      },
      "execution_count": 5,
      "outputs": [
        {
          "output_type": "stream",
          "name": "stdout",
          "text": [
            "--2024-05-14 02:11:30--  https://data.cityofchicago.org/Public-Safety/Crimes-2001-to-Present/ijzp-q8t2/\n",
            "Resolving data.cityofchicago.org (data.cityofchicago.org)... 52.206.140.199, 52.206.68.26, 52.206.140.205\n",
            "Connecting to data.cityofchicago.org (data.cityofchicago.org)|52.206.140.199|:443... connected.\n",
            "HTTP request sent, awaiting response... 200 OK\n",
            "Length: unspecified [text/html]\n",
            "Saving to: ‘index.html’\n",
            "\n",
            "index.html              [   <=>              ] 771.94K  1.03MB/s    in 0.7s    \n",
            "\n",
            "2024-05-14 02:11:33 (1.03 MB/s) - ‘index.html’ saved [790469]\n",
            "\n"
          ]
        }
      ]
    },
    {
      "cell_type": "code",
      "source": [],
      "metadata": {
        "id": "IXW-UQmi275b"
      },
      "execution_count": 5,
      "outputs": []
    },
    {
      "cell_type": "code",
      "source": [],
      "metadata": {
        "id": "h8hmYPxpBpSt"
      },
      "execution_count": 5,
      "outputs": []
    },
    {
      "cell_type": "code",
      "source": [
        "from pyspark.sql.functions import to_timestamp,col,lit\n",
        "read_csv = spark.read.csv('sample_data/crime.csv', header=True).withColumn('DATE  OF OCCURRENCE', to_timestamp(col('DATE  OF OCCURRENCE'), 'MM/dd/yyyy hh:mm:ss a'))\n",
        "read_csv.show(5)\n"
      ],
      "metadata": {
        "colab": {
          "base_uri": "https://localhost:8080/"
        },
        "id": "8_ooVfKHzRpV",
        "outputId": "f61e6684-b245-433e-8436-ba090f64f019"
      },
      "execution_count": 6,
      "outputs": [
        {
          "output_type": "stream",
          "name": "stdout",
          "text": [
            "+--------+-------------------+--------------------+-----+--------------------+----------------------+---------------------+------+--------+----+----+------+------------+------------+------------+-------------+--------------------+\n",
            "|   CASE#|DATE  OF OCCURRENCE|               BLOCK| IUCR| PRIMARY DESCRIPTION| SECONDARY DESCRIPTION| LOCATION DESCRIPTION|ARREST|DOMESTIC|BEAT|WARD|FBI CD|X COORDINATE|Y COORDINATE|    LATITUDE|    LONGITUDE|            LOCATION|\n",
            "+--------+-------------------+--------------------+-----+--------------------+----------------------+---------------------+------+--------+----+----+------+------------+------------+------------+-------------+--------------------+\n",
            "|JG497095|2023-11-08 20:50:00| 025XX N KEDZIE BLVD| 0810|               THEFT|             OVER $500|               STREET|     N|       N|1414|  35|    06|     1154609|     1916759|41.927407329| -87.70729439|(41.927407329, -8...|\n",
            "|JG496991|2023-11-08 15:14:00| 0000X W CHICAGO AVE| 0560|             ASSAULT|                SIMPLE|               STREET|     N|       N|1832|  42|   08A|     1176106|     1905725|41.896671699|-87.628635323|(41.896671699, -8...|\n",
            "|JG497145|2023-11-08 22:55:00|     019XX W 47TH ST| 051A|             ASSAULT|  AGGRAVATED - HANDGUN|             SIDEWALK|     N|       N| 931|  15|   04A|     1164331|     1873509|41.808525157|-87.672792896|(41.808525157, -8...|\n",
            "|JH179051|2024-03-07 14:15:00|    070XX S STATE ST| 0820|               THEFT|        $500 AND UNDER|   GROCERY FOOD STORE|     Y|       N| 322|   6|    06|     1177506|     1858207|41.766246905|-87.624932618|(41.766246905, -8...|\n",
            "|JH178785|2024-03-07 04:53:00|077XX S CARPENTER ST| 0810|               THEFT|             OVER $500|               STREET|     N|       N| 612|  17|    06|     1170656|     1853451|41.753347902|-87.650178718|(41.753347902, -8...|\n",
            "+--------+-------------------+--------------------+-----+--------------------+----------------------+---------------------+------+--------+----+----+------+------------+------------+------------+-------------+--------------------+\n",
            "only showing top 5 rows\n",
            "\n"
          ]
        }
      ]
    },
    {
      "cell_type": "markdown",
      "source": [
        "**Schema Handling**"
      ],
      "metadata": {
        "id": "w5Rj_dvIv1qX"
      }
    },
    {
      "cell_type": "code",
      "source": [
        "read_csv.printSchema()"
      ],
      "metadata": {
        "colab": {
          "base_uri": "https://localhost:8080/"
        },
        "id": "a4igUvF_1P5t",
        "outputId": "4993abda-10a2-4dd2-adbc-1153d7ab4ee0"
      },
      "execution_count": 7,
      "outputs": [
        {
          "output_type": "stream",
          "name": "stdout",
          "text": [
            "root\n",
            " |-- CASE#: string (nullable = true)\n",
            " |-- DATE  OF OCCURRENCE: timestamp (nullable = true)\n",
            " |-- BLOCK: string (nullable = true)\n",
            " |--  IUCR: string (nullable = true)\n",
            " |--  PRIMARY DESCRIPTION: string (nullable = true)\n",
            " |--  SECONDARY DESCRIPTION: string (nullable = true)\n",
            " |--  LOCATION DESCRIPTION: string (nullable = true)\n",
            " |-- ARREST: string (nullable = true)\n",
            " |-- DOMESTIC: string (nullable = true)\n",
            " |-- BEAT: string (nullable = true)\n",
            " |-- WARD: string (nullable = true)\n",
            " |-- FBI CD: string (nullable = true)\n",
            " |-- X COORDINATE: string (nullable = true)\n",
            " |-- Y COORDINATE: string (nullable = true)\n",
            " |-- LATITUDE: string (nullable = true)\n",
            " |-- LONGITUDE: string (nullable = true)\n",
            " |-- LOCATION: string (nullable = true)\n",
            "\n"
          ]
        }
      ]
    },
    {
      "cell_type": "code",
      "source": [
        "from pyspark.sql.types import StructType, StructField, StringType, TimestampType, BooleanType, DoubleType, IntegerType"
      ],
      "metadata": {
        "id": "D5UlpZOIKbmj"
      },
      "execution_count": 8,
      "outputs": []
    },
    {
      "cell_type": "code",
      "source": [
        "read_csv.columns"
      ],
      "metadata": {
        "colab": {
          "base_uri": "https://localhost:8080/"
        },
        "id": "HFxs_S6yKvTP",
        "outputId": "dcd403b1-dbd7-4763-9303-3c5fdc536421"
      },
      "execution_count": 9,
      "outputs": [
        {
          "output_type": "execute_result",
          "data": {
            "text/plain": [
              "['CASE#',\n",
              " 'DATE  OF OCCURRENCE',\n",
              " 'BLOCK',\n",
              " ' IUCR',\n",
              " ' PRIMARY DESCRIPTION',\n",
              " ' SECONDARY DESCRIPTION',\n",
              " ' LOCATION DESCRIPTION',\n",
              " 'ARREST',\n",
              " 'DOMESTIC',\n",
              " 'BEAT',\n",
              " 'WARD',\n",
              " 'FBI CD',\n",
              " 'X COORDINATE',\n",
              " 'Y COORDINATE',\n",
              " 'LATITUDE',\n",
              " 'LONGITUDE',\n",
              " 'LOCATION']"
            ]
          },
          "metadata": {},
          "execution_count": 9
        }
      ]
    },
    {
      "cell_type": "code",
      "source": [
        "labels= [('CASE#',StringType()),\n",
        "('DATE  OF OCCURRENCE',TimestampType()),\n",
        "('BLOCK',StringType()),\n",
        "(' IUCR',StringType()),\n",
        "(' PRIMARY DESCRIPTION',StringType()),\n",
        "(' SECONDARY DESCRIPTION',StringType()),\n",
        "(' LOCATION DESCRIPTION',StringType()),\n",
        "('ARREST',StringType()),\n",
        "('DOMESTIC', BooleanType()),\n",
        "('BEAT', StringType()),\n",
        "('WARD',StringType()),\n",
        "('FBI CD', StringType()),\n",
        "('X COORDINATE',StringType()),\n",
        "('Y COORDINATE',StringType()),\n",
        "('LATITUDE', DoubleType()),\n",
        "('LONGITUDE', DoubleType()),\n",
        "('LOCATION', StringType())]"
      ],
      "metadata": {
        "id": "juMCNEYevFU1"
      },
      "execution_count": 10,
      "outputs": []
    },
    {
      "cell_type": "code",
      "source": [
        "schema = StructType([StructField(x[0],x[1],True) for x in labels])\n"
      ],
      "metadata": {
        "id": "cdaPQZatKomo"
      },
      "execution_count": 11,
      "outputs": []
    },
    {
      "cell_type": "code",
      "source": [
        "csv_df = spark.read.csv('sample_data/crime.csv', schema = schema)"
      ],
      "metadata": {
        "id": "cI2qClvovcby"
      },
      "execution_count": 12,
      "outputs": []
    },
    {
      "cell_type": "code",
      "source": [
        "csv_df.printSchema()"
      ],
      "metadata": {
        "colab": {
          "base_uri": "https://localhost:8080/"
        },
        "id": "gkl7-F8kvI3g",
        "outputId": "bdfc242d-806a-4f3c-a532-8ec96710a934"
      },
      "execution_count": 13,
      "outputs": [
        {
          "output_type": "stream",
          "name": "stdout",
          "text": [
            "root\n",
            " |-- CASE#: string (nullable = true)\n",
            " |-- DATE  OF OCCURRENCE: timestamp (nullable = true)\n",
            " |-- BLOCK: string (nullable = true)\n",
            " |--  IUCR: string (nullable = true)\n",
            " |--  PRIMARY DESCRIPTION: string (nullable = true)\n",
            " |--  SECONDARY DESCRIPTION: string (nullable = true)\n",
            " |--  LOCATION DESCRIPTION: string (nullable = true)\n",
            " |-- ARREST: string (nullable = true)\n",
            " |-- DOMESTIC: boolean (nullable = true)\n",
            " |-- BEAT: string (nullable = true)\n",
            " |-- WARD: string (nullable = true)\n",
            " |-- FBI CD: string (nullable = true)\n",
            " |-- X COORDINATE: string (nullable = true)\n",
            " |-- Y COORDINATE: string (nullable = true)\n",
            " |-- LATITUDE: double (nullable = true)\n",
            " |-- LONGITUDE: double (nullable = true)\n",
            " |-- LOCATION: string (nullable = true)\n",
            "\n"
          ]
        }
      ]
    },
    {
      "cell_type": "code",
      "source": [
        "csv_df.show(5)"
      ],
      "metadata": {
        "colab": {
          "base_uri": "https://localhost:8080/"
        },
        "id": "RxEw6dtrvYTo",
        "outputId": "9761328b-f069-483a-abb9-920954dc2b51"
      },
      "execution_count": 14,
      "outputs": [
        {
          "output_type": "stream",
          "name": "stdout",
          "text": [
            "+--------+-------------------+-------------------+-----+--------------------+----------------------+---------------------+------+--------+----+----+------+------------+------------+------------+-------------+--------------------+\n",
            "|   CASE#|DATE  OF OCCURRENCE|              BLOCK| IUCR| PRIMARY DESCRIPTION| SECONDARY DESCRIPTION| LOCATION DESCRIPTION|ARREST|DOMESTIC|BEAT|WARD|FBI CD|X COORDINATE|Y COORDINATE|    LATITUDE|    LONGITUDE|            LOCATION|\n",
            "+--------+-------------------+-------------------+-----+--------------------+----------------------+---------------------+------+--------+----+----+------+------------+------------+------------+-------------+--------------------+\n",
            "|   CASE#|               NULL|              BLOCK| IUCR| PRIMARY DESCRIPTION|   SECONDARY DESCRI...|  LOCATION DESCRIP...|ARREST|    NULL|BEAT|WARD|FBI CD|X COORDINATE|Y COORDINATE|        NULL|         NULL|            LOCATION|\n",
            "|JG497095|               NULL|025XX N KEDZIE BLVD| 0810|               THEFT|             OVER $500|               STREET|     N|    NULL|1414|  35|    06|     1154609|     1916759|41.927407329| -87.70729439|(41.927407329, -8...|\n",
            "|JG496991|               NULL|0000X W CHICAGO AVE| 0560|             ASSAULT|                SIMPLE|               STREET|     N|    NULL|1832|  42|   08A|     1176106|     1905725|41.896671699|-87.628635323|(41.896671699, -8...|\n",
            "|JG497145|               NULL|    019XX W 47TH ST| 051A|             ASSAULT|  AGGRAVATED - HANDGUN|             SIDEWALK|     N|    NULL| 931|  15|   04A|     1164331|     1873509|41.808525157|-87.672792896|(41.808525157, -8...|\n",
            "|JH179051|               NULL|   070XX S STATE ST| 0820|               THEFT|        $500 AND UNDER|   GROCERY FOOD STORE|     Y|    NULL| 322|   6|    06|     1177506|     1858207|41.766246905|-87.624932618|(41.766246905, -8...|\n",
            "+--------+-------------------+-------------------+-----+--------------------+----------------------+---------------------+------+--------+----+----+------+------------+------------+------------+-------------+--------------------+\n",
            "only showing top 5 rows\n",
            "\n"
          ]
        }
      ]
    },
    {
      "cell_type": "code",
      "source": [],
      "metadata": {
        "id": "3kTJeurZ1p4q"
      },
      "execution_count": 14,
      "outputs": []
    },
    {
      "cell_type": "markdown",
      "source": [
        "**Showing column**"
      ],
      "metadata": {
        "id": "ufOMyiio1nDR"
      }
    },
    {
      "cell_type": "code",
      "source": [
        "read_csv.select(' IUCR').show(5)"
      ],
      "metadata": {
        "colab": {
          "base_uri": "https://localhost:8080/"
        },
        "id": "Almkr0HTvwG0",
        "outputId": "55cf2476-83b7-4666-9acb-d0bee5230d7e"
      },
      "execution_count": 15,
      "outputs": [
        {
          "output_type": "stream",
          "name": "stdout",
          "text": [
            "+-----+\n",
            "| IUCR|\n",
            "+-----+\n",
            "| 0810|\n",
            "| 0560|\n",
            "| 051A|\n",
            "| 0820|\n",
            "| 0810|\n",
            "+-----+\n",
            "only showing top 5 rows\n",
            "\n"
          ]
        }
      ]
    },
    {
      "cell_type": "code",
      "source": [
        "read_csv.select(col(' IUCR')).show(5)"
      ],
      "metadata": {
        "colab": {
          "base_uri": "https://localhost:8080/"
        },
        "id": "DeJ7NBkB0uHR",
        "outputId": "ae75e71a-d4f1-4a83-cbf8-0a3db70f8088"
      },
      "execution_count": 16,
      "outputs": [
        {
          "output_type": "stream",
          "name": "stdout",
          "text": [
            "+-----+\n",
            "| IUCR|\n",
            "+-----+\n",
            "| 0810|\n",
            "| 0560|\n",
            "| 051A|\n",
            "| 0820|\n",
            "| 0810|\n",
            "+-----+\n",
            "only showing top 5 rows\n",
            "\n"
          ]
        }
      ]
    },
    {
      "cell_type": "markdown",
      "source": [
        "**Showing multiple cols**"
      ],
      "metadata": {
        "id": "o0ghCxt_1for"
      }
    },
    {
      "cell_type": "code",
      "source": [
        "read_csv.select(' IUCR', ' PRIMARY DESCRIPTION', 'DOMESTIC').show(5)"
      ],
      "metadata": {
        "colab": {
          "base_uri": "https://localhost:8080/"
        },
        "id": "9556Sczc1GlX",
        "outputId": "917718a1-2afb-4dc3-b73a-7d71fd2db8ad"
      },
      "execution_count": 17,
      "outputs": [
        {
          "output_type": "stream",
          "name": "stdout",
          "text": [
            "+-----+--------------------+--------+\n",
            "| IUCR| PRIMARY DESCRIPTION|DOMESTIC|\n",
            "+-----+--------------------+--------+\n",
            "| 0810|               THEFT|       N|\n",
            "| 0560|             ASSAULT|       N|\n",
            "| 051A|             ASSAULT|       N|\n",
            "| 0820|               THEFT|       N|\n",
            "| 0810|               THEFT|       N|\n",
            "+-----+--------------------+--------+\n",
            "only showing top 5 rows\n",
            "\n"
          ]
        }
      ]
    },
    {
      "cell_type": "markdown",
      "source": [
        "**Add new column named NEW COL with all entries 1s**"
      ],
      "metadata": {
        "id": "LESCKwrJ1w7s"
      }
    },
    {
      "cell_type": "code",
      "source": [
        "from pyspark.sql.functions import lit"
      ],
      "metadata": {
        "id": "28kvHOuy1eV7"
      },
      "execution_count": 18,
      "outputs": []
    },
    {
      "cell_type": "code",
      "source": [
        "read_csv.withColumn('NEW COLUMN', lit(1)).show(5)"
      ],
      "metadata": {
        "colab": {
          "base_uri": "https://localhost:8080/"
        },
        "id": "8W0QESCX1-9T",
        "outputId": "4cd91592-7aa4-46b5-faf7-2b525a3aa527"
      },
      "execution_count": 19,
      "outputs": [
        {
          "output_type": "stream",
          "name": "stdout",
          "text": [
            "+--------+-------------------+--------------------+-----+--------------------+----------------------+---------------------+------+--------+----+----+------+------------+------------+------------+-------------+--------------------+----------+\n",
            "|   CASE#|DATE  OF OCCURRENCE|               BLOCK| IUCR| PRIMARY DESCRIPTION| SECONDARY DESCRIPTION| LOCATION DESCRIPTION|ARREST|DOMESTIC|BEAT|WARD|FBI CD|X COORDINATE|Y COORDINATE|    LATITUDE|    LONGITUDE|            LOCATION|NEW COLUMN|\n",
            "+--------+-------------------+--------------------+-----+--------------------+----------------------+---------------------+------+--------+----+----+------+------------+------------+------------+-------------+--------------------+----------+\n",
            "|JG497095|2023-11-08 20:50:00| 025XX N KEDZIE BLVD| 0810|               THEFT|             OVER $500|               STREET|     N|       N|1414|  35|    06|     1154609|     1916759|41.927407329| -87.70729439|(41.927407329, -8...|         1|\n",
            "|JG496991|2023-11-08 15:14:00| 0000X W CHICAGO AVE| 0560|             ASSAULT|                SIMPLE|               STREET|     N|       N|1832|  42|   08A|     1176106|     1905725|41.896671699|-87.628635323|(41.896671699, -8...|         1|\n",
            "|JG497145|2023-11-08 22:55:00|     019XX W 47TH ST| 051A|             ASSAULT|  AGGRAVATED - HANDGUN|             SIDEWALK|     N|       N| 931|  15|   04A|     1164331|     1873509|41.808525157|-87.672792896|(41.808525157, -8...|         1|\n",
            "|JH179051|2024-03-07 14:15:00|    070XX S STATE ST| 0820|               THEFT|        $500 AND UNDER|   GROCERY FOOD STORE|     Y|       N| 322|   6|    06|     1177506|     1858207|41.766246905|-87.624932618|(41.766246905, -8...|         1|\n",
            "|JH178785|2024-03-07 04:53:00|077XX S CARPENTER ST| 0810|               THEFT|             OVER $500|               STREET|     N|       N| 612|  17|    06|     1170656|     1853451|41.753347902|-87.650178718|(41.753347902, -8...|         1|\n",
            "+--------+-------------------+--------------------+-----+--------------------+----------------------+---------------------+------+--------+----+----+------+------------+------------+------------+-------------+--------------------+----------+\n",
            "only showing top 5 rows\n",
            "\n"
          ]
        }
      ]
    },
    {
      "cell_type": "markdown",
      "source": [
        "**Dropping column ` IUCR`**"
      ],
      "metadata": {
        "id": "khYZtfG82IF6"
      }
    },
    {
      "cell_type": "code",
      "source": [
        "read_csv.drop(' IUCR').show(5)"
      ],
      "metadata": {
        "colab": {
          "base_uri": "https://localhost:8080/"
        },
        "id": "__7VwYhJ2FnD",
        "outputId": "492a0ff5-f24a-4c8b-8b9f-8f03ea43b4d7"
      },
      "execution_count": 20,
      "outputs": [
        {
          "output_type": "stream",
          "name": "stdout",
          "text": [
            "+--------+-------------------+--------------------+--------------------+----------------------+---------------------+------+--------+----+----+------+------------+------------+------------+-------------+--------------------+\n",
            "|   CASE#|DATE  OF OCCURRENCE|               BLOCK| PRIMARY DESCRIPTION| SECONDARY DESCRIPTION| LOCATION DESCRIPTION|ARREST|DOMESTIC|BEAT|WARD|FBI CD|X COORDINATE|Y COORDINATE|    LATITUDE|    LONGITUDE|            LOCATION|\n",
            "+--------+-------------------+--------------------+--------------------+----------------------+---------------------+------+--------+----+----+------+------------+------------+------------+-------------+--------------------+\n",
            "|JG497095|2023-11-08 20:50:00| 025XX N KEDZIE BLVD|               THEFT|             OVER $500|               STREET|     N|       N|1414|  35|    06|     1154609|     1916759|41.927407329| -87.70729439|(41.927407329, -8...|\n",
            "|JG496991|2023-11-08 15:14:00| 0000X W CHICAGO AVE|             ASSAULT|                SIMPLE|               STREET|     N|       N|1832|  42|   08A|     1176106|     1905725|41.896671699|-87.628635323|(41.896671699, -8...|\n",
            "|JG497145|2023-11-08 22:55:00|     019XX W 47TH ST|             ASSAULT|  AGGRAVATED - HANDGUN|             SIDEWALK|     N|       N| 931|  15|   04A|     1164331|     1873509|41.808525157|-87.672792896|(41.808525157, -8...|\n",
            "|JH179051|2024-03-07 14:15:00|    070XX S STATE ST|               THEFT|        $500 AND UNDER|   GROCERY FOOD STORE|     Y|       N| 322|   6|    06|     1177506|     1858207|41.766246905|-87.624932618|(41.766246905, -8...|\n",
            "|JH178785|2024-03-07 04:53:00|077XX S CARPENTER ST|               THEFT|             OVER $500|               STREET|     N|       N| 612|  17|    06|     1170656|     1853451|41.753347902|-87.650178718|(41.753347902, -8...|\n",
            "+--------+-------------------+--------------------+--------------------+----------------------+---------------------+------+--------+----+----+------+------------+------------+------------+-------------+--------------------+\n",
            "only showing top 5 rows\n",
            "\n"
          ]
        }
      ]
    },
    {
      "cell_type": "markdown",
      "source": [
        "#### WORKING WITH ROWS"
      ],
      "metadata": {
        "id": "yiGFoLby2Srt"
      }
    },
    {
      "cell_type": "code",
      "source": [
        "read_csv.select('DATE  OF OCCURRENCE').show(5)"
      ],
      "metadata": {
        "colab": {
          "base_uri": "https://localhost:8080/"
        },
        "id": "CldWzgp95thv",
        "outputId": "4216c2f8-a908-422a-9607-c182dbcdcb75"
      },
      "execution_count": 21,
      "outputs": [
        {
          "output_type": "stream",
          "name": "stdout",
          "text": [
            "+-------------------+\n",
            "|DATE  OF OCCURRENCE|\n",
            "+-------------------+\n",
            "|2023-11-08 20:50:00|\n",
            "|2023-11-08 15:14:00|\n",
            "|2023-11-08 22:55:00|\n",
            "|2024-03-07 14:15:00|\n",
            "|2024-03-07 04:53:00|\n",
            "+-------------------+\n",
            "only showing top 5 rows\n",
            "\n"
          ]
        }
      ]
    },
    {
      "cell_type": "markdown",
      "source": [
        "Filtering on Date"
      ],
      "metadata": {
        "id": "_p_D8v6d206H"
      }
    },
    {
      "cell_type": "code",
      "source": [
        "one_day_crime_df = read_csv.filter(col('DATE  OF OCCURRENCE').contains('2023-11-01'))\n",
        "one_day_crime_df.count()\n",
        "\n"
      ],
      "metadata": {
        "colab": {
          "base_uri": "https://localhost:8080/"
        },
        "id": "O7o1z7AY2QCZ",
        "outputId": "3599590e-547c-42a9-85e6-c1f19856b28c"
      },
      "execution_count": 22,
      "outputs": [
        {
          "output_type": "execute_result",
          "data": {
            "text/plain": [
              "755"
            ]
          },
          "metadata": {},
          "execution_count": 22
        }
      ]
    },
    {
      "cell_type": "code",
      "source": [
        "one_day_crime_df.show(5)"
      ],
      "metadata": {
        "colab": {
          "base_uri": "https://localhost:8080/"
        },
        "id": "6SKqATcM6e7h",
        "outputId": "ac51480f-7e55-470d-bb12-24c6653381c7"
      },
      "execution_count": 23,
      "outputs": [
        {
          "output_type": "stream",
          "name": "stdout",
          "text": [
            "+--------+-------------------+--------------------+-----+--------------------+----------------------+---------------------+------+--------+----+----+------+------------+------------+------------+-------------+--------------------+\n",
            "|   CASE#|DATE  OF OCCURRENCE|               BLOCK| IUCR| PRIMARY DESCRIPTION| SECONDARY DESCRIPTION| LOCATION DESCRIPTION|ARREST|DOMESTIC|BEAT|WARD|FBI CD|X COORDINATE|Y COORDINATE|    LATITUDE|    LONGITUDE|            LOCATION|\n",
            "+--------+-------------------+--------------------+-----+--------------------+----------------------+---------------------+------+--------+----+----+------+------------+------------+------------+-------------+--------------------+\n",
            "|JG503603|2023-11-01 21:00:00|   024XX W FITCH AVE| 0930| MOTOR VEHICLE THEFT|  THEFT / RECOVERY ...| VEHICLE NON-COMME...|     N|       N|2411|  50|    07|     1158863|     1947386|42.011363066|-87.690818628|(42.011363066, -8...|\n",
            "|JG518441|2023-11-01 07:00:00|044XX S DR MARTIN...| 1562|         SEX OFFENSE|  AGGRAVATED CRIMIN...| SCHOOL - PUBLIC B...|     N|       N| 221|   3|    17|     1179599|     1875714|  41.8142402| -87.61672621|(41.8142402, -87....|\n",
            "|JG487477|2023-11-01 16:08:00|     022XX E 73RD ST| 0820|               THEFT|        $500 AND UNDER|               STREET|     Y|       N| 333|   5|    06|     1192616|     1857002|41.762585454|-87.569589071|(41.762585454, -8...|\n",
            "|JG548442|2023-11-01 13:00:00|050XX W HENDERSON ST| 5002|       OTHER OFFENSE|  OTHER VEHICLE OFF...|               STREET|     N|       N|1634|  31|    26|     1142242|     1921804|41.941490088|-87.752612995|(41.941490088, -8...|\n",
            "|JG504005|2023-11-01 00:00:00|     025XX W 66TH ST| 1320|     CRIMINAL DAMAGE|            TO VEHICLE|               STREET|     N|       N| 832|  16|    14|     1160403|     1860801|41.773734648|-87.687550095|(41.773734648, -8...|\n",
            "+--------+-------------------+--------------------+-----+--------------------+----------------------+---------------------+------+--------+----+----+------+------------+------------+------------+-------------+--------------------+\n",
            "only showing top 5 rows\n",
            "\n"
          ]
        }
      ]
    },
    {
      "cell_type": "code",
      "source": [
        "one_day_crime_df.count()"
      ],
      "metadata": {
        "colab": {
          "base_uri": "https://localhost:8080/"
        },
        "id": "alin5Xfj-qdG",
        "outputId": "07d6e9af-6e14-42f7-9765-746f1298d9b8"
      },
      "execution_count": 24,
      "outputs": [
        {
          "output_type": "execute_result",
          "data": {
            "text/plain": [
              "755"
            ]
          },
          "metadata": {},
          "execution_count": 24
        }
      ]
    },
    {
      "cell_type": "code",
      "source": [
        "read_csv.count()"
      ],
      "metadata": {
        "colab": {
          "base_uri": "https://localhost:8080/"
        },
        "id": "iakhDBWa-pMU",
        "outputId": "20888f9b-8011-4fdd-d0f1-42681a721529"
      },
      "execution_count": 25,
      "outputs": [
        {
          "output_type": "execute_result",
          "data": {
            "text/plain": [
              "156171"
            ]
          },
          "metadata": {},
          "execution_count": 25
        }
      ]
    },
    {
      "cell_type": "code",
      "source": [
        "new_csv = read_csv.union(one_day_crime_df)"
      ],
      "metadata": {
        "id": "RoaQRNfq9vwl"
      },
      "execution_count": 26,
      "outputs": []
    },
    {
      "cell_type": "code",
      "source": [
        "new_csv.count()"
      ],
      "metadata": {
        "colab": {
          "base_uri": "https://localhost:8080/"
        },
        "id": "j6QpUbJq-WNv",
        "outputId": "fdf3c3f4-ace5-4195-b4da-343c0bbf4ce9"
      },
      "execution_count": 27,
      "outputs": [
        {
          "output_type": "execute_result",
          "data": {
            "text/plain": [
              "156926"
            ]
          },
          "metadata": {},
          "execution_count": 27
        }
      ]
    },
    {
      "cell_type": "code",
      "source": [
        "new_csv.orderBy('DATE  OF OCCURRENCE',ascending = False ).show(5)"
      ],
      "metadata": {
        "colab": {
          "base_uri": "https://localhost:8080/"
        },
        "id": "EtHCXRSh_jRu",
        "outputId": "e64fd670-81cb-4d60-c37b-e6afd95f7ce4"
      },
      "execution_count": 28,
      "outputs": [
        {
          "output_type": "stream",
          "name": "stdout",
          "text": [
            "+--------+-------------------+--------------------+-----+--------------------+----------------------+---------------------+------+--------+----+----+------+------------+------------+------------+-------------+--------------------+\n",
            "|   CASE#|DATE  OF OCCURRENCE|               BLOCK| IUCR| PRIMARY DESCRIPTION| SECONDARY DESCRIPTION| LOCATION DESCRIPTION|ARREST|DOMESTIC|BEAT|WARD|FBI CD|X COORDINATE|Y COORDINATE|    LATITUDE|    LONGITUDE|            LOCATION|\n",
            "+--------+-------------------+--------------------+-----+--------------------+----------------------+---------------------+------+--------+----+----+------+------------+------------+------------+-------------+--------------------+\n",
            "|JH220340|2024-04-10 00:00:00|    019XX W 103RD ST| 1130|  DECEPTIVE PRACTICE|  FRAUD OR CONFIDEN...|           RESTAURANT|     N|       N|2213|  19|    11|     1165343|     1836362|41.706567182|-87.670131443|(41.706567182, -8...|\n",
            "|JH220281|2024-04-10 00:00:00|056XX S PRINCETON...| 1310|     CRIMINAL DAMAGE|           TO PROPERTY|            RESIDENCE|     N|       N| 711|  20|    14|     1175248|     1867553| 41.79194408|-87.632929944|(41.79194408, -87...|\n",
            "|JH219576|2024-04-10 00:00:00|065XX S DR MARTIN...| 0460|             BATTERY|                SIMPLE|            APARTMENT|     N|       N| 312|  20|   08B|     1180043|     1861837|41.776150283|-87.615522623|(41.776150283, -8...|\n",
            "|JH221993|2024-04-10 00:00:00|  057XX W MELROSE ST| 0910| MOTOR VEHICLE THEFT|            AUTOMOBILE|               STREET|     N|       N|1633|  30|    07|     1137620|     1921029|41.939448073|-87.769619688|(41.939448073, -8...|\n",
            "|JH220414|2024-04-10 00:00:00|     0000X W 87TH ST| 0460|             BATTERY|                SIMPLE|         CTA BUS STOP|     N|       N| 634|  21|   08B|     1177549|     1847286|41.736277427| -87.62510451|(41.736277427, -8...|\n",
            "+--------+-------------------+--------------------+-----+--------------------+----------------------+---------------------+------+--------+----+----+------+------------+------------+------------+-------------+--------------------+\n",
            "only showing top 5 rows\n",
            "\n"
          ]
        }
      ]
    },
    {
      "cell_type": "code",
      "source": [
        "crime_type = read_csv.select(' PRIMARY DESCRIPTION').distinct()"
      ],
      "metadata": {
        "id": "52ASJg9N3kVP"
      },
      "execution_count": 29,
      "outputs": []
    },
    {
      "cell_type": "code",
      "source": [
        "crime_type.count()\n"
      ],
      "metadata": {
        "colab": {
          "base_uri": "https://localhost:8080/"
        },
        "id": "ukyGvuxd7f_z",
        "outputId": "bd5c0c13-2455-4572-ac45-5201fb752cb9"
      },
      "execution_count": 30,
      "outputs": [
        {
          "output_type": "execute_result",
          "data": {
            "text/plain": [
              "31"
            ]
          },
          "metadata": {},
          "execution_count": 30
        }
      ]
    },
    {
      "cell_type": "code",
      "source": [
        "crime_type_list = crime_type.select(' PRIMARY DESCRIPTION').collect()\n",
        "crime_list = [row[' PRIMARY DESCRIPTION'] for row in crime_type_list]\n",
        "print(crime_list)"
      ],
      "metadata": {
        "colab": {
          "base_uri": "https://localhost:8080/"
        },
        "id": "U87Zh7Xk8FF0",
        "outputId": "e5e8ea0e-2c74-4c99-ebbb-4883bf252f14"
      },
      "execution_count": 31,
      "outputs": [
        {
          "output_type": "stream",
          "name": "stdout",
          "text": [
            "['OFFENSE INVOLVING CHILDREN', 'CRIMINAL SEXUAL ASSAULT', 'STALKING', 'PUBLIC PEACE VIOLATION', 'OBSCENITY', 'ARSON', 'GAMBLING', 'CRIMINAL TRESPASS', 'ASSAULT', 'LIQUOR LAW VIOLATION', 'MOTOR VEHICLE THEFT', 'THEFT', 'BATTERY', 'ROBBERY', 'HOMICIDE', 'PUBLIC INDECENCY', 'HUMAN TRAFFICKING', 'INTIMIDATION', 'PROSTITUTION', 'DECEPTIVE PRACTICE', 'CONCEALED CARRY LICENSE VIOLATION', 'SEX OFFENSE', 'CRIMINAL DAMAGE', 'NARCOTICS', 'NON-CRIMINAL', 'OTHER OFFENSE', 'KIDNAPPING', 'BURGLARY', 'WEAPONS VIOLATION', 'INTERFERENCE WITH PUBLIC OFFICER', 'OTHER NARCOTIC VIOLATION']\n"
          ]
        }
      ]
    },
    {
      "cell_type": "markdown",
      "source": [
        "**Top 10 number of reported crimes by Primary type in descending order of occurance**"
      ],
      "metadata": {
        "id": "kAXqs_V_CqMF"
      }
    },
    {
      "cell_type": "code",
      "source": [
        "new_csv.groupBy(' PRIMARY DESCRIPTION').count().orderBy('count', ascending=False).show(10)"
      ],
      "metadata": {
        "colab": {
          "base_uri": "https://localhost:8080/"
        },
        "id": "5J2316Np3MH_",
        "outputId": "26fab379-b555-4b54-984a-c7bc0e3ec367"
      },
      "execution_count": 34,
      "outputs": [
        {
          "output_type": "stream",
          "name": "stdout",
          "text": [
            "+--------------------+-----+\n",
            "| PRIMARY DESCRIPTION|count|\n",
            "+--------------------+-----+\n",
            "|               THEFT|35272|\n",
            "|             BATTERY|26718|\n",
            "|     CRIMINAL DAMAGE|17691|\n",
            "| MOTOR VEHICLE THEFT|15916|\n",
            "|             ASSAULT|13826|\n",
            "|       OTHER OFFENSE| 9932|\n",
            "|  DECEPTIVE PRACTICE| 9656|\n",
            "|             ROBBERY| 7010|\n",
            "|   WEAPONS VIOLATION| 4779|\n",
            "|            BURGLARY| 4503|\n",
            "+--------------------+-----+\n",
            "only showing top 10 rows\n",
            "\n"
          ]
        }
      ]
    },
    {
      "cell_type": "markdown",
      "source": [
        "Percentage of Reported Crime that resulted in arrest\n"
      ],
      "metadata": {
        "id": "_e07furi4EW0"
      }
    },
    {
      "cell_type": "code",
      "source": [
        "new_csv.select('ARREST').distinct().show()"
      ],
      "metadata": {
        "colab": {
          "base_uri": "https://localhost:8080/"
        },
        "id": "E2T0-BFm32iI",
        "outputId": "65683fab-c0df-47f7-fe72-9203dda5e4c0"
      },
      "execution_count": 36,
      "outputs": [
        {
          "output_type": "stream",
          "name": "stdout",
          "text": [
            "+------+\n",
            "|ARREST|\n",
            "+------+\n",
            "|     Y|\n",
            "|     N|\n",
            "+------+\n",
            "\n"
          ]
        }
      ]
    },
    {
      "cell_type": "code",
      "source": [
        "new_csv.filter(col('ARREST')=='Y').count()/new_csv.select('ARREST').count()"
      ],
      "metadata": {
        "colab": {
          "base_uri": "https://localhost:8080/"
        },
        "id": "1ts51NM64lx8",
        "outputId": "9a33a793-ceb3-42fd-8e91-dc0925bf1d25"
      },
      "execution_count": 37,
      "outputs": [
        {
          "output_type": "execute_result",
          "data": {
            "text/plain": [
              "0.1255432496845647"
            ]
          },
          "metadata": {},
          "execution_count": 37
        }
      ]
    },
    {
      "cell_type": "markdown",
      "source": [
        "Top 3 locations for reported crimes"
      ],
      "metadata": {
        "id": "xXs_uT9f5Dwj"
      }
    },
    {
      "cell_type": "code",
      "source": [
        "new_csv.groupBy(' LOCATION DESCRIPTION').count().orderBy('count', ascending=False).show(3)"
      ],
      "metadata": {
        "colab": {
          "base_uri": "https://localhost:8080/"
        },
        "id": "vzdrXXLL4NWE",
        "outputId": "46be8b1c-8450-43e5-def5-3c0435731d57"
      },
      "execution_count": 39,
      "outputs": [
        {
          "output_type": "stream",
          "name": "stdout",
          "text": [
            "+---------------------+-----+\n",
            "| LOCATION DESCRIPTION|count|\n",
            "+---------------------+-----+\n",
            "|               STREET|44835|\n",
            "|            APARTMENT|29902|\n",
            "|            RESIDENCE|18501|\n",
            "+---------------------+-----+\n",
            "only showing top 3 rows\n",
            "\n"
          ]
        }
      ]
    },
    {
      "cell_type": "code",
      "source": [],
      "metadata": {
        "id": "rCPLROr95SFT"
      },
      "execution_count": null,
      "outputs": []
    }
  ]
}