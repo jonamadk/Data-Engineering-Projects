{
  "nbformat": 4,
  "nbformat_minor": 0,
  "metadata": {
    "colab": {
      "provenance": []
    },
    "kernelspec": {
      "name": "python3",
      "display_name": "Python 3"
    },
    "language_info": {
      "name": "python"
    }
  },
  "cells": [
    {
      "cell_type": "code",
      "source": [
        "!pip install findspark\n",
        "!pip install pyspark"
      ],
      "metadata": {
        "colab": {
          "base_uri": "https://localhost:8080/"
        },
        "id": "tVxywzuzuWoD",
        "outputId": "7b6d18d3-f11b-482a-86d2-eaabc621f335"
      },
      "execution_count": 693,
      "outputs": [
        {
          "output_type": "stream",
          "name": "stdout",
          "text": [
            "Requirement already satisfied: findspark in /usr/local/lib/python3.10/dist-packages (2.0.1)\n",
            "Requirement already satisfied: pyspark in /usr/local/lib/python3.10/dist-packages (3.5.1)\n",
            "Requirement already satisfied: py4j==0.10.9.7 in /usr/local/lib/python3.10/dist-packages (from pyspark) (0.10.9.7)\n"
          ]
        }
      ]
    },
    {
      "cell_type": "code",
      "source": [
        "import findspark\n",
        "findspark.init()\n"
      ],
      "metadata": {
        "id": "ofN1WYc2vYwJ"
      },
      "execution_count": 694,
      "outputs": []
    },
    {
      "cell_type": "code",
      "source": [
        "from pyspark import SparkContext"
      ],
      "metadata": {
        "id": "BO7dd1c4vpn4"
      },
      "execution_count": 695,
      "outputs": []
    },
    {
      "cell_type": "code",
      "source": [
        "from pyspark.sql import SparkSession\n",
        "\n",
        "# Initialize SparkSession\n",
        "spark = SparkSession.builder \\\n",
        "    .appName(\"CrimeDataAnalysis\") \\\n",
        "    .getOrCreate()\n",
        "\n",
        "# Now you can use the 'spark' variable to read CSV files or perform other Spark operations\n"
      ],
      "metadata": {
        "id": "8w7o6n7w2E8F"
      },
      "execution_count": 696,
      "outputs": []
    },
    {
      "cell_type": "markdown",
      "source": [
        "#### **CHICAGO CRIME DATA**"
      ],
      "metadata": {
        "id": "vCALYpaEytYW"
      }
    },
    {
      "cell_type": "code",
      "source": [
        "from pyspark.sql.functions import to_timestamp,col,lit\n",
        "read_csv = spark.read.csv('sample_data/crime.csv', header=True).withColumn('Date', to_timestamp(col('Date'), 'MM/dd/yyyy hh:mm:ss a'))\n",
        "read_csv.show(5)\n"
      ],
      "metadata": {
        "colab": {
          "base_uri": "https://localhost:8080/"
        },
        "id": "8_ooVfKHzRpV",
        "outputId": "a4c54cf0-5092-485a-b39a-1e792d50df45"
      },
      "execution_count": 697,
      "outputs": [
        {
          "output_type": "stream",
          "name": "stdout",
          "text": [
            "+--------+-----------+-------------------+-------------------+----+--------------------+--------------------+--------------------+------+--------+----+--------+----+--------------+--------+------------+------------+----+--------------------+--------+---------+--------+\n",
            "|      ID|Case Number|               Date|              Block|IUCR|        Primary Type|         Description|Location Description|Arrest|Domestic|Beat|District|Ward|Community Area|FBI Code|X Coordinate|Y Coordinate|Year|          Updated On|Latitude|Longitude|Location|\n",
            "+--------+-----------+-------------------+-------------------+----+--------------------+--------------------+--------------------+------+--------+----+--------+----+--------------+--------+------------+------------+----+--------------------+--------+---------+--------+\n",
            "|12536164|   JE439378|2015-09-24 00:00:00|    031XX W 53RD PL|1753|OFFENSE INVOLVING...|SEXUAL ASSAULT OF...|           APARTMENT| false|    true|0923|     009|  14|            63|      02|        NULL|        NULL|2015|09/14/2023 03:41:...|    NULL|     NULL|    NULL|\n",
            "|13188119|   JG397237|2015-05-15 00:00:00|    041XX W 24TH PL|1754|OFFENSE INVOLVING...|AGGRAVATED SEXUAL...|           APARTMENT|  true|    true|1013|     010|  22|            30|      02|        NULL|        NULL|2015|09/14/2023 03:41:...|    NULL|     NULL|    NULL|\n",
            "|13193781|   JG397432|2015-06-18 00:00:00|031XX S KOSTNER AVE|1752|OFFENSE INVOLVING...|AGGRAVATED CRIMIN...|           RESIDENCE| false|    true|1031|     010|  22|            30|      17|        NULL|        NULL|2015|09/14/2023 03:43:...|    NULL|     NULL|    NULL|\n",
            "|12755252|   JF308430|2015-08-30 00:00:00|  049XX N DRAKE AVE|1752|OFFENSE INVOLVING...|AGGRAVATED CRIMIN...|           APARTMENT| false|    true|1712|     017|  33|            14|      17|        NULL|        NULL|2015|09/16/2023 03:41:...|    NULL|     NULL|    NULL|\n",
            "|12998264|   JG171087|2015-01-12 12:00:00|   0000X E 122ND ST|1752|OFFENSE INVOLVING...|AGGRAVATED CRIMIN...|           RESIDENCE| false|    true|0532|     005|   9|            53|      17|        NULL|        NULL|2015|09/18/2023 03:41:...|    NULL|     NULL|    NULL|\n",
            "+--------+-----------+-------------------+-------------------+----+--------------------+--------------------+--------------------+------+--------+----+--------+----+--------------+--------+------------+------------+----+--------------------+--------+---------+--------+\n",
            "only showing top 5 rows\n",
            "\n"
          ]
        }
      ]
    },
    {
      "cell_type": "markdown",
      "source": [
        "**Schema Handling**"
      ],
      "metadata": {
        "id": "w5Rj_dvIv1qX"
      }
    },
    {
      "cell_type": "code",
      "source": [
        "read_csv.printSchema()"
      ],
      "metadata": {
        "colab": {
          "base_uri": "https://localhost:8080/"
        },
        "id": "a4igUvF_1P5t",
        "outputId": "541d7c78-4e69-4ec0-aca8-3d12772b8f5f"
      },
      "execution_count": 698,
      "outputs": [
        {
          "output_type": "stream",
          "name": "stdout",
          "text": [
            "root\n",
            " |-- ID: string (nullable = true)\n",
            " |-- Case Number: string (nullable = true)\n",
            " |-- Date: timestamp (nullable = true)\n",
            " |-- Block: string (nullable = true)\n",
            " |-- IUCR: string (nullable = true)\n",
            " |-- Primary Type: string (nullable = true)\n",
            " |-- Description: string (nullable = true)\n",
            " |-- Location Description: string (nullable = true)\n",
            " |-- Arrest: string (nullable = true)\n",
            " |-- Domestic: string (nullable = true)\n",
            " |-- Beat: string (nullable = true)\n",
            " |-- District: string (nullable = true)\n",
            " |-- Ward: string (nullable = true)\n",
            " |-- Community Area: string (nullable = true)\n",
            " |-- FBI Code: string (nullable = true)\n",
            " |-- X Coordinate: string (nullable = true)\n",
            " |-- Y Coordinate: string (nullable = true)\n",
            " |-- Year: string (nullable = true)\n",
            " |-- Updated On: string (nullable = true)\n",
            " |-- Latitude: string (nullable = true)\n",
            " |-- Longitude: string (nullable = true)\n",
            " |-- Location: string (nullable = true)\n",
            "\n"
          ]
        }
      ]
    },
    {
      "cell_type": "code",
      "source": [
        "from pyspark.sql.types import StructType, StructField, StringType, TimestampType, BooleanType, DoubleType, IntegerType"
      ],
      "metadata": {
        "id": "D5UlpZOIKbmj"
      },
      "execution_count": 699,
      "outputs": []
    },
    {
      "cell_type": "code",
      "source": [
        "read_csv.columns"
      ],
      "metadata": {
        "colab": {
          "base_uri": "https://localhost:8080/"
        },
        "id": "HFxs_S6yKvTP",
        "outputId": "e8ddfde7-45c1-4c81-fd02-244987dfdd02"
      },
      "execution_count": 700,
      "outputs": [
        {
          "output_type": "execute_result",
          "data": {
            "text/plain": [
              "['ID',\n",
              " 'Case Number',\n",
              " 'Date',\n",
              " 'Block',\n",
              " 'IUCR',\n",
              " 'Primary Type',\n",
              " 'Description',\n",
              " 'Location Description',\n",
              " 'Arrest',\n",
              " 'Domestic',\n",
              " 'Beat',\n",
              " 'District',\n",
              " 'Ward',\n",
              " 'Community Area',\n",
              " 'FBI Code',\n",
              " 'X Coordinate',\n",
              " 'Y Coordinate',\n",
              " 'Year',\n",
              " 'Updated On',\n",
              " 'Latitude',\n",
              " 'Longitude',\n",
              " 'Location']"
            ]
          },
          "metadata": {},
          "execution_count": 700
        }
      ]
    },
    {
      "cell_type": "markdown",
      "source": [
        "Just an example on how the type of Date (timestamp type has been changed to string). However, timestamp is the preferred data-type for the Date column."
      ],
      "metadata": {
        "id": "wBj0ayejcvL4"
      }
    },
    {
      "cell_type": "code",
      "source": [
        "labels= [('ID',StringType()),\n",
        "('Date',StringType()),\n",
        "('Block',StringType()),\n",
        "('IUCR',StringType()),\n",
        "('Primary Type',StringType()),\n",
        "('Description',StringType()),\n",
        "('Location Description',StringType()),\n",
        "('Arrest',StringType()),\n",
        "('Domestic', BooleanType()),\n",
        "('Beat', StringType()),\n",
        "('Ward',StringType()),\n",
        "('FBI Code', StringType()),\n",
        "('X Coordinate',StringType()),\n",
        "('Y Coordinate',StringType()),\n",
        "('Latitude', DoubleType()),\n",
        "('Longitude', DoubleType()),\n",
        "('Location', StringType())]"
      ],
      "metadata": {
        "id": "juMCNEYevFU1"
      },
      "execution_count": 701,
      "outputs": []
    },
    {
      "cell_type": "code",
      "source": [
        "schema = StructType([StructField(x[0],x[1],True) for x in labels])\n"
      ],
      "metadata": {
        "id": "cdaPQZatKomo"
      },
      "execution_count": 702,
      "outputs": []
    },
    {
      "cell_type": "code",
      "source": [
        "csv_df = spark.read.csv('sample_data/crime.csv', schema = schema)"
      ],
      "metadata": {
        "id": "cI2qClvovcby"
      },
      "execution_count": 703,
      "outputs": []
    },
    {
      "cell_type": "code",
      "source": [
        "csv_df.printSchema()"
      ],
      "metadata": {
        "colab": {
          "base_uri": "https://localhost:8080/"
        },
        "id": "gkl7-F8kvI3g",
        "outputId": "80f60798-0846-45c9-b5e7-0ca11aaa0e95"
      },
      "execution_count": 704,
      "outputs": [
        {
          "output_type": "stream",
          "name": "stdout",
          "text": [
            "root\n",
            " |-- ID: string (nullable = true)\n",
            " |-- Date: string (nullable = true)\n",
            " |-- Block: string (nullable = true)\n",
            " |-- IUCR: string (nullable = true)\n",
            " |-- Primary Type: string (nullable = true)\n",
            " |-- Description: string (nullable = true)\n",
            " |-- Location Description: string (nullable = true)\n",
            " |-- Arrest: string (nullable = true)\n",
            " |-- Domestic: boolean (nullable = true)\n",
            " |-- Beat: string (nullable = true)\n",
            " |-- Ward: string (nullable = true)\n",
            " |-- FBI Code: string (nullable = true)\n",
            " |-- X Coordinate: string (nullable = true)\n",
            " |-- Y Coordinate: string (nullable = true)\n",
            " |-- Latitude: double (nullable = true)\n",
            " |-- Longitude: double (nullable = true)\n",
            " |-- Location: string (nullable = true)\n",
            "\n"
          ]
        }
      ]
    },
    {
      "cell_type": "code",
      "source": [
        "csv_df.show(5)"
      ],
      "metadata": {
        "colab": {
          "base_uri": "https://localhost:8080/"
        },
        "id": "RxEw6dtrvYTo",
        "outputId": "bced5556-0d62-45d0-9ea9-48372a998528"
      },
      "execution_count": 705,
      "outputs": [
        {
          "output_type": "stream",
          "name": "stdout",
          "text": [
            "+--------+-----------+--------------------+-------------------+------------+--------------------+--------------------+--------------------+--------+--------+----+--------+------------+--------------+--------+---------+------------+\n",
            "|      ID|       Date|               Block|               IUCR|Primary Type|         Description|Location Description|              Arrest|Domestic|    Beat|Ward|FBI Code|X Coordinate|  Y Coordinate|Latitude|Longitude|    Location|\n",
            "+--------+-----------+--------------------+-------------------+------------+--------------------+--------------------+--------------------+--------+--------+----+--------+------------+--------------+--------+---------+------------+\n",
            "|      ID|Case Number|                Date|              Block|        IUCR|        Primary Type|         Description|Location Description|    NULL|Domestic|Beat|District|        Ward|Community Area|    NULL|     NULL|Y Coordinate|\n",
            "|12536164|   JE439378|09/24/2015 12:00:...|    031XX W 53RD PL|        1753|OFFENSE INVOLVING...|SEXUAL ASSAULT OF...|           APARTMENT|   false|    true|0923|     009|          14|            63|     2.0|     NULL|        NULL|\n",
            "|13188119|   JG397237|05/15/2015 12:00:...|    041XX W 24TH PL|        1754|OFFENSE INVOLVING...|AGGRAVATED SEXUAL...|           APARTMENT|    true|    true|1013|     010|          22|            30|     2.0|     NULL|        NULL|\n",
            "|13193781|   JG397432|06/18/2015 12:00:...|031XX S KOSTNER AVE|        1752|OFFENSE INVOLVING...|AGGRAVATED CRIMIN...|           RESIDENCE|   false|    true|1031|     010|          22|            30|    17.0|     NULL|        NULL|\n",
            "|12755252|   JF308430|08/30/2015 12:00:...|  049XX N DRAKE AVE|        1752|OFFENSE INVOLVING...|AGGRAVATED CRIMIN...|           APARTMENT|   false|    true|1712|     017|          33|            14|    17.0|     NULL|        NULL|\n",
            "+--------+-----------+--------------------+-------------------+------------+--------------------+--------------------+--------------------+--------+--------+----+--------+------------+--------------+--------+---------+------------+\n",
            "only showing top 5 rows\n",
            "\n"
          ]
        }
      ]
    },
    {
      "cell_type": "markdown",
      "source": [
        "**Showing column**"
      ],
      "metadata": {
        "id": "ufOMyiio1nDR"
      }
    },
    {
      "cell_type": "code",
      "source": [
        "read_csv.select('IUCR').show(5)"
      ],
      "metadata": {
        "colab": {
          "base_uri": "https://localhost:8080/"
        },
        "id": "Almkr0HTvwG0",
        "outputId": "b3d687f8-53e5-4a91-9de1-aa6ec7e65686"
      },
      "execution_count": 706,
      "outputs": [
        {
          "output_type": "stream",
          "name": "stdout",
          "text": [
            "+----+\n",
            "|IUCR|\n",
            "+----+\n",
            "|1753|\n",
            "|1754|\n",
            "|1752|\n",
            "|1752|\n",
            "|1752|\n",
            "+----+\n",
            "only showing top 5 rows\n",
            "\n"
          ]
        }
      ]
    },
    {
      "cell_type": "code",
      "source": [
        "read_csv.select(col('IUCR')).show(5)"
      ],
      "metadata": {
        "colab": {
          "base_uri": "https://localhost:8080/"
        },
        "id": "DeJ7NBkB0uHR",
        "outputId": "95fff494-b1d3-4772-85b6-47ee9e039553"
      },
      "execution_count": 707,
      "outputs": [
        {
          "output_type": "stream",
          "name": "stdout",
          "text": [
            "+----+\n",
            "|IUCR|\n",
            "+----+\n",
            "|1753|\n",
            "|1754|\n",
            "|1752|\n",
            "|1752|\n",
            "|1752|\n",
            "+----+\n",
            "only showing top 5 rows\n",
            "\n"
          ]
        }
      ]
    },
    {
      "cell_type": "markdown",
      "source": [
        "**Showing multiple cols**"
      ],
      "metadata": {
        "id": "o0ghCxt_1for"
      }
    },
    {
      "cell_type": "code",
      "source": [
        "read_csv.select('IUCR', 'Primary Type', 'Domestic').show(5)"
      ],
      "metadata": {
        "colab": {
          "base_uri": "https://localhost:8080/"
        },
        "id": "9556Sczc1GlX",
        "outputId": "7854b537-909f-4a25-e734-fafda4bcc98c"
      },
      "execution_count": 708,
      "outputs": [
        {
          "output_type": "stream",
          "name": "stdout",
          "text": [
            "+----+--------------------+--------+\n",
            "|IUCR|        Primary Type|Domestic|\n",
            "+----+--------------------+--------+\n",
            "|1753|OFFENSE INVOLVING...|    true|\n",
            "|1754|OFFENSE INVOLVING...|    true|\n",
            "|1752|OFFENSE INVOLVING...|    true|\n",
            "|1752|OFFENSE INVOLVING...|    true|\n",
            "|1752|OFFENSE INVOLVING...|    true|\n",
            "+----+--------------------+--------+\n",
            "only showing top 5 rows\n",
            "\n"
          ]
        }
      ]
    },
    {
      "cell_type": "markdown",
      "source": [
        "**Add new column named NEW COL with all entries 1s**"
      ],
      "metadata": {
        "id": "LESCKwrJ1w7s"
      }
    },
    {
      "cell_type": "code",
      "source": [
        "from pyspark.sql.functions import lit"
      ],
      "metadata": {
        "id": "28kvHOuy1eV7"
      },
      "execution_count": 709,
      "outputs": []
    },
    {
      "cell_type": "code",
      "source": [
        "read_csv.withColumn('NEW COLUMN', lit(1)).show(5)"
      ],
      "metadata": {
        "colab": {
          "base_uri": "https://localhost:8080/"
        },
        "id": "8W0QESCX1-9T",
        "outputId": "d544e966-2d5a-419d-885e-4b0c0fdae2ba"
      },
      "execution_count": 710,
      "outputs": [
        {
          "output_type": "stream",
          "name": "stdout",
          "text": [
            "+--------+-----------+-------------------+-------------------+----+--------------------+--------------------+--------------------+------+--------+----+--------+----+--------------+--------+------------+------------+----+--------------------+--------+---------+--------+----------+\n",
            "|      ID|Case Number|               Date|              Block|IUCR|        Primary Type|         Description|Location Description|Arrest|Domestic|Beat|District|Ward|Community Area|FBI Code|X Coordinate|Y Coordinate|Year|          Updated On|Latitude|Longitude|Location|NEW COLUMN|\n",
            "+--------+-----------+-------------------+-------------------+----+--------------------+--------------------+--------------------+------+--------+----+--------+----+--------------+--------+------------+------------+----+--------------------+--------+---------+--------+----------+\n",
            "|12536164|   JE439378|2015-09-24 00:00:00|    031XX W 53RD PL|1753|OFFENSE INVOLVING...|SEXUAL ASSAULT OF...|           APARTMENT| false|    true|0923|     009|  14|            63|      02|        NULL|        NULL|2015|09/14/2023 03:41:...|    NULL|     NULL|    NULL|         1|\n",
            "|13188119|   JG397237|2015-05-15 00:00:00|    041XX W 24TH PL|1754|OFFENSE INVOLVING...|AGGRAVATED SEXUAL...|           APARTMENT|  true|    true|1013|     010|  22|            30|      02|        NULL|        NULL|2015|09/14/2023 03:41:...|    NULL|     NULL|    NULL|         1|\n",
            "|13193781|   JG397432|2015-06-18 00:00:00|031XX S KOSTNER AVE|1752|OFFENSE INVOLVING...|AGGRAVATED CRIMIN...|           RESIDENCE| false|    true|1031|     010|  22|            30|      17|        NULL|        NULL|2015|09/14/2023 03:43:...|    NULL|     NULL|    NULL|         1|\n",
            "|12755252|   JF308430|2015-08-30 00:00:00|  049XX N DRAKE AVE|1752|OFFENSE INVOLVING...|AGGRAVATED CRIMIN...|           APARTMENT| false|    true|1712|     017|  33|            14|      17|        NULL|        NULL|2015|09/16/2023 03:41:...|    NULL|     NULL|    NULL|         1|\n",
            "|12998264|   JG171087|2015-01-12 12:00:00|   0000X E 122ND ST|1752|OFFENSE INVOLVING...|AGGRAVATED CRIMIN...|           RESIDENCE| false|    true|0532|     005|   9|            53|      17|        NULL|        NULL|2015|09/18/2023 03:41:...|    NULL|     NULL|    NULL|         1|\n",
            "+--------+-----------+-------------------+-------------------+----+--------------------+--------------------+--------------------+------+--------+----+--------+----+--------------+--------+------------+------------+----+--------------------+--------+---------+--------+----------+\n",
            "only showing top 5 rows\n",
            "\n"
          ]
        }
      ]
    },
    {
      "cell_type": "markdown",
      "source": [
        "**Dropping column ` IUCR`**"
      ],
      "metadata": {
        "id": "khYZtfG82IF6"
      }
    },
    {
      "cell_type": "code",
      "source": [
        "read_csv.drop('IUCR').show(5)"
      ],
      "metadata": {
        "colab": {
          "base_uri": "https://localhost:8080/"
        },
        "id": "__7VwYhJ2FnD",
        "outputId": "09f3a277-24ab-4845-e8e0-4b48387dbd6f"
      },
      "execution_count": 711,
      "outputs": [
        {
          "output_type": "stream",
          "name": "stdout",
          "text": [
            "+--------+-----------+-------------------+-------------------+--------------------+--------------------+--------------------+------+--------+----+--------+----+--------------+--------+------------+------------+----+--------------------+--------+---------+--------+\n",
            "|      ID|Case Number|               Date|              Block|        Primary Type|         Description|Location Description|Arrest|Domestic|Beat|District|Ward|Community Area|FBI Code|X Coordinate|Y Coordinate|Year|          Updated On|Latitude|Longitude|Location|\n",
            "+--------+-----------+-------------------+-------------------+--------------------+--------------------+--------------------+------+--------+----+--------+----+--------------+--------+------------+------------+----+--------------------+--------+---------+--------+\n",
            "|12536164|   JE439378|2015-09-24 00:00:00|    031XX W 53RD PL|OFFENSE INVOLVING...|SEXUAL ASSAULT OF...|           APARTMENT| false|    true|0923|     009|  14|            63|      02|        NULL|        NULL|2015|09/14/2023 03:41:...|    NULL|     NULL|    NULL|\n",
            "|13188119|   JG397237|2015-05-15 00:00:00|    041XX W 24TH PL|OFFENSE INVOLVING...|AGGRAVATED SEXUAL...|           APARTMENT|  true|    true|1013|     010|  22|            30|      02|        NULL|        NULL|2015|09/14/2023 03:41:...|    NULL|     NULL|    NULL|\n",
            "|13193781|   JG397432|2015-06-18 00:00:00|031XX S KOSTNER AVE|OFFENSE INVOLVING...|AGGRAVATED CRIMIN...|           RESIDENCE| false|    true|1031|     010|  22|            30|      17|        NULL|        NULL|2015|09/14/2023 03:43:...|    NULL|     NULL|    NULL|\n",
            "|12755252|   JF308430|2015-08-30 00:00:00|  049XX N DRAKE AVE|OFFENSE INVOLVING...|AGGRAVATED CRIMIN...|           APARTMENT| false|    true|1712|     017|  33|            14|      17|        NULL|        NULL|2015|09/16/2023 03:41:...|    NULL|     NULL|    NULL|\n",
            "|12998264|   JG171087|2015-01-12 12:00:00|   0000X E 122ND ST|OFFENSE INVOLVING...|AGGRAVATED CRIMIN...|           RESIDENCE| false|    true|0532|     005|   9|            53|      17|        NULL|        NULL|2015|09/18/2023 03:41:...|    NULL|     NULL|    NULL|\n",
            "+--------+-----------+-------------------+-------------------+--------------------+--------------------+--------------------+------+--------+----+--------+----+--------------+--------+------------+------------+----+--------------------+--------+---------+--------+\n",
            "only showing top 5 rows\n",
            "\n"
          ]
        }
      ]
    },
    {
      "cell_type": "markdown",
      "source": [
        "#### WORKING WITH ROWS"
      ],
      "metadata": {
        "id": "yiGFoLby2Srt"
      }
    },
    {
      "cell_type": "code",
      "source": [
        "read_csv.select('Date').show(5)"
      ],
      "metadata": {
        "colab": {
          "base_uri": "https://localhost:8080/"
        },
        "id": "CldWzgp95thv",
        "outputId": "fe7069a1-d617-403a-9dd0-b115b3a9f948"
      },
      "execution_count": 712,
      "outputs": [
        {
          "output_type": "stream",
          "name": "stdout",
          "text": [
            "+-------------------+\n",
            "|               Date|\n",
            "+-------------------+\n",
            "|2015-09-24 00:00:00|\n",
            "|2015-05-15 00:00:00|\n",
            "|2015-06-18 00:00:00|\n",
            "|2015-08-30 00:00:00|\n",
            "|2015-01-12 12:00:00|\n",
            "+-------------------+\n",
            "only showing top 5 rows\n",
            "\n"
          ]
        }
      ]
    },
    {
      "cell_type": "markdown",
      "source": [
        "Filtering on Date"
      ],
      "metadata": {
        "id": "_p_D8v6d206H"
      }
    },
    {
      "cell_type": "code",
      "source": [
        "one_day_crime_df = read_csv.filter(col('Date').contains('2015-01-12'))\n",
        "one_day_crime_df.count()\n",
        "\n"
      ],
      "metadata": {
        "colab": {
          "base_uri": "https://localhost:8080/"
        },
        "id": "O7o1z7AY2QCZ",
        "outputId": "c45658b9-a0d7-499d-95d1-8c046da23330"
      },
      "execution_count": 713,
      "outputs": [
        {
          "output_type": "execute_result",
          "data": {
            "text/plain": [
              "608"
            ]
          },
          "metadata": {},
          "execution_count": 713
        }
      ]
    },
    {
      "cell_type": "code",
      "source": [
        "one_day_crime_df.show(5)"
      ],
      "metadata": {
        "colab": {
          "base_uri": "https://localhost:8080/"
        },
        "id": "6SKqATcM6e7h",
        "outputId": "4e64281a-8732-414c-9755-cc65e0eac0e9"
      },
      "execution_count": 714,
      "outputs": [
        {
          "output_type": "stream",
          "name": "stdout",
          "text": [
            "+--------+-----------+-------------------+-------------------+----+--------------------+--------------------+--------------------+------+--------+----+--------+----+--------------+--------+------------+------------+----+--------------------+------------+-------------+--------------------+\n",
            "|      ID|Case Number|               Date|              Block|IUCR|        Primary Type|         Description|Location Description|Arrest|Domestic|Beat|District|Ward|Community Area|FBI Code|X Coordinate|Y Coordinate|Year|          Updated On|    Latitude|    Longitude|            Location|\n",
            "+--------+-----------+-------------------+-------------------+----+--------------------+--------------------+--------------------+------+--------+----+--------+----+--------------+--------+------------+------------+----+--------------------+------------+-------------+--------------------+\n",
            "|12998264|   JG171087|2015-01-12 12:00:00|   0000X E 122ND ST|1752|OFFENSE INVOLVING...|AGGRAVATED CRIMIN...|           RESIDENCE| false|    true|0532|     005|   9|            53|      17|        NULL|        NULL|2015|09/18/2023 03:41:...|        NULL|         NULL|                NULL|\n",
            "| 9939952|   HY111792|2015-01-12 00:05:00|   006XX W OHARE ST|0460|             BATTERY|              SIMPLE|AIRPORT BUILDING ...| false|    true|1654|     016|  41|            76|     08B|     1100088|     1926079|2015|09/07/2021 03:41:...|41.953900467|-87.907472601|(41.953900467, -8...|\n",
            "| 9922310|   HY111818|2015-01-12 01:09:00|089XX S BRANDON AVE|0486|             BATTERY|DOMESTIC BATTERY ...|           RESIDENCE|  true|    true|0424|     004|  10|            46|     08B|     1198879|     1846231|2015|02/10/2018 03:50:...|41.732874188|-87.546995508|(41.732874188, -8...|\n",
            "| 9926412|   HY115140|2015-01-12 19:00:00|085XX S SANGAMON ST|0486|             BATTERY|DOMESTIC BATTERY ...|           APARTMENT| false|    true|0613|     006|  21|            71|     08B|     1171469|     1848268|2015|02/10/2018 03:50:...|41.739107308|-87.647350802|(41.739107308, -8...|\n",
            "| 9923603|   HY112796|2015-01-12 19:00:00|117XX S WATKINS AVE|0486|             BATTERY|DOMESTIC BATTERY ...|           RESIDENCE| false|    true|2234|     022|  34|            75|     08B|     1165805|     1826904|2015|02/10/2018 03:50:...|41.680603045|-87.668706852|(41.680603045, -8...|\n",
            "+--------+-----------+-------------------+-------------------+----+--------------------+--------------------+--------------------+------+--------+----+--------+----+--------------+--------+------------+------------+----+--------------------+------------+-------------+--------------------+\n",
            "only showing top 5 rows\n",
            "\n"
          ]
        }
      ]
    },
    {
      "cell_type": "code",
      "source": [
        "one_day_crime_df.count()"
      ],
      "metadata": {
        "colab": {
          "base_uri": "https://localhost:8080/"
        },
        "id": "alin5Xfj-qdG",
        "outputId": "5cce09c8-e7d3-401c-ecb8-eca70579a824"
      },
      "execution_count": 715,
      "outputs": [
        {
          "output_type": "execute_result",
          "data": {
            "text/plain": [
              "608"
            ]
          },
          "metadata": {},
          "execution_count": 715
        }
      ]
    },
    {
      "cell_type": "code",
      "source": [
        "read_csv.count()"
      ],
      "metadata": {
        "colab": {
          "base_uri": "https://localhost:8080/"
        },
        "id": "iakhDBWa-pMU",
        "outputId": "b807a9a2-1374-482b-b0d5-69f4514dfb9f"
      },
      "execution_count": 716,
      "outputs": [
        {
          "output_type": "execute_result",
          "data": {
            "text/plain": [
              "264840"
            ]
          },
          "metadata": {},
          "execution_count": 716
        }
      ]
    },
    {
      "cell_type": "code",
      "source": [
        "new_df = read_csv.union(one_day_crime_df)"
      ],
      "metadata": {
        "id": "RoaQRNfq9vwl"
      },
      "execution_count": 717,
      "outputs": []
    },
    {
      "cell_type": "code",
      "source": [
        "new_df.count()"
      ],
      "metadata": {
        "colab": {
          "base_uri": "https://localhost:8080/"
        },
        "id": "j6QpUbJq-WNv",
        "outputId": "50cf7d85-10b4-49e5-b398-e07ff6d8f230"
      },
      "execution_count": 718,
      "outputs": [
        {
          "output_type": "execute_result",
          "data": {
            "text/plain": [
              "265448"
            ]
          },
          "metadata": {},
          "execution_count": 718
        }
      ]
    },
    {
      "cell_type": "code",
      "source": [
        "new_df.orderBy('Date',ascending = False ).show(5)"
      ],
      "metadata": {
        "colab": {
          "base_uri": "https://localhost:8080/"
        },
        "id": "EtHCXRSh_jRu",
        "outputId": "ec741e40-8574-47fc-a4c2-5995052f04d2"
      },
      "execution_count": 719,
      "outputs": [
        {
          "output_type": "stream",
          "name": "stdout",
          "text": [
            "+--------+-----------+-------------------+--------------------+----+---------------+--------------------+--------------------+------+--------+----+--------+----+--------------+--------+------------+------------+----+--------------------+------------+-------------+--------------------+\n",
            "|      ID|Case Number|               Date|               Block|IUCR|   Primary Type|         Description|Location Description|Arrest|Domestic|Beat|District|Ward|Community Area|FBI Code|X Coordinate|Y Coordinate|Year|          Updated On|    Latitude|    Longitude|            Location|\n",
            "+--------+-----------+-------------------+--------------------+----+---------------+--------------------+--------------------+------+--------+----+--------+----+--------------+--------+------------+------------+----+--------------------+------------+-------------+--------------------+\n",
            "|10365064|   HZ100370|2015-12-31 23:59:00| 075XX S EMERALD AVE|1320|CRIMINAL DAMAGE|          TO VEHICLE|              STREET| false|   false|0621|     006|  17|            68|      14|     1172605|     1854931|2015|02/10/2018 03:50:...|41.757366519|-87.642992854|(41.757366519, -8...|\n",
            "|10460641|   HZ199559|2015-12-31 23:59:00|  015XX N KEDZIE AVE|0890|          THEFT|       FROM BUILDING|RESIDENCE PORCH/H...| false|   false|1422|     014|  26|            23|      06|        NULL|        NULL|2015|02/09/2018 03:44:...|        NULL|         NULL|                NULL|\n",
            "|10364662|   HZ100006|2015-12-31 23:55:00|079XX S STONY ISL...|0430|        BATTERY|AGGRAVATED: OTHER...|              STREET| false|   false|0411|     004|   8|            45|     04B|     1188223|     1852840|2015|02/10/2018 03:50:...|41.751270452|-87.585822373|(41.751270452, -8...|\n",
            "|10364683|   HZ100002|2015-12-31 23:50:00|    037XX N CLARK ST|0460|        BATTERY|              SIMPLE|            SIDEWALK|  true|   false|1923|     019|  44|             6|     08B|     1167786|     1925033|2015|02/10/2018 03:50:...|41.949837364|-87.658635101|(41.949837364, -8...|\n",
            "|10364740|   HZ100010|2015-12-31 23:50:00|   024XX W FARGO AVE|0820|          THEFT|      $500 AND UNDER|           APARTMENT| false|   false|2411|     024|  50|             2|      06|     1158878|     1949369|2015|02/10/2018 03:50:...|42.016804165|-87.690708662|(42.016804165, -8...|\n",
            "+--------+-----------+-------------------+--------------------+----+---------------+--------------------+--------------------+------+--------+----+--------+----+--------------+--------+------------+------------+----+--------------------+------------+-------------+--------------------+\n",
            "only showing top 5 rows\n",
            "\n"
          ]
        }
      ]
    },
    {
      "cell_type": "code",
      "source": [
        "crime_type = read_csv.select('Primary Type').distinct()"
      ],
      "metadata": {
        "id": "52ASJg9N3kVP"
      },
      "execution_count": 720,
      "outputs": []
    },
    {
      "cell_type": "code",
      "source": [
        "crime_type.count()\n"
      ],
      "metadata": {
        "colab": {
          "base_uri": "https://localhost:8080/"
        },
        "id": "ukyGvuxd7f_z",
        "outputId": "0f8520ba-9283-428c-bff6-fa4f9e37fd12"
      },
      "execution_count": 721,
      "outputs": [
        {
          "output_type": "execute_result",
          "data": {
            "text/plain": [
              "33"
            ]
          },
          "metadata": {},
          "execution_count": 721
        }
      ]
    },
    {
      "cell_type": "code",
      "source": [
        "crime_type_list = crime_type.select('Primary Type').collect()\n",
        "crime_list = [row['Primary Type'] for row in crime_type_list]\n",
        "print(crime_list)"
      ],
      "metadata": {
        "colab": {
          "base_uri": "https://localhost:8080/"
        },
        "id": "U87Zh7Xk8FF0",
        "outputId": "bade4bcb-2d32-4459-9c87-89830e7caee2"
      },
      "execution_count": 722,
      "outputs": [
        {
          "output_type": "stream",
          "name": "stdout",
          "text": [
            "['OFFENSE INVOLVING CHILDREN', 'CRIMINAL SEXUAL ASSAULT', 'STALKING', 'PUBLIC PEACE VIOLATION', 'OBSCENITY', 'ARSON', 'GAMBLING', 'CRIMINAL TRESPASS', 'ASSAULT', 'NON - CRIMINAL', 'LIQUOR LAW VIOLATION', 'MOTOR VEHICLE THEFT', 'THEFT', 'BATTERY', 'ROBBERY', 'HOMICIDE', 'PUBLIC INDECENCY', 'CRIM SEXUAL ASSAULT', 'HUMAN TRAFFICKING', 'INTIMIDATION', 'PROSTITUTION', 'DECEPTIVE PRACTICE', 'CONCEALED CARRY LICENSE VIOLATION', 'SEX OFFENSE', 'CRIMINAL DAMAGE', 'NARCOTICS', 'NON-CRIMINAL', 'OTHER OFFENSE', 'KIDNAPPING', 'BURGLARY', 'WEAPONS VIOLATION', 'OTHER NARCOTIC VIOLATION', 'INTERFERENCE WITH PUBLIC OFFICER']\n"
          ]
        }
      ]
    },
    {
      "cell_type": "markdown",
      "source": [
        "**Top 10 number of reported crimes by Primary type in descending order of occurance**"
      ],
      "metadata": {
        "id": "kAXqs_V_CqMF"
      }
    },
    {
      "cell_type": "code",
      "source": [
        "new_df.groupBy('Primary Type').count().orderBy('count', ascending=False).show(10)"
      ],
      "metadata": {
        "colab": {
          "base_uri": "https://localhost:8080/"
        },
        "id": "5J2316Np3MH_",
        "outputId": "081b8638-4d45-4e30-92c6-da923e24c1f4"
      },
      "execution_count": 723,
      "outputs": [
        {
          "output_type": "stream",
          "name": "stdout",
          "text": [
            "+-------------------+-----+\n",
            "|       Primary Type|count|\n",
            "+-------------------+-----+\n",
            "|              THEFT|57499|\n",
            "|            BATTERY|49015|\n",
            "|    CRIMINAL DAMAGE|28734|\n",
            "|          NARCOTICS|24004|\n",
            "|      OTHER OFFENSE|17613|\n",
            "|            ASSAULT|17083|\n",
            "| DECEPTIVE PRACTICE|16497|\n",
            "|           BURGLARY|13220|\n",
            "|MOTOR VEHICLE THEFT|10089|\n",
            "|            ROBBERY| 9664|\n",
            "+-------------------+-----+\n",
            "only showing top 10 rows\n",
            "\n"
          ]
        }
      ]
    },
    {
      "cell_type": "markdown",
      "source": [
        "Percentage of Reported Crime that resulted in arrest\n"
      ],
      "metadata": {
        "id": "_e07furi4EW0"
      }
    },
    {
      "cell_type": "code",
      "source": [
        "new_df.select('Arrest').distinct().show()"
      ],
      "metadata": {
        "colab": {
          "base_uri": "https://localhost:8080/"
        },
        "id": "E2T0-BFm32iI",
        "outputId": "5e67f03d-869e-4c05-db47-76363f38ea26"
      },
      "execution_count": 724,
      "outputs": [
        {
          "output_type": "stream",
          "name": "stdout",
          "text": [
            "+------+\n",
            "|Arrest|\n",
            "+------+\n",
            "| false|\n",
            "|  true|\n",
            "+------+\n",
            "\n"
          ]
        }
      ]
    },
    {
      "cell_type": "code",
      "source": [
        "new_df.select('Arrest').printSchema()"
      ],
      "metadata": {
        "colab": {
          "base_uri": "https://localhost:8080/"
        },
        "id": "U3nM-uQkdtLd",
        "outputId": "cf2e6977-fa46-4939-b449-1f7b007b06f6"
      },
      "execution_count": 725,
      "outputs": [
        {
          "output_type": "stream",
          "name": "stdout",
          "text": [
            "root\n",
            " |-- Arrest: string (nullable = true)\n",
            "\n"
          ]
        }
      ]
    },
    {
      "cell_type": "code",
      "source": [
        "new_df.filter(col('Arrest')=='true').count()/new_csv.select('Arrest').count()"
      ],
      "metadata": {
        "colab": {
          "base_uri": "https://localhost:8080/"
        },
        "id": "1ts51NM64lx8",
        "outputId": "c16c0fe6-3b60-4e20-d787-8e7751f8632f"
      },
      "execution_count": 726,
      "outputs": [
        {
          "output_type": "execute_result",
          "data": {
            "text/plain": [
              "0.26463940206744824"
            ]
          },
          "metadata": {},
          "execution_count": 726
        }
      ]
    },
    {
      "cell_type": "markdown",
      "source": [
        "Top 3 locations for reported crimes"
      ],
      "metadata": {
        "id": "xXs_uT9f5Dwj"
      }
    },
    {
      "cell_type": "code",
      "source": [
        "new_df.groupBy('Location Description').count().orderBy('count', ascending=False).show(3)"
      ],
      "metadata": {
        "colab": {
          "base_uri": "https://localhost:8080/"
        },
        "id": "vzdrXXLL4NWE",
        "outputId": "bb5c0d3f-8e73-4e23-996e-4b6596411fd7"
      },
      "execution_count": 727,
      "outputs": [
        {
          "output_type": "stream",
          "name": "stdout",
          "text": [
            "+--------------------+-----+\n",
            "|Location Description|count|\n",
            "+--------------------+-----+\n",
            "|              STREET|60896|\n",
            "|           RESIDENCE|41984|\n",
            "|           APARTMENT|35153|\n",
            "+--------------------+-----+\n",
            "only showing top 3 rows\n",
            "\n"
          ]
        }
      ]
    },
    {
      "cell_type": "markdown",
      "source": [
        "Built-In Functions"
      ],
      "metadata": {
        "id": "GOA2cu4x7VTz"
      }
    },
    {
      "cell_type": "code",
      "source": [
        "from pyspark.sql import functions\n",
        "print(dir(functions))"
      ],
      "metadata": {
        "colab": {
          "base_uri": "https://localhost:8080/"
        },
        "id": "rCPLROr95SFT",
        "outputId": "015f6d41-4d08-4a2a-8aad-3bee96e5b83e"
      },
      "execution_count": 728,
      "outputs": [
        {
          "output_type": "stream",
          "name": "stdout",
          "text": [
            "['Any', 'ArrayType', 'Callable', 'Column', 'DataFrame', 'DataType', 'Dict', 'Iterable', 'JVMView', 'List', 'Optional', 'PandasUDFType', 'PySparkTypeError', 'PySparkValueError', 'SparkContext', 'StringType', 'StructType', 'TYPE_CHECKING', 'Tuple', 'Type', 'Union', 'UserDefinedFunction', 'UserDefinedTableFunction', 'ValuesView', '__builtins__', '__cached__', '__doc__', '__file__', '__loader__', '__name__', '__package__', '__spec__', '_create_column_from_literal', '_create_lambda', '_create_py_udf', '_create_py_udtf', '_from_numpy_type', '_get_jvm_function', '_get_lambda_parameters', '_invoke_binary_math_function', '_invoke_function', '_invoke_function_over_columns', '_invoke_function_over_seq_of_columns', '_invoke_higher_order_function', '_options_to_str', '_test', '_to_java_column', '_to_seq', '_unresolved_named_lambda_variable', 'abs', 'acos', 'acosh', 'add_months', 'aes_decrypt', 'aes_encrypt', 'aggregate', 'any_value', 'approxCountDistinct', 'approx_count_distinct', 'approx_percentile', 'array', 'array_agg', 'array_append', 'array_compact', 'array_contains', 'array_distinct', 'array_except', 'array_insert', 'array_intersect', 'array_join', 'array_max', 'array_min', 'array_position', 'array_prepend', 'array_remove', 'array_repeat', 'array_size', 'array_sort', 'array_union', 'arrays_overlap', 'arrays_zip', 'asc', 'asc_nulls_first', 'asc_nulls_last', 'ascii', 'asin', 'asinh', 'assert_true', 'atan', 'atan2', 'atanh', 'avg', 'base64', 'bin', 'bit_and', 'bit_count', 'bit_get', 'bit_length', 'bit_or', 'bit_xor', 'bitmap_bit_position', 'bitmap_bucket_number', 'bitmap_construct_agg', 'bitmap_count', 'bitmap_or_agg', 'bitwiseNOT', 'bitwise_not', 'bool_and', 'bool_or', 'broadcast', 'bround', 'btrim', 'bucket', 'call_function', 'call_udf', 'cardinality', 'cast', 'cbrt', 'ceil', 'ceiling', 'char', 'char_length', 'character_length', 'coalesce', 'col', 'collect_list', 'collect_set', 'column', 'concat', 'concat_ws', 'contains', 'conv', 'convert_timezone', 'corr', 'cos', 'cosh', 'cot', 'count', 'countDistinct', 'count_distinct', 'count_if', 'count_min_sketch', 'covar_pop', 'covar_samp', 'crc32', 'create_map', 'csc', 'cume_dist', 'curdate', 'current_catalog', 'current_database', 'current_date', 'current_schema', 'current_timestamp', 'current_timezone', 'current_user', 'date_add', 'date_diff', 'date_format', 'date_from_unix_date', 'date_part', 'date_sub', 'date_trunc', 'dateadd', 'datediff', 'datepart', 'day', 'dayofmonth', 'dayofweek', 'dayofyear', 'days', 'decimal', 'decode', 'degrees', 'dense_rank', 'desc', 'desc_nulls_first', 'desc_nulls_last', 'e', 'element_at', 'elt', 'encode', 'endswith', 'equal_null', 'every', 'exists', 'exp', 'explode', 'explode_outer', 'expm1', 'expr', 'extract', 'factorial', 'filter', 'find_in_set', 'first', 'first_value', 'flatten', 'floor', 'forall', 'format_number', 'format_string', 'from_csv', 'from_json', 'from_unixtime', 'from_utc_timestamp', 'functools', 'get', 'get_active_spark_context', 'get_json_object', 'getbit', 'greatest', 'grouping', 'grouping_id', 'has_numpy', 'hash', 'hex', 'histogram_numeric', 'hll_sketch_agg', 'hll_sketch_estimate', 'hll_union', 'hll_union_agg', 'hour', 'hours', 'hypot', 'ifnull', 'ilike', 'initcap', 'inline', 'inline_outer', 'input_file_block_length', 'input_file_block_start', 'input_file_name', 'inspect', 'instr', 'isnan', 'isnotnull', 'isnull', 'java_method', 'json_array_length', 'json_object_keys', 'json_tuple', 'kurtosis', 'lag', 'last', 'last_day', 'last_value', 'lcase', 'lead', 'least', 'left', 'length', 'levenshtein', 'like', 'lit', 'ln', 'localtimestamp', 'locate', 'log', 'log10', 'log1p', 'log2', 'lower', 'lpad', 'ltrim', 'make_date', 'make_dt_interval', 'make_interval', 'make_timestamp', 'make_timestamp_ltz', 'make_timestamp_ntz', 'make_ym_interval', 'map_concat', 'map_contains_key', 'map_entries', 'map_filter', 'map_from_arrays', 'map_from_entries', 'map_keys', 'map_values', 'map_zip_with', 'mask', 'max', 'max_by', 'md5', 'mean', 'median', 'min', 'min_by', 'minute', 'mode', 'monotonically_increasing_id', 'month', 'months', 'months_between', 'named_struct', 'nanvl', 'negate', 'negative', 'next_day', 'now', 'np', 'nth_value', 'ntile', 'nullif', 'nvl', 'nvl2', 'octet_length', 'overlay', 'overload', 'pandas_udf', 'parse_url', 'percent_rank', 'percentile', 'percentile_approx', 'pi', 'pmod', 'posexplode', 'posexplode_outer', 'position', 'positive', 'pow', 'power', 'printf', 'product', 'quarter', 'radians', 'raise_error', 'rand', 'randn', 'rank', 'reduce', 'reflect', 'regexp', 'regexp_count', 'regexp_extract', 'regexp_extract_all', 'regexp_instr', 'regexp_like', 'regexp_replace', 'regexp_substr', 'regr_avgx', 'regr_avgy', 'regr_count', 'regr_intercept', 'regr_r2', 'regr_slope', 'regr_sxx', 'regr_sxy', 'regr_syy', 'repeat', 'replace', 'reverse', 'right', 'rint', 'rlike', 'round', 'row_number', 'rpad', 'rtrim', 'schema_of_csv', 'schema_of_json', 'sec', 'second', 'sentences', 'sequence', 'session_window', 'sha', 'sha1', 'sha2', 'shiftLeft', 'shiftRight', 'shiftRightUnsigned', 'shiftleft', 'shiftright', 'shiftrightunsigned', 'shuffle', 'sign', 'signum', 'sin', 'sinh', 'size', 'skewness', 'slice', 'some', 'sort_array', 'soundex', 'spark_partition_id', 'split', 'split_part', 'sqrt', 'stack', 'startswith', 'std', 'stddev', 'stddev_pop', 'stddev_samp', 'str_to_map', 'struct', 'substr', 'substring', 'substring_index', 'sum', 'sumDistinct', 'sum_distinct', 'sys', 'tan', 'tanh', 'timestamp_micros', 'timestamp_millis', 'timestamp_seconds', 'toDegrees', 'toRadians', 'to_binary', 'to_char', 'to_csv', 'to_date', 'to_json', 'to_number', 'to_str', 'to_timestamp', 'to_timestamp_ltz', 'to_timestamp_ntz', 'to_unix_timestamp', 'to_utc_timestamp', 'to_varchar', 'transform', 'transform_keys', 'transform_values', 'translate', 'trim', 'trunc', 'try_add', 'try_aes_decrypt', 'try_avg', 'try_divide', 'try_element_at', 'try_multiply', 'try_remote_functions', 'try_subtract', 'try_sum', 'try_to_binary', 'try_to_number', 'try_to_timestamp', 'typeof', 'ucase', 'udf', 'udtf', 'unbase64', 'unhex', 'unix_date', 'unix_micros', 'unix_millis', 'unix_seconds', 'unix_timestamp', 'unwrap_udt', 'upper', 'url_decode', 'url_encode', 'user', 'var_pop', 'var_samp', 'variance', 'version', 'warnings', 'weekday', 'weekofyear', 'when', 'width_bucket', 'window', 'window_time', 'xpath', 'xpath_boolean', 'xpath_double', 'xpath_float', 'xpath_int', 'xpath_long', 'xpath_number', 'xpath_short', 'xpath_string', 'xxhash64', 'year', 'years', 'zip_with']\n"
          ]
        }
      ]
    },
    {
      "cell_type": "markdown",
      "source": [
        "Example: Display PRIMARY DESCRIPTION column in Lower, Upper and first four substring"
      ],
      "metadata": {
        "id": "xUGst-1v-C-_"
      }
    },
    {
      "cell_type": "code",
      "source": [
        "from pyspark.sql.functions import lower, upper, substring\n"
      ],
      "metadata": {
        "id": "eBpq9tpG7dQn"
      },
      "execution_count": 729,
      "outputs": []
    },
    {
      "cell_type": "code",
      "source": [
        "help(substring)"
      ],
      "metadata": {
        "colab": {
          "base_uri": "https://localhost:8080/"
        },
        "id": "kxBOZSIx76vx",
        "outputId": "87261620-85c5-4eb0-c2d4-727c5ddcb03d"
      },
      "execution_count": 730,
      "outputs": [
        {
          "output_type": "stream",
          "name": "stdout",
          "text": [
            "Help on function substring in module pyspark.sql.functions:\n",
            "\n",
            "substring(str: 'ColumnOrName', pos: int, len: int) -> pyspark.sql.column.Column\n",
            "    Substring starts at `pos` and is of length `len` when str is String type or\n",
            "    returns the slice of byte array that starts at `pos` in byte and is of length `len`\n",
            "    when str is Binary type.\n",
            "    \n",
            "    .. versionadded:: 1.5.0\n",
            "    \n",
            "    .. versionchanged:: 3.4.0\n",
            "        Supports Spark Connect.\n",
            "    \n",
            "    Notes\n",
            "    -----\n",
            "    The position is not zero based, but 1 based index.\n",
            "    \n",
            "    Parameters\n",
            "    ----------\n",
            "    str : :class:`~pyspark.sql.Column` or str\n",
            "        target column to work on.\n",
            "    pos : int\n",
            "        starting position in str.\n",
            "    len : int\n",
            "        length of chars.\n",
            "    \n",
            "    Returns\n",
            "    -------\n",
            "    :class:`~pyspark.sql.Column`\n",
            "        substring of given value.\n",
            "    \n",
            "    Examples\n",
            "    --------\n",
            "    >>> df = spark.createDataFrame([('abcd',)], ['s',])\n",
            "    >>> df.select(substring(df.s, 1, 2).alias('s')).collect()\n",
            "    [Row(s='ab')]\n",
            "\n"
          ]
        }
      ]
    },
    {
      "cell_type": "code",
      "source": [
        "new_df.select(lower(col('Primary Type')), upper('Primary Type'), substring(col('Primary Type'),1,4)).show(5)"
      ],
      "metadata": {
        "colab": {
          "base_uri": "https://localhost:8080/"
        },
        "id": "bfboWO_f-BUG",
        "outputId": "addbf059-9444-4638-e51a-7f481a84f326"
      },
      "execution_count": 731,
      "outputs": [
        {
          "output_type": "stream",
          "name": "stdout",
          "text": [
            "+--------------------+--------------------+-----------------------------+\n",
            "| lower(Primary Type)| upper(Primary Type)|substring(Primary Type, 1, 4)|\n",
            "+--------------------+--------------------+-----------------------------+\n",
            "|offense involving...|OFFENSE INVOLVING...|                         OFFE|\n",
            "|offense involving...|OFFENSE INVOLVING...|                         OFFE|\n",
            "|offense involving...|OFFENSE INVOLVING...|                         OFFE|\n",
            "|offense involving...|OFFENSE INVOLVING...|                         OFFE|\n",
            "|offense involving...|OFFENSE INVOLVING...|                         OFFE|\n",
            "+--------------------+--------------------+-----------------------------+\n",
            "only showing top 5 rows\n",
            "\n"
          ]
        }
      ]
    },
    {
      "cell_type": "markdown",
      "source": [
        "**Working with Dates**\n",
        "> - Show the oldest date and most recent date\n",
        "> - What is 3 days earlier than the oldest date and 3 days later than the most recent date ?"
      ],
      "metadata": {
        "id": "GvDCwEoC-67r"
      }
    },
    {
      "cell_type": "markdown",
      "source": [
        "User-defined functions"
      ],
      "metadata": {
        "id": "JAtPlTRJ_Ccj"
      }
    },
    {
      "cell_type": "code",
      "source": [
        " from pyspark.sql.functions import  min, max\n"
      ],
      "metadata": {
        "id": "VlJ9ngOj8Wf5"
      },
      "execution_count": 732,
      "outputs": []
    },
    {
      "cell_type": "code",
      "source": [
        "new_df.select(min(col('Date')), max(col('Date'))).show(1)"
      ],
      "metadata": {
        "colab": {
          "base_uri": "https://localhost:8080/"
        },
        "id": "YQa8Zt6y_qFY",
        "outputId": "d63a82d8-569b-40ce-bc7e-31efb5296966"
      },
      "execution_count": 733,
      "outputs": [
        {
          "output_type": "stream",
          "name": "stdout",
          "text": [
            "+-------------------+-------------------+\n",
            "|          min(Date)|          max(Date)|\n",
            "+-------------------+-------------------+\n",
            "|2015-01-01 00:00:00|2015-12-31 23:59:00|\n",
            "+-------------------+-------------------+\n",
            "\n"
          ]
        }
      ]
    },
    {
      "cell_type": "code",
      "source": [
        "from pyspark.sql.functions import date_add, date_sub"
      ],
      "metadata": {
        "id": "oNrqPc4b_p-c"
      },
      "execution_count": 734,
      "outputs": []
    },
    {
      "cell_type": "code",
      "source": [
        "help(date_add)"
      ],
      "metadata": {
        "colab": {
          "base_uri": "https://localhost:8080/"
        },
        "id": "MCiOPiHX_p1v",
        "outputId": "f90619b7-0c7b-4525-8905-84427114a10d"
      },
      "execution_count": 735,
      "outputs": [
        {
          "output_type": "stream",
          "name": "stdout",
          "text": [
            "Help on function date_add in module pyspark.sql.functions:\n",
            "\n",
            "date_add(start: 'ColumnOrName', days: Union[ForwardRef('ColumnOrName'), int]) -> pyspark.sql.column.Column\n",
            "    Returns the date that is `days` days after `start`. If `days` is a negative value\n",
            "    then these amount of days will be deducted from `start`.\n",
            "    \n",
            "    .. versionadded:: 1.5.0\n",
            "    \n",
            "    .. versionchanged:: 3.4.0\n",
            "        Supports Spark Connect.\n",
            "    \n",
            "    Parameters\n",
            "    ----------\n",
            "    start : :class:`~pyspark.sql.Column` or str\n",
            "        date column to work on.\n",
            "    days : :class:`~pyspark.sql.Column` or str or int\n",
            "        how many days after the given date to calculate.\n",
            "        Accepts negative value as well to calculate backwards in time.\n",
            "    \n",
            "    Returns\n",
            "    -------\n",
            "    :class:`~pyspark.sql.Column`\n",
            "        a date after/before given number of days.\n",
            "    \n",
            "    Examples\n",
            "    --------\n",
            "    >>> df = spark.createDataFrame([('2015-04-08', 2,)], ['dt', 'add'])\n",
            "    >>> df.select(date_add(df.dt, 1).alias('next_date')).collect()\n",
            "    [Row(next_date=datetime.date(2015, 4, 9))]\n",
            "    >>> df.select(date_add(df.dt, df.add.cast('integer')).alias('next_date')).collect()\n",
            "    [Row(next_date=datetime.date(2015, 4, 10))]\n",
            "    >>> df.select(date_add('dt', -1).alias('prev_date')).collect()\n",
            "    [Row(prev_date=datetime.date(2015, 4, 7))]\n",
            "\n"
          ]
        }
      ]
    },
    {
      "cell_type": "code",
      "source": [
        "new_df.select(date_sub(min(col('Date')),3), date_add(max(col('Date')),3)).show(1)"
      ],
      "metadata": {
        "colab": {
          "base_uri": "https://localhost:8080/"
        },
        "id": "oX7cbD7zBDS7",
        "outputId": "eb63375c-1b33-4447-abb7-2da14e70bd70"
      },
      "execution_count": 736,
      "outputs": [
        {
          "output_type": "stream",
          "name": "stdout",
          "text": [
            "+----------------------+----------------------+\n",
            "|date_sub(min(Date), 3)|date_add(max(Date), 3)|\n",
            "+----------------------+----------------------+\n",
            "|            2014-12-29|            2016-01-03|\n",
            "+----------------------+----------------------+\n",
            "\n"
          ]
        }
      ]
    },
    {
      "cell_type": "markdown",
      "source": [
        "**Join Example**"
      ],
      "metadata": {
        "id": "yZcNLj2uZFYx"
      }
    },
    {
      "cell_type": "markdown",
      "source": [
        "Reported Crime dataset has only the distict number, now add the district name using the police station dataset using join"
      ],
      "metadata": {
        "id": "g0Mga2EiY--r"
      }
    },
    {
      "cell_type": "code",
      "source": [
        "police_station_data = spark.read.csv(\"sample_data/police_station.csv\", header=True)\n",
        "police_station_data.show(5)"
      ],
      "metadata": {
        "id": "lF8kWvkIBDPy",
        "colab": {
          "base_uri": "https://localhost:8080/"
        },
        "outputId": "b6777bf9-d4c7-4fd4-b16e-71552ea1bf81"
      },
      "execution_count": 737,
      "outputs": [
        {
          "output_type": "stream",
          "name": "stdout",
          "text": [
            "+------------+-------------+-------------------+-------+-----+-----+--------------------+------------+------------+------------+------------+------------+-----------+------------+--------------------+\n",
            "|    DISTRICT|DISTRICT NAME|            ADDRESS|   CITY|STATE|  ZIP|             WEBSITE|       PHONE|         FAX|         TTY|X COORDINATE|Y COORDINATE|   LATITUDE|   LONGITUDE|            LOCATION|\n",
            "+------------+-------------+-------------------+-------+-----+-----+--------------------+------------+------------+------------+------------+------------+-----------+------------+--------------------+\n",
            "|Headquarters| Headquarters|3510 S Michigan Ave|Chicago|   IL|60653|http://home.chica...|        NULL|        NULL|        NULL| 1177731.401| 1881697.404|41.83070169|-87.62339535|(41.8307016873, -...|\n",
            "|          18|   Near North| 1160 N Larrabee St|Chicago|   IL|60610|http://home.chica...|312-742-5870|312-742-5771|312-742-5773| 1172080.029| 1908086.527|41.90324165|-87.64335214|(41.9032416531, -...|\n",
            "|          19|    Town Hall|   850 W Addison St|Chicago|   IL|60613|http://home.chica...|312-744-8320|312-744-4481|312-744-8011| 1169730.744| 1924160.317|41.94740046|-87.65151202|(41.9474004564, -...|\n",
            "|          20|      Lincoln| 5400 N Lincoln Ave|Chicago|   IL|60625|http://home.chica...|312-742-8714|312-742-8803|312-742-8841| 1158399.146| 1935788.826|41.97954951|-87.69284451|(41.9795495131, -...|\n",
            "|          22|  Morgan Park|1900 W Monterey Ave|Chicago|   IL|60643|http://home.chica...|312-745-0710|312-745-0814|312-745-0569| 1165825.476| 1830851.333|41.69143478|-87.66852039|(41.6914347795, -...|\n",
            "+------------+-------------+-------------------+-------+-----+-----+--------------------+------------+------------+------------+------------+------------+-----------+------------+--------------------+\n",
            "only showing top 5 rows\n",
            "\n"
          ]
        }
      ]
    },
    {
      "cell_type": "code",
      "source": [
        "\n",
        "from pyspark.sql.functions import col\n",
        "\n",
        "# Assuming you have a PySpark DataFrame named 'df'\n",
        "\n",
        "# Remove rows with value 'xyz' in a specific column\n",
        "police_station_data = police_station_data.filter(col('DISTRICT') != 'Headquarters')\n",
        "\n",
        "# Show the DataFrame after filtering\n",
        "police_station_data.show()\n"
      ],
      "metadata": {
        "colab": {
          "base_uri": "https://localhost:8080/"
        },
        "id": "9vnPfNw3hTHL",
        "outputId": "6ce27e9d-8c49-4939-d8ed-d59b16d2a6b5"
      },
      "execution_count": 738,
      "outputs": [
        {
          "output_type": "stream",
          "name": "stdout",
          "text": [
            "+--------+--------------+--------------------+-------+-----+-----+--------------------+------------+------------+------------+------------+------------+-----------+------------+--------------------+\n",
            "|DISTRICT| DISTRICT NAME|             ADDRESS|   CITY|STATE|  ZIP|             WEBSITE|       PHONE|         FAX|         TTY|X COORDINATE|Y COORDINATE|   LATITUDE|   LONGITUDE|            LOCATION|\n",
            "+--------+--------------+--------------------+-------+-----+-----+--------------------+------------+------------+------------+------------+------------+-----------+------------+--------------------+\n",
            "|      18|    Near North|  1160 N Larrabee St|Chicago|   IL|60610|http://home.chica...|312-742-5870|312-742-5771|312-742-5773| 1172080.029| 1908086.527|41.90324165|-87.64335214|(41.9032416531, -...|\n",
            "|      19|     Town Hall|    850 W Addison St|Chicago|   IL|60613|http://home.chica...|312-744-8320|312-744-4481|312-744-8011| 1169730.744| 1924160.317|41.94740046|-87.65151202|(41.9474004564, -...|\n",
            "|      20|       Lincoln|  5400 N Lincoln Ave|Chicago|   IL|60625|http://home.chica...|312-742-8714|312-742-8803|312-742-8841| 1158399.146| 1935788.826|41.97954951|-87.69284451|(41.9795495131, -...|\n",
            "|      22|   Morgan Park| 1900 W Monterey Ave|Chicago|   IL|60643|http://home.chica...|312-745-0710|312-745-0814|312-745-0569| 1165825.476| 1830851.333|41.69143478|-87.66852039|(41.6914347795, -...|\n",
            "|      24|   Rogers Park|     6464 N Clark St|Chicago|   IL|60626|http://home.chica...|312-744-5907|312-744-6928|312-744-7603| 1164193.588| 1943199.401|41.99976348|-87.67132429|(41.9997634842, -...|\n",
            "|      25| Grand Central|    5555 W Grand Ave|Chicago|   IL|60639|http://home.chica...|312-746-8605|312-746-4353|312-746-8383| 1138770.871| 1913442.439|41.91860889|-87.76557448|(41.9186088912, -...|\n",
            "|       1|       Central|     1718 S State St|Chicago|   IL|60616|http://home.chica...|312-745-4290|312-745-3694|312-745-3693| 1176569.052| 1891771.704|41.85837259|-87.62735617|(41.8583725929, -...|\n",
            "|       2|     Wentworth|5101 S Wentworth Ave|Chicago|   IL|60609|http://home.chica...|312-747-8366|312-747-5396|312-747-6656| 1175864.837| 1871153.753|41.80181109|-87.63056018|(41.8018110912, -...|\n",
            "|       3|Grand Crossing|7040 S Cottage Gr...|Chicago|   IL|60637|http://home.chica...|312-747-8201|312-747-5479|312-747-9168| 1182739.183| 1858317.732|41.76643089|-87.60574786|(41.7664308925, -...|\n",
            "|       4| South Chicago|     2255 E 103rd St|Chicago|   IL|60617|http://home.chica...|312-747-7581|312-747-5276|312-747-9169| 1193131.299| 1837090.265|41.70793329|-87.56834912|(41.7079332906, -...|\n",
            "|       5|       Calumet|      727 E 111th St|Chicago|   IL|60628|http://home.chica...|312-747-8210|312-747-5935|312-747-9170| 1183305.427| 1831462.313|41.69272336|-87.60450587|(41.6927233639, -...|\n",
            "|       6|       Gresham|   7808 S Halsted St|Chicago|   IL|60620|http://home.chica...|312-745-3617|312-745-3649|312-745-3639| 1172283.013| 1853022.646|41.75213684|-87.64422891|(41.7521368378, -...|\n",
            "|       7|     Englewood|      1438 W 63rd St|Chicago|   IL|60636|http://home.chica...|312-747-8223|312-747-6558|312-747-6652| 1167659.235| 1863005.522|41.77963154|-87.66088702|(41.7796315359, -...|\n",
            "|       8|  Chicago Lawn|      3420 W 63rd St|Chicago|   IL|60629|http://home.chica...|312-747-8730|312-747-8545|312-747-8116| 1154575.242| 1862672.049|41.77898719|-87.70886382|(41.778987189, -8...|\n",
            "|       9|       Deering|   3120 S Halsted St|Chicago|   IL|60608|http://home.chica...|312-747-8227|312-747-5329|312-747-9172|  1171440.24| 1884085.224|41.83739443|-87.64640771|(41.8373944311, -...|\n",
            "|      10|         Ogden|    3315 W Ogden Ave|Chicago|   IL|60623|http://home.chica...|312-747-7511|312-747-7429|312-747-7471| 1154500.753| 1890985.501|41.85668453|-87.70838196|(41.8566845327, -...|\n",
            "|      11|      Harrison|  3151 W Harrison St|Chicago|   IL|60612|http://home.chica...|312-746-8386|312-746-4281|312-746-5151| 1155244.069| 1897148.755|41.87358229|-87.70548813|(41.8735822883, -...|\n",
            "|      14|   Shakespeare|2150 N California...|Chicago|   IL|60647|http://home.chica...|312-744-8250|312-744-2422|312-744-8260| 1157304.426| 1914481.521|41.92110332|-87.69745182|(41.9211033246, -...|\n",
            "|      15|        Austin|   5701 W Madison St|Chicago|   IL|60644|http://home.chica...|312-743-1440|312-743-1366|312-743-1485| 1138148.815| 1899399.078|41.88008346|-87.76819989|(41.8800834614, -...|\n",
            "|      16|Jefferson Park|5151 N Milwaukee Ave|Chicago|   IL|60630|http://home.chica...|312-742-4480|312-742-4421|312-742-4423| 1138480.758| 1933660.473|41.97409445|-87.76614884|(41.9740944511, -...|\n",
            "+--------+--------------+--------------------+-------+-----+-----+--------------------+------------+------------+------------+------------+------------+-----------+------------+--------------------+\n",
            "only showing top 20 rows\n",
            "\n"
          ]
        }
      ]
    },
    {
      "cell_type": "code",
      "source": [
        "police_station_data.select('DISTRICT').distinct().show(50)"
      ],
      "metadata": {
        "colab": {
          "base_uri": "https://localhost:8080/"
        },
        "id": "UDxmmzJQZYbd",
        "outputId": "7996c656-5ba1-45e0-ced8-141d72b35136"
      },
      "execution_count": 739,
      "outputs": [
        {
          "output_type": "stream",
          "name": "stdout",
          "text": [
            "+--------+\n",
            "|DISTRICT|\n",
            "+--------+\n",
            "|       7|\n",
            "|      15|\n",
            "|      11|\n",
            "|       3|\n",
            "|       8|\n",
            "|      22|\n",
            "|      16|\n",
            "|       5|\n",
            "|      18|\n",
            "|      17|\n",
            "|       6|\n",
            "|      19|\n",
            "|      25|\n",
            "|      24|\n",
            "|       9|\n",
            "|       1|\n",
            "|      20|\n",
            "|      10|\n",
            "|       4|\n",
            "|      14|\n",
            "|       2|\n",
            "+--------+\n",
            "\n"
          ]
        }
      ]
    },
    {
      "cell_type": "code",
      "source": [
        "new_df.select(col('District')).distinct().show(50)"
      ],
      "metadata": {
        "colab": {
          "base_uri": "https://localhost:8080/"
        },
        "id": "fsf_L4EUZflI",
        "outputId": "b52e5c45-e20b-40c2-c08e-183d8a14b20c"
      },
      "execution_count": 740,
      "outputs": [
        {
          "output_type": "stream",
          "name": "stdout",
          "text": [
            "+--------+\n",
            "|District|\n",
            "+--------+\n",
            "|     009|\n",
            "|     012|\n",
            "|     024|\n",
            "|     031|\n",
            "|     015|\n",
            "|     006|\n",
            "|     019|\n",
            "|     020|\n",
            "|     011|\n",
            "|     025|\n",
            "|     005|\n",
            "|     003|\n",
            "|     016|\n",
            "|     018|\n",
            "|     008|\n",
            "|     022|\n",
            "|     001|\n",
            "|     014|\n",
            "|     010|\n",
            "|     004|\n",
            "|     017|\n",
            "|     007|\n",
            "|     002|\n",
            "+--------+\n",
            "\n"
          ]
        }
      ]
    },
    {
      "cell_type": "code",
      "source": [
        "from pyspark.sql.functions import lpad"
      ],
      "metadata": {
        "id": "kToP_NXseTHt"
      },
      "execution_count": 741,
      "outputs": []
    },
    {
      "cell_type": "code",
      "source": [
        "help(lpad)"
      ],
      "metadata": {
        "colab": {
          "base_uri": "https://localhost:8080/"
        },
        "id": "TdS4UMmQenKG",
        "outputId": "bfa2de03-486b-4d49-e739-39226e3d3cfe"
      },
      "execution_count": 742,
      "outputs": [
        {
          "output_type": "stream",
          "name": "stdout",
          "text": [
            "Help on function lpad in module pyspark.sql.functions:\n",
            "\n",
            "lpad(col: 'ColumnOrName', len: int, pad: str) -> pyspark.sql.column.Column\n",
            "    Left-pad the string column to width `len` with `pad`.\n",
            "    \n",
            "    .. versionadded:: 1.5.0\n",
            "    \n",
            "    .. versionchanged:: 3.4.0\n",
            "        Supports Spark Connect.\n",
            "    \n",
            "    Parameters\n",
            "    ----------\n",
            "    col : :class:`~pyspark.sql.Column` or str\n",
            "        target column to work on.\n",
            "    len : int\n",
            "        length of the final string.\n",
            "    pad : str\n",
            "        chars to prepend.\n",
            "    \n",
            "    Returns\n",
            "    -------\n",
            "    :class:`~pyspark.sql.Column`\n",
            "        left padded result.\n",
            "    \n",
            "    Examples\n",
            "    --------\n",
            "    >>> df = spark.createDataFrame([('abcd',)], ['s',])\n",
            "    >>> df.select(lpad(df.s, 6, '#').alias('s')).collect()\n",
            "    [Row(s='##abcd')]\n",
            "\n"
          ]
        }
      ]
    },
    {
      "cell_type": "code",
      "source": [
        "police_station_data.select(lpad(col('DISTRICT'),3,'0')).show()"
      ],
      "metadata": {
        "colab": {
          "base_uri": "https://localhost:8080/"
        },
        "id": "0FweFVZdfDTA",
        "outputId": "441f8417-f81f-4c05-d316-600de98746d7"
      },
      "execution_count": 743,
      "outputs": [
        {
          "output_type": "stream",
          "name": "stdout",
          "text": [
            "+--------------------+\n",
            "|lpad(DISTRICT, 3, 0)|\n",
            "+--------------------+\n",
            "|                 018|\n",
            "|                 019|\n",
            "|                 020|\n",
            "|                 022|\n",
            "|                 024|\n",
            "|                 025|\n",
            "|                 001|\n",
            "|                 002|\n",
            "|                 003|\n",
            "|                 004|\n",
            "|                 005|\n",
            "|                 006|\n",
            "|                 007|\n",
            "|                 008|\n",
            "|                 009|\n",
            "|                 010|\n",
            "|                 011|\n",
            "|                 014|\n",
            "|                 015|\n",
            "|                 016|\n",
            "+--------------------+\n",
            "only showing top 20 rows\n",
            "\n"
          ]
        }
      ]
    },
    {
      "cell_type": "code",
      "source": [
        "ps = police_station_data.withColumn('FormattedDistrict', lpad(col('DISTRICT'),3,'0'))"
      ],
      "metadata": {
        "id": "OjquLgyDjaF1"
      },
      "execution_count": 744,
      "outputs": []
    },
    {
      "cell_type": "code",
      "source": [
        "police_station_data.columns"
      ],
      "metadata": {
        "colab": {
          "base_uri": "https://localhost:8080/"
        },
        "id": "GDWVEEShidY_",
        "outputId": "26edfd8c-fb21-49fd-aa4a-8ae1c28d3fa0"
      },
      "execution_count": 745,
      "outputs": [
        {
          "output_type": "execute_result",
          "data": {
            "text/plain": [
              "['DISTRICT',\n",
              " 'DISTRICT NAME',\n",
              " 'ADDRESS',\n",
              " 'CITY',\n",
              " 'STATE',\n",
              " 'ZIP',\n",
              " 'WEBSITE',\n",
              " 'PHONE',\n",
              " 'FAX',\n",
              " 'TTY',\n",
              " 'X COORDINATE',\n",
              " 'Y COORDINATE',\n",
              " 'LATITUDE',\n",
              " 'LONGITUDE',\n",
              " 'LOCATION']"
            ]
          },
          "metadata": {},
          "execution_count": 745
        }
      ]
    },
    {
      "cell_type": "code",
      "source": [
        "ps.show(5)"
      ],
      "metadata": {
        "colab": {
          "base_uri": "https://localhost:8080/"
        },
        "id": "QgyjQD-mjmVZ",
        "outputId": "858a524f-2c60-4f17-f33f-dc95c6b1ac2d"
      },
      "execution_count": 746,
      "outputs": [
        {
          "output_type": "stream",
          "name": "stdout",
          "text": [
            "+--------+-------------+-------------------+-------+-----+-----+--------------------+------------+------------+------------+------------+------------+-----------+------------+--------------------+-----------------+\n",
            "|DISTRICT|DISTRICT NAME|            ADDRESS|   CITY|STATE|  ZIP|             WEBSITE|       PHONE|         FAX|         TTY|X COORDINATE|Y COORDINATE|   LATITUDE|   LONGITUDE|            LOCATION|FormattedDistrict|\n",
            "+--------+-------------+-------------------+-------+-----+-----+--------------------+------------+------------+------------+------------+------------+-----------+------------+--------------------+-----------------+\n",
            "|      18|   Near North| 1160 N Larrabee St|Chicago|   IL|60610|http://home.chica...|312-742-5870|312-742-5771|312-742-5773| 1172080.029| 1908086.527|41.90324165|-87.64335214|(41.9032416531, -...|              018|\n",
            "|      19|    Town Hall|   850 W Addison St|Chicago|   IL|60613|http://home.chica...|312-744-8320|312-744-4481|312-744-8011| 1169730.744| 1924160.317|41.94740046|-87.65151202|(41.9474004564, -...|              019|\n",
            "|      20|      Lincoln| 5400 N Lincoln Ave|Chicago|   IL|60625|http://home.chica...|312-742-8714|312-742-8803|312-742-8841| 1158399.146| 1935788.826|41.97954951|-87.69284451|(41.9795495131, -...|              020|\n",
            "|      22|  Morgan Park|1900 W Monterey Ave|Chicago|   IL|60643|http://home.chica...|312-745-0710|312-745-0814|312-745-0569| 1165825.476| 1830851.333|41.69143478|-87.66852039|(41.6914347795, -...|              022|\n",
            "|      24|  Rogers Park|    6464 N Clark St|Chicago|   IL|60626|http://home.chica...|312-744-5907|312-744-6928|312-744-7603| 1164193.588| 1943199.401|41.99976348|-87.67132429|(41.9997634842, -...|              024|\n",
            "+--------+-------------+-------------------+-------+-----+-----+--------------------+------------+------------+------------+------------+------------+-----------+------------+--------------------+-----------------+\n",
            "only showing top 5 rows\n",
            "\n"
          ]
        }
      ]
    },
    {
      "cell_type": "code",
      "source": [
        "police_station_data.show(5)"
      ],
      "metadata": {
        "colab": {
          "base_uri": "https://localhost:8080/"
        },
        "id": "tRgZQaTXjUJ9",
        "outputId": "0ed2526b-298d-40bf-f6c6-b1e11ff6eb87"
      },
      "execution_count": 747,
      "outputs": [
        {
          "output_type": "stream",
          "name": "stdout",
          "text": [
            "+--------+-------------+-------------------+-------+-----+-----+--------------------+------------+------------+------------+------------+------------+-----------+------------+--------------------+\n",
            "|DISTRICT|DISTRICT NAME|            ADDRESS|   CITY|STATE|  ZIP|             WEBSITE|       PHONE|         FAX|         TTY|X COORDINATE|Y COORDINATE|   LATITUDE|   LONGITUDE|            LOCATION|\n",
            "+--------+-------------+-------------------+-------+-----+-----+--------------------+------------+------------+------------+------------+------------+-----------+------------+--------------------+\n",
            "|      18|   Near North| 1160 N Larrabee St|Chicago|   IL|60610|http://home.chica...|312-742-5870|312-742-5771|312-742-5773| 1172080.029| 1908086.527|41.90324165|-87.64335214|(41.9032416531, -...|\n",
            "|      19|    Town Hall|   850 W Addison St|Chicago|   IL|60613|http://home.chica...|312-744-8320|312-744-4481|312-744-8011| 1169730.744| 1924160.317|41.94740046|-87.65151202|(41.9474004564, -...|\n",
            "|      20|      Lincoln| 5400 N Lincoln Ave|Chicago|   IL|60625|http://home.chica...|312-742-8714|312-742-8803|312-742-8841| 1158399.146| 1935788.826|41.97954951|-87.69284451|(41.9795495131, -...|\n",
            "|      22|  Morgan Park|1900 W Monterey Ave|Chicago|   IL|60643|http://home.chica...|312-745-0710|312-745-0814|312-745-0569| 1165825.476| 1830851.333|41.69143478|-87.66852039|(41.6914347795, -...|\n",
            "|      24|  Rogers Park|    6464 N Clark St|Chicago|   IL|60626|http://home.chica...|312-744-5907|312-744-6928|312-744-7603| 1164193.588| 1943199.401|41.99976348|-87.67132429|(41.9997634842, -...|\n",
            "+--------+-------------+-------------------+-------+-----+-----+--------------------+------------+------------+------------+------------+------------+-----------+------------+--------------------+\n",
            "only showing top 5 rows\n",
            "\n"
          ]
        }
      ]
    },
    {
      "cell_type": "code",
      "source": [
        "new_df.join(ps, new_df.District == ps.FormattedDistrict, 'left_outer').drop(\n",
        " 'ADDRESS',\n",
        " 'CITY',\n",
        " 'STATE',\n",
        " 'ZIP',\n",
        " 'WEBSITE',\n",
        " 'PHONE',\n",
        " 'FAX',\n",
        " 'TTY',\n",
        " 'X COORDINATE',\n",
        " 'Y COORDINATE',\n",
        " 'LATITUDE',\n",
        " 'LONGITUDE',\n",
        " 'LOCATION', 'FormattedDistrict').show(5)"
      ],
      "metadata": {
        "colab": {
          "base_uri": "https://localhost:8080/"
        },
        "id": "hU3BF85FfhXv",
        "outputId": "adaa94aa-d66d-4b16-c61e-dbf503281eb3"
      },
      "execution_count": 748,
      "outputs": [
        {
          "output_type": "stream",
          "name": "stdout",
          "text": [
            "+--------+-----------+-------------------+-------------------+----+--------------------+--------------------+--------------------+------+--------+----+--------+----+--------------+--------+----+--------------------+--------+-------------+\n",
            "|      ID|Case Number|               Date|              Block|IUCR|        Primary Type|         Description|Location Description|Arrest|Domestic|Beat|District|Ward|Community Area|FBI Code|Year|          Updated On|DISTRICT|DISTRICT NAME|\n",
            "+--------+-----------+-------------------+-------------------+----+--------------------+--------------------+--------------------+------+--------+----+--------+----+--------------+--------+----+--------------------+--------+-------------+\n",
            "|12536164|   JE439378|2015-09-24 00:00:00|    031XX W 53RD PL|1753|OFFENSE INVOLVING...|SEXUAL ASSAULT OF...|           APARTMENT| false|    true|0923|     009|  14|            63|      02|2015|09/14/2023 03:41:...|       9|      Deering|\n",
            "|13188119|   JG397237|2015-05-15 00:00:00|    041XX W 24TH PL|1754|OFFENSE INVOLVING...|AGGRAVATED SEXUAL...|           APARTMENT|  true|    true|1013|     010|  22|            30|      02|2015|09/14/2023 03:41:...|      10|        Ogden|\n",
            "|13193781|   JG397432|2015-06-18 00:00:00|031XX S KOSTNER AVE|1752|OFFENSE INVOLVING...|AGGRAVATED CRIMIN...|           RESIDENCE| false|    true|1031|     010|  22|            30|      17|2015|09/14/2023 03:43:...|      10|        Ogden|\n",
            "|12755252|   JF308430|2015-08-30 00:00:00|  049XX N DRAKE AVE|1752|OFFENSE INVOLVING...|AGGRAVATED CRIMIN...|           APARTMENT| false|    true|1712|     017|  33|            14|      17|2015|09/16/2023 03:41:...|      17|  Albany Park|\n",
            "|12998264|   JG171087|2015-01-12 12:00:00|   0000X E 122ND ST|1752|OFFENSE INVOLVING...|AGGRAVATED CRIMIN...|           RESIDENCE| false|    true|0532|     005|   9|            53|      17|2015|09/18/2023 03:41:...|       5|      Calumet|\n",
            "+--------+-----------+-------------------+-------------------+----+--------------------+--------------------+--------------------+------+--------+----+--------+----+--------------+--------+----+--------------------+--------+-------------+\n",
            "only showing top 5 rows\n",
            "\n"
          ]
        }
      ]
    },
    {
      "cell_type": "markdown",
      "source": [
        "### Frequently reported non-criminal activity"
      ],
      "metadata": {
        "id": "b5SbLDLdv4EU"
      }
    },
    {
      "cell_type": "code",
      "source": [
        "new_df.cache()\n",
        "new_df.show()"
      ],
      "metadata": {
        "colab": {
          "base_uri": "https://localhost:8080/"
        },
        "id": "BMQw-C32y3cX",
        "outputId": "76fad02d-0d04-44c4-8d05-00bde8181341"
      },
      "execution_count": 749,
      "outputs": [
        {
          "output_type": "stream",
          "name": "stdout",
          "text": [
            "+--------+-----------+-------------------+--------------------+----+--------------------+--------------------+--------------------+------+--------+----+--------+----+--------------+--------+------------+------------+----+--------------------+------------+-------------+--------------------+\n",
            "|      ID|Case Number|               Date|               Block|IUCR|        Primary Type|         Description|Location Description|Arrest|Domestic|Beat|District|Ward|Community Area|FBI Code|X Coordinate|Y Coordinate|Year|          Updated On|    Latitude|    Longitude|            Location|\n",
            "+--------+-----------+-------------------+--------------------+----+--------------------+--------------------+--------------------+------+--------+----+--------+----+--------------+--------+------------+------------+----+--------------------+------------+-------------+--------------------+\n",
            "|12536164|   JE439378|2015-09-24 00:00:00|     031XX W 53RD PL|1753|OFFENSE INVOLVING...|SEXUAL ASSAULT OF...|           APARTMENT| false|    true|0923|     009|  14|            63|      02|        NULL|        NULL|2015|09/14/2023 03:41:...|        NULL|         NULL|                NULL|\n",
            "|13188119|   JG397237|2015-05-15 00:00:00|     041XX W 24TH PL|1754|OFFENSE INVOLVING...|AGGRAVATED SEXUAL...|           APARTMENT|  true|    true|1013|     010|  22|            30|      02|        NULL|        NULL|2015|09/14/2023 03:41:...|        NULL|         NULL|                NULL|\n",
            "|13193781|   JG397432|2015-06-18 00:00:00| 031XX S KOSTNER AVE|1752|OFFENSE INVOLVING...|AGGRAVATED CRIMIN...|           RESIDENCE| false|    true|1031|     010|  22|            30|      17|        NULL|        NULL|2015|09/14/2023 03:43:...|        NULL|         NULL|                NULL|\n",
            "|12755252|   JF308430|2015-08-30 00:00:00|   049XX N DRAKE AVE|1752|OFFENSE INVOLVING...|AGGRAVATED CRIMIN...|           APARTMENT| false|    true|1712|     017|  33|            14|      17|        NULL|        NULL|2015|09/16/2023 03:41:...|        NULL|         NULL|                NULL|\n",
            "|12998264|   JG171087|2015-01-12 12:00:00|    0000X E 122ND ST|1752|OFFENSE INVOLVING...|AGGRAVATED CRIMIN...|           RESIDENCE| false|    true|0532|     005|   9|            53|      17|        NULL|        NULL|2015|09/18/2023 03:41:...|        NULL|         NULL|                NULL|\n",
            "|13216184|   JG430080|2015-01-18 14:00:00|005XX N LAKE SHOR...|1153|  DECEPTIVE PRACTICE|FINANCIAL IDENTIT...|                NULL| false|   false|1834|     018|   2|             8|      11|        NULL|        NULL|2015|09/20/2023 03:42:...|        NULL|         NULL|                NULL|\n",
            "| 9913698|   HY102721|2015-01-03 13:05:00|  087XX S BURLEY AVE|0340|             ROBBERY|ATTEMPT STRONG AR...|CHA PARKING LOT /...| false|   false|0424|     004|  10|            46|      03|     1199185|     1847694|2015|09/25/2023 03:41:...|41.736881094|-87.545825475|(41.736881094, -8...|\n",
            "| 9921622|   HY110847|2015-01-11 03:10:00|    099XX S AVENUE L|0334|             ROBBERY|ATTEMPT ARMED - K...|PARKING LOT / GAR...|  true|   false|0432|     004|  10|            52|      03|     1201809|     1839625|2015|10/04/2023 03:41:...|41.714672873|-87.536485852|(41.714672873, -8...|\n",
            "|13216026|   JG430937|2015-11-05 00:00:00|   082XX S EVANS AVE|1563|         SEX OFFENSE|CRIMINAL SEXUAL A...|           RESIDENCE| false|    true|0631|     006|   6|            44|      17|     1182659|     1850597|2015|10/03/2023 03:41:...|41.745246262|-87.606280915|(41.745246262, -8...|\n",
            "|13224877|   JG293594|2015-11-10 00:01:00|     006XX E 92ND PL|1752|OFFENSE INVOLVING...|AGGRAVATED CRIMIN...|           RESIDENCE| false|   false|0633|     006|   8|            44|      17|        NULL|        NULL|2015|09/28/2023 03:42:...|        NULL|         NULL|                NULL|\n",
            "| 9987361|   HY177313|2015-03-08 22:30:00|130XX S CHAMPLAIN...|0320|             ROBBERY|STRONG ARM - NO W...|           RESIDENCE| false|   false|0533|     005|  10|            54|      03|     1183145|     1818931|2015|09/29/2023 03:41:...|41.658339387|-87.605480757|(41.658339387, -8...|\n",
            "| 9983691|   HY173320|2015-03-05 21:30:00|  075XX S RHODES AVE|031A|             ROBBERY|     ARMED - HANDGUN|              STREET|  true|   false|0624|     006|   6|            69|      03|     1181212|     1855069|2015|10/04/2023 03:41:...|41.757551346|-87.611445429|(41.757551346, -8...|\n",
            "|10044495|   HY233327|2015-04-23 17:45:00|095XX S MICHIGAN AVE|0320|             ROBBERY|STRONG ARM - NO W...|              STREET| false|   false|0511|     005|   9|            49|      03|     1178829|     1841848|2015|09/30/2023 03:41:...|41.721325872|-87.620580034|(41.721325872, -8...|\n",
            "|10056437|   HY239256|2015-04-28 14:23:00|  088XX S BURLEY AVE|0320|             ROBBERY|STRONG ARM - NO W...|            SIDEWALK| false|    true|0424|     004|  10|            46|      03|     1199206|     1846913|2015|09/30/2023 03:41:...|41.734737444|-87.545774722|(41.734737444, -8...|\n",
            "|12561826|   JE470681|2015-11-01 00:00:00| 035XX W MC LEAN AVE|1752|OFFENSE INVOLVING...|AGGRAVATED CRIMIN...|           APARTMENT| false|    true|1413|     014|  26|            22|      17|        NULL|        NULL|2015|09/30/2023 03:41:...|        NULL|         NULL|                NULL|\n",
            "|10178322|   HY366686|2015-08-03 00:00:00|   033XX W NORTH AVE|0610|            BURGLARY|      FORCIBLE ENTRY|          RESTAURANT|  true|   false|1422|     014|  26|            23|      05|     1153776|     1910434|2015|10/09/2023 03:40:...|41.910067641|-87.710524131|(41.910067641, -8...|\n",
            "|13229429|   JG446724|2015-04-27 13:10:00| 028XX W DIVISION ST|1153|  DECEPTIVE PRACTICE|FINANCIAL IDENTIT...|                NULL| false|   false|1211|     012|  26|            24|      11|        NULL|        NULL|2015|10/02/2023 03:42:...|        NULL|         NULL|                NULL|\n",
            "|12910991|   JF496403|2015-12-06 00:00:00|   030XX S AVERS AVE|1752|OFFENSE INVOLVING...|AGGRAVATED CRIMIN...|           RESIDENCE| false|    true|1031|     010|  22|            30|      17|        NULL|        NULL|2015|10/04/2023 03:42:...|        NULL|         NULL|                NULL|\n",
            "|10071169|   HY259458|2015-05-14 06:45:00| 095XX S CHAPPEL AVE|031A|             ROBBERY|     ARMED - HANDGUN|RESIDENCE - PORCH...| false|    true|0431|     004|   7|            51|      03|     1191519|     1841894|2015|10/08/2023 03:41:...|41.721154392|-87.574098209|(41.721154392, -8...|\n",
            "|10027412|   HY216737|2015-04-10 12:00:00|    002XX W 111TH PL|0320|             ROBBERY|STRONG ARM - NO W...|            SIDEWALK| false|    true|0522|     005|   9|            49|      03|     1176725|     1831002|2015|10/09/2023 03:40:...|41.691610463| -87.62861164|(41.691610463, -8...|\n",
            "+--------+-----------+-------------------+--------------------+----+--------------------+--------------------+--------------------+------+--------+----+--------+----+--------------+--------+------------+------------+----+--------------------+------------+-------------+--------------------+\n",
            "only showing top 20 rows\n",
            "\n"
          ]
        }
      ]
    },
    {
      "cell_type": "code",
      "source": [
        "new_df.select('Primary Type').distinct().count()"
      ],
      "metadata": {
        "colab": {
          "base_uri": "https://localhost:8080/"
        },
        "id": "IYgR1xC-v2_X",
        "outputId": "3d8d1efc-2902-4100-c140-e38ce8c17b49"
      },
      "execution_count": 750,
      "outputs": [
        {
          "output_type": "execute_result",
          "data": {
            "text/plain": [
              "33"
            ]
          },
          "metadata": {},
          "execution_count": 750
        }
      ]
    },
    {
      "cell_type": "code",
      "source": [
        "new_df.select('Primary Type').distinct().show(35)"
      ],
      "metadata": {
        "colab": {
          "base_uri": "https://localhost:8080/"
        },
        "id": "vognkhBpv_O-",
        "outputId": "ecf0c3d3-842f-4827-9eb8-1d17c732b75c"
      },
      "execution_count": 751,
      "outputs": [
        {
          "output_type": "stream",
          "name": "stdout",
          "text": [
            "+--------------------+\n",
            "|        Primary Type|\n",
            "+--------------------+\n",
            "|OFFENSE INVOLVING...|\n",
            "|CRIMINAL SEXUAL A...|\n",
            "|            STALKING|\n",
            "|PUBLIC PEACE VIOL...|\n",
            "|           OBSCENITY|\n",
            "|               ARSON|\n",
            "|            GAMBLING|\n",
            "|   CRIMINAL TRESPASS|\n",
            "|             ASSAULT|\n",
            "|      NON - CRIMINAL|\n",
            "|LIQUOR LAW VIOLATION|\n",
            "| MOTOR VEHICLE THEFT|\n",
            "|               THEFT|\n",
            "|             BATTERY|\n",
            "|             ROBBERY|\n",
            "|            HOMICIDE|\n",
            "|    PUBLIC INDECENCY|\n",
            "| CRIM SEXUAL ASSAULT|\n",
            "|   HUMAN TRAFFICKING|\n",
            "|        INTIMIDATION|\n",
            "|        PROSTITUTION|\n",
            "|  DECEPTIVE PRACTICE|\n",
            "|CONCEALED CARRY L...|\n",
            "|         SEX OFFENSE|\n",
            "|     CRIMINAL DAMAGE|\n",
            "|           NARCOTICS|\n",
            "|        NON-CRIMINAL|\n",
            "|       OTHER OFFENSE|\n",
            "|          KIDNAPPING|\n",
            "|            BURGLARY|\n",
            "|   WEAPONS VIOLATION|\n",
            "|OTHER NARCOTIC VI...|\n",
            "|INTERFERENCE WITH...|\n",
            "+--------------------+\n",
            "\n"
          ]
        }
      ]
    },
    {
      "cell_type": "code",
      "source": [
        "new_df.groupBy('Location Description').count().orderBy('count', ascending=False).show(3)"
      ],
      "metadata": {
        "colab": {
          "base_uri": "https://localhost:8080/"
        },
        "id": "vmTvWsXewlCV",
        "outputId": "dcaafb3f-634e-4fe3-b276-693e77a9a00d"
      },
      "execution_count": 752,
      "outputs": [
        {
          "output_type": "stream",
          "name": "stdout",
          "text": [
            "+--------------------+-----+\n",
            "|Location Description|count|\n",
            "+--------------------+-----+\n",
            "|              STREET|60896|\n",
            "|           RESIDENCE|41984|\n",
            "|           APARTMENT|35153|\n",
            "+--------------------+-----+\n",
            "only showing top 3 rows\n",
            "\n"
          ]
        }
      ]
    },
    {
      "cell_type": "code",
      "source": [
        "non_criminal = new_df.filter((col('Primary Type')=='NON-CRIMINAL') | (col('Primary Type')=='NON - CRIMINAL'))\n",
        "non_criminal.show(50, truncate=False)"
      ],
      "metadata": {
        "colab": {
          "base_uri": "https://localhost:8080/"
        },
        "id": "l-U9Xsw7wIZ1",
        "outputId": "9fe49284-2fc7-457d-aad2-d38aa539d7c9"
      },
      "execution_count": 753,
      "outputs": [
        {
          "output_type": "stream",
          "name": "stdout",
          "text": [
            "+--------+-----------+-------------------+----------------------+----+--------------+-------------------------------------------+----------------------------------------------+------+--------+----+--------+----+--------------+--------+------------+------------+----+----------------------+------------+-------------+-----------------------------+\n",
            "|ID      |Case Number|Date               |Block                 |IUCR|Primary Type  |Description                                |Location Description                          |Arrest|Domestic|Beat|District|Ward|Community Area|FBI Code|X Coordinate|Y Coordinate|Year|Updated On            |Latitude    |Longitude    |Location                     |\n",
            "+--------+-----------+-------------------+----------------------+----+--------------+-------------------------------------------+----------------------------------------------+------+--------+----+--------+----+--------------+--------+------------+------------+----+----------------------+------------+-------------+-----------------------------+\n",
            "|9963295 |HY152596   |2015-02-15 15:29:00|024XX S ALBANY AVE    |5094|NON-CRIMINAL  |FOUND PASSPORT                             |APARTMENT                                     |false |false   |1033|010     |12  |30            |26      |1156079     |1887676     |2015|02/10/2018 03:50:01 PM|41.84757122 |-87.702678131|(41.84757122, -87.702678131) |\n",
            "|9917219 |HY106394   |2015-01-06 20:15:00|051XX N MILWAUKEE AVE |5114|NON - CRIMINAL|FOID - REVOCATION                          |POLICE FACILITY/VEH PARKING LOT               |false |false   |1623|016     |45  |11            |26      |1138424     |1933673     |2015|02/10/2018 03:50:01 PM|41.974129858|-87.766357256|(41.974129858, -87.766357256)|\n",
            "|10128364|HY316525   |2015-06-26 10:45:00|035XX S MICHIGAN AVE  |5114|NON - CRIMINAL|FOID - REVOCATION                          |POLICE FACILITY/VEH PARKING LOT               |false |false   |0213|002     |3   |35            |26      |1177772     |1881665     |2015|02/10/2018 03:50:01 PM|41.830611847|-87.623247369|(41.830611847, -87.623247369)|\n",
            "|10132522|HY321435   |2015-06-29 22:23:00|044XX W 76TH ST       |1481|NON-CRIMINAL  |CONCEALED CARRY LICENSE REVOCATION         |STREET                                        |true  |false   |0833|008     |13  |65            |15      |1148140     |1853871     |2015|08/17/2015 03:03:40 PM|41.754961443|-87.732681619|(41.754961443, -87.732681619)|\n",
            "|10064717|HY253344   |2015-05-08 13:15:00|051XX S WENTWORTH AVE |5114|NON - CRIMINAL|FOID - REVOCATION                          |POLICE FACILITY/VEH PARKING LOT               |false |false   |0225|002     |3   |37            |26      |1175826     |1871120     |2015|02/10/2018 03:50:01 PM|41.80171934 |-87.630703621|(41.80171934, -87.630703621) |\n",
            "|10115077|HY304017   |2015-06-16 19:00:00|081XX S WHIPPLE ST    |5114|NON - CRIMINAL|FOID - REVOCATION                          |RESIDENCE                                     |false |false   |0835|008     |18  |70            |26      |1157460     |1850515     |2015|02/10/2018 03:50:01 PM|41.745568408|-87.698616805|(41.745568408, -87.698616805)|\n",
            "|10125981|HY314305   |2015-06-24 15:30:00|021XX N CALIFORNIA AVE|5114|NON - CRIMINAL|FOID - REVOCATION                          |POLICE FACILITY/VEH PARKING LOT               |false |false   |1414|014     |35  |22            |26      |1157345     |1914452     |2015|02/10/2018 03:50:01 PM|41.921021491|-87.69730355 |(41.921021491, -87.69730355) |\n",
            "|10127418|HY315600   |2015-06-25 15:30:00|022XX W 51ST ST       |5114|NON - CRIMINAL|FOID - REVOCATION                          |RESIDENCE                                     |false |false   |0931|009     |16  |63            |26      |1162194     |1870807     |2015|02/10/2018 03:50:01 PM|41.801155339|-87.68070621 |(41.801155339, -87.68070621) |\n",
            "|10124614|HY313353   |2015-06-23 17:05:00|085XX W WINNEMAC AVE  |5114|NON - CRIMINAL|FOID - REVOCATION                          |RESIDENCE                                     |true  |false   |1614|016     |41  |76            |26      |1118538     |1932386     |2015|02/10/2018 03:50:01 PM|41.970936043|-87.839512637|(41.970936043, -87.839512637)|\n",
            "|10109156|HY297801   |2015-06-12 09:00:00|053XX S NEVA AVE      |5114|NON - CRIMINAL|FOID - REVOCATION                          |RESIDENCE                                     |false |false   |0811|008     |23  |56            |26      |1129584     |1868411     |2015|02/10/2018 03:50:01 PM|41.795197456|-87.800355525|(41.795197456, -87.800355525)|\n",
            "|10072565|HY261001   |2015-05-14 10:30:00|006XX N WELLS ST      |5114|NON - CRIMINAL|FOID - REVOCATION                          |STREET                                        |false |false   |1832|018     |42  |8             |26      |1174623     |1904537     |2015|02/10/2018 03:50:01 PM|41.89344506 |-87.634117632|(41.89344506, -87.634117632) |\n",
            "|9968609 |HY157483   |2015-02-20 08:00:00|063XX W 64TH PL       |5114|NON - CRIMINAL|FOID - REVOCATION                          |APARTMENT                                     |false |false   |0812|008     |13  |64            |26      |1135244     |1861076     |2015|02/10/2018 03:50:01 PM|41.774970703|-87.779772911|(41.774970703, -87.779772911)|\n",
            "|10062441|HY250685   |2015-05-07 13:20:00|012XX S HARDING AVE   |5114|NON - CRIMINAL|FOID - REVOCATION                          |RESIDENCE                                     |false |false   |1011|010     |24  |29            |26      |1150243     |1894129     |2015|02/10/2018 03:50:01 PM|41.865394646|-87.723928428|(41.865394646, -87.723928428)|\n",
            "|9938719 |HY127540   |2015-01-24 20:55:00|133XX S BALTIMORE AVE |5113|NON-CRIMINAL  |GUN OFFENDER NOTIFICATION-NO CONTACT       |STREET                                        |false |false   |0433|004     |10  |55            |26      |1199102     |1817091     |2015|02/10/2018 03:50:01 PM|41.652905626|-87.547152913|(41.652905626, -87.547152913)|\n",
            "|10127785|HY316123   |2015-06-25 22:45:00|051XX N MILWAUKEE AVE |5114|NON - CRIMINAL|FOID - REVOCATION                          |POLICE FACILITY/VEH PARKING LOT               |true  |false   |1623|016     |45  |11            |26      |1138424     |1933673     |2015|02/10/2018 03:50:01 PM|41.974129858|-87.766357256|(41.974129858, -87.766357256)|\n",
            "|10233370|HY421530   |2015-09-13 10:45:00|010XX S MENARD AVE    |5114|NON - CRIMINAL|FOID - REVOCATION                          |RESIDENCE                                     |true  |false   |1513|015     |29  |25            |26      |1137869     |1895239     |2015|02/10/2018 03:50:01 PM|41.868672696|-87.769327726|(41.868672696, -87.769327726)|\n",
            "|10336794|HY527983   |2015-10-26 14:00:00|006XX N STATE ST      |5093|NON-CRIMINAL  |LOST PASSPORT                              |OTHER                                         |false |false   |1832|018     |42  |8             |26      |1176262     |1904268     |2015|02/10/2018 03:50:01 PM|41.8926701  |-87.628106353|(41.8926701, -87.628106353)  |\n",
            "|10157940|HY347539   |2015-07-08 10:30:00|016XX W CHICAGO AVE   |5093|NON-CRIMINAL  |LOST PASSPORT                              |STREET                                        |false |false   |1215|012     |1   |24            |26      |1165158     |1905410     |2015|02/10/2018 03:50:01 PM|41.896047034|-87.668854221|(41.896047034, -87.668854221)|\n",
            "|10290745|HY478502   |2015-10-26 16:00:00|004XX W DIVERSEY PKWY |5093|NON-CRIMINAL  |LOST PASSPORT                              |SIDEWALK                                      |false |false   |1934|019     |44  |6             |26      |1172533     |1918887     |2015|02/10/2018 03:50:01 PM|41.932868651|-87.641368196|(41.932868651, -87.641368196)|\n",
            "|10212100|HY398571   |2015-08-26 17:45:00|017XX S STATE ST      |0585|NON-CRIMINAL  |NOTIFICATION OF STALKING - NO CONTACT ORDER|POLICE FACILITY/VEH PARKING LOT               |true  |true    |0131|001     |3   |33            |26      |1176607     |1891853     |2015|09/07/2021 03:41:02 PM|41.858594819|-87.627214427|(41.858594819, -87.627214427)|\n",
            "|10241515|HY429346   |2015-09-19 07:45:00|051XX N MILWAUKEE AVE |5114|NON - CRIMINAL|FOID - REVOCATION                          |POLICE FACILITY/VEH PARKING LOT               |true  |false   |1623|016     |45  |11            |26      |1138424     |1933673     |2015|02/10/2018 03:50:01 PM|41.974129858|-87.766357256|(41.974129858, -87.766357256)|\n",
            "|10213039|HY398172   |2015-08-26 11:45:00|0000X W TERMINAL ST   |5093|NON-CRIMINAL  |LOST PASSPORT                              |AIRPORT TERMINAL UPPER LEVEL - SECURE AREA    |false |false   |1653|016     |41  |76            |26      |1101811     |1934419     |2015|02/10/2018 03:50:01 PM|41.976762981|-87.900983721|(41.976762981, -87.900983721)|\n",
            "|10316326|HY505345   |2015-11-17 19:30:00|051XX S WENTWORTH AVE |5114|NON-CRIMINAL  |FOID - REVOCATION                          |POLICE FACILITY/VEH PARKING LOT               |true  |true    |0225|002     |3   |37            |26      |NULL        |NULL        |2015|02/09/2018 03:44:29 PM|NULL        |NULL         |NULL                         |\n",
            "|10280097|HY468448   |2015-10-19 18:50:00|033XX W OGDEN AVE     |5114|NON - CRIMINAL|FOID - REVOCATION                          |POLICE FACILITY/VEH PARKING LOT               |false |false   |1024|010     |24  |29            |26      |1154489     |1891024     |2015|02/10/2018 03:50:01 PM|41.856790413|-87.708424071|(41.856790413, -87.708424071)|\n",
            "|10181019|HY369010   |2015-08-01 10:15:00|079XX S KEDZIE AVE    |5114|NON - CRIMINAL|FOID - REVOCATION                          |RESIDENCE                                     |false |false   |0835|008     |18  |70            |26      |1156427     |1851731     |2015|02/10/2018 03:50:01 PM|41.748926157|-87.70236927 |(41.748926157, -87.70236927) |\n",
            "|10277370|HY465290   |2015-10-16 20:00:00|100XX W OHARE ST      |5093|NON-CRIMINAL  |LOST PASSPORT                              |AIRCRAFT                                      |false |false   |1651|016     |41  |76            |26      |1100658     |1934241     |2015|02/10/2018 03:50:01 PM|41.976290414|-87.905227221|(41.976290414, -87.905227221)|\n",
            "|10344075|HY535016   |2015-12-12 20:50:00|025XX W 80TH PL       |5114|NON - CRIMINAL|FOID - REVOCATION                          |VEHICLE NON-COMMERCIAL                        |false |false   |0835|008     |18  |70            |26      |1160683     |1851174     |2015|02/10/2018 03:50:01 PM|41.747310961|-87.68678891 |(41.747310961, -87.68678891) |\n",
            "|10296800|HY485235   |2015-09-30 17:00:00|008XX N MAPLEWOOD AVE |5093|NON-CRIMINAL  |LOST PASSPORT                              |SIDEWALK                                      |false |false   |1211|012     |1   |24            |26      |1159246     |1905582     |2015|02/10/2018 03:50:01 PM|41.896642608|-87.690563055|(41.896642608, -87.690563055)|\n",
            "|10385966|HZ122461   |2015-11-20 15:00:00|010XX S MONITOR AVE   |5093|NON-CRIMINAL  |LOST PASSPORT                              |RESIDENCE                                     |false |false   |1513|015     |29  |25            |26      |NULL        |NULL        |2015|02/09/2018 03:44:29 PM|NULL        |NULL         |NULL                         |\n",
            "|10351482|HY541941   |2015-12-13 08:30:00|100XX W OHARE ST      |5093|NON-CRIMINAL  |LOST PASSPORT                              |AIRPORT TERMINAL UPPER LEVEL - NON-SECURE AREA|false |false   |1651|016     |41  |76            |26      |1100658     |1934241     |2015|02/10/2018 03:50:01 PM|41.976290414|-87.905227221|(41.976290414, -87.905227221)|\n",
            "|10221247|HY406742   |2015-09-01 22:00:00|031XX W HARRISON ST   |5114|NON - CRIMINAL|FOID - REVOCATION                          |POLICE FACILITY/VEH PARKING LOT               |false |false   |1134|011     |24  |27            |26      |1155457     |1897193     |2015|02/10/2018 03:50:01 PM|41.873699424|-87.704705156|(41.873699424, -87.704705156)|\n",
            "|10202049|HY389275   |2015-08-19 18:38:00|025XX W MARQUETTE RD  |5114|NON - CRIMINAL|FOID - REVOCATION                          |APARTMENT                                     |false |false   |0832|008     |15  |66            |26      |1160388     |1860136     |2015|02/10/2018 03:50:01 PM|41.771910102|-87.687623385|(41.771910102, -87.687623385)|\n",
            "|10325994|HY516457   |2015-11-26 23:30:00|001XX W HUBBARD ST    |5093|NON-CRIMINAL  |LOST PASSPORT                              |RESTAURANT                                    |false |false   |1831|018     |42  |8             |26      |1175301     |1903292     |2015|02/10/2018 03:50:01 PM|41.890013524|-87.631664996|(41.890013524, -87.631664996)|\n",
            "|10300617|HY489191   |2015-11-03 15:00:00|031XX S HALSTED ST    |5114|NON - CRIMINAL|FOID - REVOCATION                          |RESIDENCE                                     |false |false   |0913|009     |11  |60            |26      |1171479     |1884120     |2015|02/10/2018 03:50:01 PM|41.837489008|-87.646264459|(41.837489008, -87.646264459)|\n",
            "|10579978|HZ328710   |2015-12-25 09:00:00|036XX W FULLERTON AVE |5093|NON-CRIMINAL  |LOST PASSPORT                              |SIDEWALK                                      |false |false   |2525|025     |35  |22            |26      |NULL        |NULL        |2015|06/30/2016 03:51:05 PM|NULL        |NULL         |NULL                         |\n",
            "|11420921|HY535672   |2015-12-13 14:34:00|100XX W OHARE ST      |5093|NON-CRIMINAL  |LOST PASSPORT                              |AIRPORT TERMINAL LOWER LEVEL - NON-SECURE AREA|false |false   |1651|016     |41  |76            |26      |NULL        |NULL        |2015|08/21/2018 04:05:53 PM|NULL        |NULL         |NULL                         |\n",
            "+--------+-----------+-------------------+----------------------+----+--------------+-------------------------------------------+----------------------------------------------+------+--------+----+--------+----+--------------+--------+------------+------------+----+----------------------+------------+-------------+-----------------------------+\n",
            "\n"
          ]
        }
      ]
    },
    {
      "cell_type": "code",
      "source": [
        "from os import truncate\n",
        "non_criminal.groupBy(col('Description')).count().orderBy('count', ascending=False).show(truncate=False)"
      ],
      "metadata": {
        "colab": {
          "base_uri": "https://localhost:8080/"
        },
        "id": "f3FX7-NpwfXJ",
        "outputId": "ba51d80d-a44a-4173-abc6-e608cb1eb4aa"
      },
      "execution_count": 754,
      "outputs": [
        {
          "output_type": "stream",
          "name": "stdout",
          "text": [
            "+-------------------------------------------+-----+\n",
            "|Description                                |count|\n",
            "+-------------------------------------------+-----+\n",
            "|FOID - REVOCATION                          |21   |\n",
            "|LOST PASSPORT                              |11   |\n",
            "|CONCEALED CARRY LICENSE REVOCATION         |1    |\n",
            "|FOUND PASSPORT                             |1    |\n",
            "|GUN OFFENDER NOTIFICATION-NO CONTACT       |1    |\n",
            "|NOTIFICATION OF STALKING - NO CONTACT ORDER|1    |\n",
            "+-------------------------------------------+-----+\n",
            "\n"
          ]
        }
      ]
    },
    {
      "cell_type": "markdown",
      "source": [
        "#### Which Day of the Week Has the Most Reported Crime !"
      ],
      "metadata": {
        "id": "h-70Pfenyjtf"
      }
    },
    {
      "cell_type": "code",
      "source": [
        "from pyspark.sql.functions import dayofweek, date_format"
      ],
      "metadata": {
        "id": "u3Ffn7OAx4K9"
      },
      "execution_count": 755,
      "outputs": []
    },
    {
      "cell_type": "code",
      "source": [
        "help(dayofweek)"
      ],
      "metadata": {
        "colab": {
          "base_uri": "https://localhost:8080/"
        },
        "id": "2CeyvjLvzIen",
        "outputId": "9abf9d77-a662-456b-d9fb-e75c20501800"
      },
      "execution_count": 756,
      "outputs": [
        {
          "output_type": "stream",
          "name": "stdout",
          "text": [
            "Help on function dayofweek in module pyspark.sql.functions:\n",
            "\n",
            "dayofweek(col: 'ColumnOrName') -> pyspark.sql.column.Column\n",
            "    Extract the day of the week of a given date/timestamp as integer.\n",
            "    Ranges from 1 for a Sunday through to 7 for a Saturday\n",
            "    \n",
            "    .. versionadded:: 2.3.0\n",
            "    \n",
            "    .. versionchanged:: 3.4.0\n",
            "        Supports Spark Connect.\n",
            "    \n",
            "    Parameters\n",
            "    ----------\n",
            "    col : :class:`~pyspark.sql.Column` or str\n",
            "        target date/timestamp column to work on.\n",
            "    \n",
            "    Returns\n",
            "    -------\n",
            "    :class:`~pyspark.sql.Column`\n",
            "        day of the week for given date/timestamp as integer.\n",
            "    \n",
            "    Examples\n",
            "    --------\n",
            "    >>> df = spark.createDataFrame([('2015-04-08',)], ['dt'])\n",
            "    >>> df.select(dayofweek('dt').alias('day')).collect()\n",
            "    [Row(day=4)]\n",
            "\n"
          ]
        }
      ]
    },
    {
      "cell_type": "code",
      "source": [
        "new_csv.select(col('Date'), dayofweek(col('Date'))).show(5)"
      ],
      "metadata": {
        "colab": {
          "base_uri": "https://localhost:8080/"
        },
        "id": "toP3Lc_AzKui",
        "outputId": "2ff49901-21d3-46bf-86e4-86fc10bfe842"
      },
      "execution_count": 757,
      "outputs": [
        {
          "output_type": "stream",
          "name": "stdout",
          "text": [
            "+-------------------+---------------+\n",
            "|               Date|dayofweek(Date)|\n",
            "+-------------------+---------------+\n",
            "|2015-09-24 00:00:00|              5|\n",
            "|2015-05-15 00:00:00|              6|\n",
            "|2015-06-18 00:00:00|              5|\n",
            "|2015-08-30 00:00:00|              1|\n",
            "|2015-01-12 12:00:00|              2|\n",
            "+-------------------+---------------+\n",
            "only showing top 5 rows\n",
            "\n"
          ]
        }
      ]
    },
    {
      "cell_type": "code",
      "source": [
        "from pyspark.sql.functions import  date_format"
      ],
      "metadata": {
        "id": "v0pT8qKlzq0r"
      },
      "execution_count": 758,
      "outputs": []
    },
    {
      "cell_type": "code",
      "source": [
        "help(date_format)"
      ],
      "metadata": {
        "colab": {
          "base_uri": "https://localhost:8080/"
        },
        "id": "GUz55G2dzevI",
        "outputId": "7aef3d05-87ba-4a02-9c29-8cbd71109f37"
      },
      "execution_count": 759,
      "outputs": [
        {
          "output_type": "stream",
          "name": "stdout",
          "text": [
            "Help on function date_format in module pyspark.sql.functions:\n",
            "\n",
            "date_format(date: 'ColumnOrName', format: str) -> pyspark.sql.column.Column\n",
            "    Converts a date/timestamp/string to a value of string in the format specified by the date\n",
            "    format given by the second argument.\n",
            "    \n",
            "    A pattern could be for instance `dd.MM.yyyy` and could return a string like '18.03.1993'. All\n",
            "    pattern letters of `datetime pattern`_. can be used.\n",
            "    \n",
            "    .. _datetime pattern: https://spark.apache.org/docs/latest/sql-ref-datetime-pattern.html\n",
            "    \n",
            "    .. versionadded:: 1.5.0\n",
            "    \n",
            "    .. versionchanged:: 3.4.0\n",
            "        Supports Spark Connect.\n",
            "    \n",
            "    Notes\n",
            "    -----\n",
            "    Whenever possible, use specialized functions like `year`.\n",
            "    \n",
            "    Parameters\n",
            "    ----------\n",
            "    date : :class:`~pyspark.sql.Column` or str\n",
            "        input column of values to format.\n",
            "    format: str\n",
            "        format to use to represent datetime values.\n",
            "    \n",
            "    Returns\n",
            "    -------\n",
            "    :class:`~pyspark.sql.Column`\n",
            "        string value representing formatted datetime.\n",
            "    \n",
            "    Examples\n",
            "    --------\n",
            "    >>> df = spark.createDataFrame([('2015-04-08',)], ['dt'])\n",
            "    >>> df.select(date_format('dt', 'MM/dd/yyy').alias('date')).collect()\n",
            "    [Row(date='04/08/2015')]\n",
            "\n"
          ]
        }
      ]
    },
    {
      "cell_type": "code",
      "source": [
        "new_df.select(col('Date'), dayofweek(col('Date')), date_format(col('Date'),'E')).show(5)"
      ],
      "metadata": {
        "colab": {
          "base_uri": "https://localhost:8080/"
        },
        "id": "opzJx7z6zo0L",
        "outputId": "6d9d62eb-2aed-4d0d-c881-2745450e1285"
      },
      "execution_count": 760,
      "outputs": [
        {
          "output_type": "stream",
          "name": "stdout",
          "text": [
            "+-------------------+---------------+--------------------+\n",
            "|               Date|dayofweek(Date)|date_format(Date, E)|\n",
            "+-------------------+---------------+--------------------+\n",
            "|2015-09-24 00:00:00|              5|                 Thu|\n",
            "|2015-05-15 00:00:00|              6|                 Fri|\n",
            "|2015-06-18 00:00:00|              5|                 Thu|\n",
            "|2015-08-30 00:00:00|              1|                 Sun|\n",
            "|2015-01-12 12:00:00|              2|                 Mon|\n",
            "+-------------------+---------------+--------------------+\n",
            "only showing top 5 rows\n",
            "\n"
          ]
        }
      ]
    },
    {
      "cell_type": "code",
      "source": [
        "day_count_df = new_df.groupBy(date_format(col('Date'),'E')).count().orderBy('count', ascending=False)"
      ],
      "metadata": {
        "id": "7XSggxqfz4Ch"
      },
      "execution_count": 761,
      "outputs": []
    },
    {
      "cell_type": "code",
      "source": [
        "day_count_df.show()"
      ],
      "metadata": {
        "colab": {
          "base_uri": "https://localhost:8080/"
        },
        "id": "Jq3tJIXx0Gnm",
        "outputId": "2fe409bc-2138-4950-a4f1-a13be03ff61a"
      },
      "execution_count": 762,
      "outputs": [
        {
          "output_type": "stream",
          "name": "stdout",
          "text": [
            "+--------------------+-----+\n",
            "|date_format(Date, E)|count|\n",
            "+--------------------+-----+\n",
            "|                 Fri|39154|\n",
            "|                 Thu|38473|\n",
            "|                 Sat|38087|\n",
            "|                 Mon|37730|\n",
            "|                 Wed|37480|\n",
            "|                 Sun|37419|\n",
            "|                 Tue|37105|\n",
            "+--------------------+-----+\n",
            "\n"
          ]
        }
      ]
    },
    {
      "cell_type": "code",
      "source": [
        "day_count_df = day_count_df.withColumnRenamed('date_format(Date, E)', 'Day')\n",
        "\n",
        "# Show the DataFrame after renaming the column\n",
        "day_count_df.show()"
      ],
      "metadata": {
        "colab": {
          "base_uri": "https://localhost:8080/"
        },
        "id": "qlWezzuT1HeP",
        "outputId": "d0ab289b-5373-4572-e4a9-f8e954763528"
      },
      "execution_count": 763,
      "outputs": [
        {
          "output_type": "stream",
          "name": "stdout",
          "text": [
            "+---+-----+\n",
            "|Day|count|\n",
            "+---+-----+\n",
            "|Fri|39154|\n",
            "|Thu|38473|\n",
            "|Sat|38087|\n",
            "|Mon|37730|\n",
            "|Wed|37480|\n",
            "|Sun|37419|\n",
            "|Tue|37105|\n",
            "+---+-----+\n",
            "\n"
          ]
        }
      ]
    },
    {
      "cell_type": "code",
      "source": [
        "# Convert Spark DataFrame to Pandas DataFrame\n",
        "day_count_df_pandas = day_count_df.toPandas()\n",
        "\n",
        "# Show the Pandas DataFrame\n",
        "print(day_count_df_pandas)\n"
      ],
      "metadata": {
        "colab": {
          "base_uri": "https://localhost:8080/"
        },
        "id": "1HtNXwbt0kvz",
        "outputId": "029d5300-66ab-4f11-a6c9-c191405e6b0e"
      },
      "execution_count": 764,
      "outputs": [
        {
          "output_type": "stream",
          "name": "stdout",
          "text": [
            "   Day  count\n",
            "0  Fri  39154\n",
            "1  Thu  38473\n",
            "2  Sat  38087\n",
            "3  Mon  37730\n",
            "4  Wed  37480\n",
            "5  Sun  37419\n",
            "6  Tue  37105\n"
          ]
        }
      ]
    },
    {
      "cell_type": "code",
      "source": [
        "import matplotlib.pyplot as plt\n",
        "\n",
        "# Convert Spark DataFrame to Pandas DataFrame\n",
        "day_count_df_pandas = day_count_df.toPandas()\n",
        "\n",
        "\n",
        "\n",
        "# Create a bar plot\n",
        "plt.figure(figsize=(8, 6))\n",
        "plt.bar(day_count_df_pandas['Day'], day_count_df_pandas['count'])\n",
        "plt.xlabel('Day of the Week')\n",
        "plt.ylabel('Count')\n",
        "plt.title('Number of Incidents by Day of the Week')\n",
        "plt.show()\n"
      ],
      "metadata": {
        "colab": {
          "base_uri": "https://localhost:8080/",
          "height": 564
        },
        "id": "9ld-Ag3L02Mz",
        "outputId": "33d61ce4-31c1-4c57-c70f-123b2284939d"
      },
      "execution_count": 765,
      "outputs": [
        {
          "output_type": "display_data",
          "data": {
            "text/plain": [
              "<Figure size 800x600 with 1 Axes>"
            ],
            "image/png": "[encoded data removed]"
          },
          "metadata": {}
        }
      ]
    },
    {
      "cell_type": "markdown",
      "source": [
        "#### **RDD SETUP**"
      ],
      "metadata": {
        "id": "YbcYkuEDxhEt"
      }
    },
    {
      "cell_type": "code",
      "source": [
        "from pyspark import SparkContext\n",
        "\n",
        "# Initialize SparkContext\n",
        "sc = SparkContext.getOrCreate()\n",
        "\n",
        "# Read text file into RDD\n",
        "police_station_rdd = sc.textFile('sample_data/police_station.csv')\n"
      ],
      "metadata": {
        "id": "8ogV1Xt-zWOC"
      },
      "execution_count": 777,
      "outputs": []
    },
    {
      "cell_type": "code",
      "source": [
        "police_station_rdd.first()"
      ],
      "metadata": {
        "colab": {
          "base_uri": "https://localhost:8080/",
          "height": 53
        },
        "id": "Ont4qw1zySTl",
        "outputId": "090a60b4-d99a-4f0e-e5ff-4e9b4fb5952c"
      },
      "execution_count": 778,
      "outputs": [
        {
          "output_type": "execute_result",
          "data": {
            "text/plain": [
              "'DISTRICT,DISTRICT NAME,ADDRESS,CITY,STATE,ZIP,WEBSITE,PHONE,FAX,TTY,X COORDINATE,Y COORDINATE,LATITUDE,LONGITUDE,LOCATION'"
            ],
            "application/vnd.google.colaboratory.intrinsic+json": {
              "type": "string"
            }
          },
          "metadata": {},
          "execution_count": 778
        }
      ]
    },
    {
      "cell_type": "code",
      "source": [
        "police_station_rdd.show(5)"
      ],
      "metadata": {
        "colab": {
          "base_uri": "https://localhost:8080/",
          "height": 144
        },
        "id": "nJhdlcjZ1R6J",
        "outputId": "c7f648e2-c955-4315-fce8-bae1be1ed53a"
      },
      "execution_count": 787,
      "outputs": [
        {
          "output_type": "error",
          "ename": "AttributeError",
          "evalue": "'RDD' object has no attribute 'show'",
          "traceback": [
            "\u001b[0;31m---------------------------------------------------------------------------\u001b[0m",
            "\u001b[0;31mAttributeError\u001b[0m                            Traceback (most recent call last)",
            "\u001b[0;32m<ipython-input-787-06576e657a7e>\u001b[0m in \u001b[0;36m<cell line: 1>\u001b[0;34m()\u001b[0m\n\u001b[0;32m----> 1\u001b[0;31m \u001b[0mpolice_station_rdd\u001b[0m\u001b[0;34m.\u001b[0m\u001b[0mshow\u001b[0m\u001b[0;34m(\u001b[0m\u001b[0;36m5\u001b[0m\u001b[0;34m)\u001b[0m\u001b[0;34m\u001b[0m\u001b[0;34m\u001b[0m\u001b[0m\n\u001b[0m",
            "\u001b[0;31mAttributeError\u001b[0m: 'RDD' object has no attribute 'show'"
          ]
        }
      ]
    },
    {
      "cell_type": "code",
      "source": [
        "ps_header = police_station_rdd.first()"
      ],
      "metadata": {
        "id": "AxQc1FYYyY9e"
      },
      "execution_count": 779,
      "outputs": []
    },
    {
      "cell_type": "code",
      "source": [
        "ps_rest = police_station_rdd.filter(lambda line: line != ps_header)\n",
        "ps_rest.first()"
      ],
      "metadata": {
        "colab": {
          "base_uri": "https://localhost:8080/",
          "height": 53
        },
        "id": "zsejZzgIygz7",
        "outputId": "5d9ee0c4-9788-4bdb-cb24-732fe252d3f3"
      },
      "execution_count": 783,
      "outputs": [
        {
          "output_type": "execute_result",
          "data": {
            "text/plain": [
              "'Headquarters,Headquarters,3510 S Michigan Ave,Chicago,IL,60653,http://home.chicagopolice.org,,,,1177731.401,1881697.404,41.83070169,-87.62339535,\"(41.8307016873, -87.6233953459)\"'"
            ],
            "application/vnd.google.colaboratory.intrinsic+json": {
              "type": "string"
            }
          },
          "metadata": {},
          "execution_count": 783
        }
      ]
    },
    {
      "cell_type": "markdown",
      "source": [
        "How many police stations ?"
      ],
      "metadata": {
        "id": "n5IZFkwszhoi"
      }
    },
    {
      "cell_type": "code",
      "source": [
        "ps_rest.map(lambda line: line.split(',')).count()"
      ],
      "metadata": {
        "colab": {
          "base_uri": "https://localhost:8080/"
        },
        "id": "LiiP6IpTy2Tl",
        "outputId": "ca01227f-f73a-412c-887e-0fb0f18c8e55"
      },
      "execution_count": 785,
      "outputs": [
        {
          "output_type": "execute_result",
          "data": {
            "text/plain": [
              "22"
            ]
          },
          "metadata": {},
          "execution_count": 785
        }
      ]
    },
    {
      "cell_type": "markdown",
      "source": [
        "Display the District ID, District Name, Address and Zip for the police station with District ID 7"
      ],
      "metadata": {
        "id": "IhBsquUi0JD_"
      }
    },
    {
      "cell_type": "code",
      "source": [
        "ps_rest.filter(lambda line: line.split(',')[0]=='7').map(lambda line: (line.split(',')[0],\n",
        "                                                                       line.split(',')[1],\n",
        "                                                                       line.split(',')[2],\n",
        "                                                                       line.split(',')[5])).collect()"
      ],
      "metadata": {
        "colab": {
          "base_uri": "https://localhost:8080/"
        },
        "id": "n17kqO94z4NX",
        "outputId": "237c8540-2a20-4020-b82d-3019e59f9a7e"
      },
      "execution_count": 786,
      "outputs": [
        {
          "output_type": "execute_result",
          "data": {
            "text/plain": [
              "[('7', 'Englewood', '1438 W 63rd St', '60636')]"
            ]
          },
          "metadata": {},
          "execution_count": 786
        }
      ]
    },
    {
      "cell_type": "markdown",
      "source": [
        "Police station 10 and 11 are geographically close to each other. Display the District ID, District Name, and address and zip code"
      ],
      "metadata": {
        "id": "wRzUF_Z4038-"
      }
    },
    {
      "cell_type": "code",
      "source": [
        "ps_rest.filter(lambda line: line.split(',')[0] in ['10', '11']).map(lambda line: (line.split(',')[0],\n",
        "                                                                       line.split(',')[1],\n",
        "                                                                       line.split(',')[2],\n",
        "                                                                       line.split(',')[5])).collect()"
      ],
      "metadata": {
        "colab": {
          "base_uri": "https://localhost:8080/"
        },
        "id": "Zak_3kbg0w4m",
        "outputId": "8fd3950c-b986-4e46-a9a4-8f085a2bed79"
      },
      "execution_count": 788,
      "outputs": [
        {
          "output_type": "execute_result",
          "data": {
            "text/plain": [
              "[('10', 'Ogden', '3315 W Ogden Ave', '60623'),\n",
              " ('11', 'Harrison', '3151 W Harrison St', '60612')]"
            ]
          },
          "metadata": {},
          "execution_count": 788
        }
      ]
    }
  ]
}